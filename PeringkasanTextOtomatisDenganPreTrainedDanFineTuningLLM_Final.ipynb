{
  "nbformat": 4,
  "nbformat_minor": 0,
  "metadata": {
    "colab": {
      "provenance": [],
      "gpuType": "T4"
    },
    "kernelspec": {
      "name": "python3",
      "display_name": "Python 3"
    },
    "language_info": {
      "name": "python"
    },
    "accelerator": "GPU",
    "widgets": {
      "application/vnd.jupyter.widget-state+json": {
        "4907a7ae86f14b988eeb6ade2fcbdd39": {
          "model_module": "@jupyter-widgets/controls",
          "model_name": "HBoxModel",
          "model_module_version": "1.5.0",
          "state": {
            "_dom_classes": [],
            "_model_module": "@jupyter-widgets/controls",
            "_model_module_version": "1.5.0",
            "_model_name": "HBoxModel",
            "_view_count": null,
            "_view_module": "@jupyter-widgets/controls",
            "_view_module_version": "1.5.0",
            "_view_name": "HBoxView",
            "box_style": "",
            "children": [
              "IPY_MODEL_fe6ff7e0473743b3912d49bb72522f85",
              "IPY_MODEL_bbf707c6d3d54c79896eca91b0138242",
              "IPY_MODEL_6b311915fb0142bcaa40410ca403d94f"
            ],
            "layout": "IPY_MODEL_c0dbc443cdca4ea1aa4758fcb3cb109b"
          }
        },
        "fe6ff7e0473743b3912d49bb72522f85": {
          "model_module": "@jupyter-widgets/controls",
          "model_name": "HTMLModel",
          "model_module_version": "1.5.0",
          "state": {
            "_dom_classes": [],
            "_model_module": "@jupyter-widgets/controls",
            "_model_module_version": "1.5.0",
            "_model_name": "HTMLModel",
            "_view_count": null,
            "_view_module": "@jupyter-widgets/controls",
            "_view_module_version": "1.5.0",
            "_view_name": "HTMLView",
            "description": "",
            "description_tooltip": null,
            "layout": "IPY_MODEL_027ee22b886243cb896ff2a2fb27aa0f",
            "placeholder": "​",
            "style": "IPY_MODEL_51105a021e254db89293227b1bde53d9",
            "value": "Loading checkpoint shards: 100%"
          }
        },
        "bbf707c6d3d54c79896eca91b0138242": {
          "model_module": "@jupyter-widgets/controls",
          "model_name": "FloatProgressModel",
          "model_module_version": "1.5.0",
          "state": {
            "_dom_classes": [],
            "_model_module": "@jupyter-widgets/controls",
            "_model_module_version": "1.5.0",
            "_model_name": "FloatProgressModel",
            "_view_count": null,
            "_view_module": "@jupyter-widgets/controls",
            "_view_module_version": "1.5.0",
            "_view_name": "ProgressView",
            "bar_style": "success",
            "description": "",
            "description_tooltip": null,
            "layout": "IPY_MODEL_5fcd2b034d5f4646b5d14aa90c9de16a",
            "max": 2,
            "min": 0,
            "orientation": "horizontal",
            "style": "IPY_MODEL_cee8aef5e79c46fbbf7ef69944ce16f7",
            "value": 2
          }
        },
        "6b311915fb0142bcaa40410ca403d94f": {
          "model_module": "@jupyter-widgets/controls",
          "model_name": "HTMLModel",
          "model_module_version": "1.5.0",
          "state": {
            "_dom_classes": [],
            "_model_module": "@jupyter-widgets/controls",
            "_model_module_version": "1.5.0",
            "_model_name": "HTMLModel",
            "_view_count": null,
            "_view_module": "@jupyter-widgets/controls",
            "_view_module_version": "1.5.0",
            "_view_name": "HTMLView",
            "description": "",
            "description_tooltip": null,
            "layout": "IPY_MODEL_ac6b920354a843dd8823210399449ff0",
            "placeholder": "​",
            "style": "IPY_MODEL_13ebd25a8b3f4630be7f00963e7bbbf9",
            "value": " 2/2 [00:08&lt;00:00,  3.37s/it]"
          }
        },
        "c0dbc443cdca4ea1aa4758fcb3cb109b": {
          "model_module": "@jupyter-widgets/base",
          "model_name": "LayoutModel",
          "model_module_version": "1.2.0",
          "state": {
            "_model_module": "@jupyter-widgets/base",
            "_model_module_version": "1.2.0",
            "_model_name": "LayoutModel",
            "_view_count": null,
            "_view_module": "@jupyter-widgets/base",
            "_view_module_version": "1.2.0",
            "_view_name": "LayoutView",
            "align_content": null,
            "align_items": null,
            "align_self": null,
            "border": null,
            "bottom": null,
            "display": null,
            "flex": null,
            "flex_flow": null,
            "grid_area": null,
            "grid_auto_columns": null,
            "grid_auto_flow": null,
            "grid_auto_rows": null,
            "grid_column": null,
            "grid_gap": null,
            "grid_row": null,
            "grid_template_areas": null,
            "grid_template_columns": null,
            "grid_template_rows": null,
            "height": null,
            "justify_content": null,
            "justify_items": null,
            "left": null,
            "margin": null,
            "max_height": null,
            "max_width": null,
            "min_height": null,
            "min_width": null,
            "object_fit": null,
            "object_position": null,
            "order": null,
            "overflow": null,
            "overflow_x": null,
            "overflow_y": null,
            "padding": null,
            "right": null,
            "top": null,
            "visibility": null,
            "width": null
          }
        },
        "027ee22b886243cb896ff2a2fb27aa0f": {
          "model_module": "@jupyter-widgets/base",
          "model_name": "LayoutModel",
          "model_module_version": "1.2.0",
          "state": {
            "_model_module": "@jupyter-widgets/base",
            "_model_module_version": "1.2.0",
            "_model_name": "LayoutModel",
            "_view_count": null,
            "_view_module": "@jupyter-widgets/base",
            "_view_module_version": "1.2.0",
            "_view_name": "LayoutView",
            "align_content": null,
            "align_items": null,
            "align_self": null,
            "border": null,
            "bottom": null,
            "display": null,
            "flex": null,
            "flex_flow": null,
            "grid_area": null,
            "grid_auto_columns": null,
            "grid_auto_flow": null,
            "grid_auto_rows": null,
            "grid_column": null,
            "grid_gap": null,
            "grid_row": null,
            "grid_template_areas": null,
            "grid_template_columns": null,
            "grid_template_rows": null,
            "height": null,
            "justify_content": null,
            "justify_items": null,
            "left": null,
            "margin": null,
            "max_height": null,
            "max_width": null,
            "min_height": null,
            "min_width": null,
            "object_fit": null,
            "object_position": null,
            "order": null,
            "overflow": null,
            "overflow_x": null,
            "overflow_y": null,
            "padding": null,
            "right": null,
            "top": null,
            "visibility": null,
            "width": null
          }
        },
        "51105a021e254db89293227b1bde53d9": {
          "model_module": "@jupyter-widgets/controls",
          "model_name": "DescriptionStyleModel",
          "model_module_version": "1.5.0",
          "state": {
            "_model_module": "@jupyter-widgets/controls",
            "_model_module_version": "1.5.0",
            "_model_name": "DescriptionStyleModel",
            "_view_count": null,
            "_view_module": "@jupyter-widgets/base",
            "_view_module_version": "1.2.0",
            "_view_name": "StyleView",
            "description_width": ""
          }
        },
        "5fcd2b034d5f4646b5d14aa90c9de16a": {
          "model_module": "@jupyter-widgets/base",
          "model_name": "LayoutModel",
          "model_module_version": "1.2.0",
          "state": {
            "_model_module": "@jupyter-widgets/base",
            "_model_module_version": "1.2.0",
            "_model_name": "LayoutModel",
            "_view_count": null,
            "_view_module": "@jupyter-widgets/base",
            "_view_module_version": "1.2.0",
            "_view_name": "LayoutView",
            "align_content": null,
            "align_items": null,
            "align_self": null,
            "border": null,
            "bottom": null,
            "display": null,
            "flex": null,
            "flex_flow": null,
            "grid_area": null,
            "grid_auto_columns": null,
            "grid_auto_flow": null,
            "grid_auto_rows": null,
            "grid_column": null,
            "grid_gap": null,
            "grid_row": null,
            "grid_template_areas": null,
            "grid_template_columns": null,
            "grid_template_rows": null,
            "height": null,
            "justify_content": null,
            "justify_items": null,
            "left": null,
            "margin": null,
            "max_height": null,
            "max_width": null,
            "min_height": null,
            "min_width": null,
            "object_fit": null,
            "object_position": null,
            "order": null,
            "overflow": null,
            "overflow_x": null,
            "overflow_y": null,
            "padding": null,
            "right": null,
            "top": null,
            "visibility": null,
            "width": null
          }
        },
        "cee8aef5e79c46fbbf7ef69944ce16f7": {
          "model_module": "@jupyter-widgets/controls",
          "model_name": "ProgressStyleModel",
          "model_module_version": "1.5.0",
          "state": {
            "_model_module": "@jupyter-widgets/controls",
            "_model_module_version": "1.5.0",
            "_model_name": "ProgressStyleModel",
            "_view_count": null,
            "_view_module": "@jupyter-widgets/base",
            "_view_module_version": "1.2.0",
            "_view_name": "StyleView",
            "bar_color": null,
            "description_width": ""
          }
        },
        "ac6b920354a843dd8823210399449ff0": {
          "model_module": "@jupyter-widgets/base",
          "model_name": "LayoutModel",
          "model_module_version": "1.2.0",
          "state": {
            "_model_module": "@jupyter-widgets/base",
            "_model_module_version": "1.2.0",
            "_model_name": "LayoutModel",
            "_view_count": null,
            "_view_module": "@jupyter-widgets/base",
            "_view_module_version": "1.2.0",
            "_view_name": "LayoutView",
            "align_content": null,
            "align_items": null,
            "align_self": null,
            "border": null,
            "bottom": null,
            "display": null,
            "flex": null,
            "flex_flow": null,
            "grid_area": null,
            "grid_auto_columns": null,
            "grid_auto_flow": null,
            "grid_auto_rows": null,
            "grid_column": null,
            "grid_gap": null,
            "grid_row": null,
            "grid_template_areas": null,
            "grid_template_columns": null,
            "grid_template_rows": null,
            "height": null,
            "justify_content": null,
            "justify_items": null,
            "left": null,
            "margin": null,
            "max_height": null,
            "max_width": null,
            "min_height": null,
            "min_width": null,
            "object_fit": null,
            "object_position": null,
            "order": null,
            "overflow": null,
            "overflow_x": null,
            "overflow_y": null,
            "padding": null,
            "right": null,
            "top": null,
            "visibility": null,
            "width": null
          }
        },
        "13ebd25a8b3f4630be7f00963e7bbbf9": {
          "model_module": "@jupyter-widgets/controls",
          "model_name": "DescriptionStyleModel",
          "model_module_version": "1.5.0",
          "state": {
            "_model_module": "@jupyter-widgets/controls",
            "_model_module_version": "1.5.0",
            "_model_name": "DescriptionStyleModel",
            "_view_count": null,
            "_view_module": "@jupyter-widgets/base",
            "_view_module_version": "1.2.0",
            "_view_name": "StyleView",
            "description_width": ""
          }
        },
        "3264cd6a975246e1bb8963a3b76f0b5a": {
          "model_module": "@jupyter-widgets/controls",
          "model_name": "HBoxModel",
          "model_module_version": "1.5.0",
          "state": {
            "_dom_classes": [],
            "_model_module": "@jupyter-widgets/controls",
            "_model_module_version": "1.5.0",
            "_model_name": "HBoxModel",
            "_view_count": null,
            "_view_module": "@jupyter-widgets/controls",
            "_view_module_version": "1.5.0",
            "_view_name": "HBoxView",
            "box_style": "",
            "children": [
              "IPY_MODEL_46f10d219b024400bb47d84a74151170",
              "IPY_MODEL_10d2b0b659f747f28ba974fa93374eff",
              "IPY_MODEL_e9ec62e3e0eb4025bcf1971ac89cd1d9"
            ],
            "layout": "IPY_MODEL_988c1143a62b4a489fb7ddacae722c81"
          }
        },
        "46f10d219b024400bb47d84a74151170": {
          "model_module": "@jupyter-widgets/controls",
          "model_name": "HTMLModel",
          "model_module_version": "1.5.0",
          "state": {
            "_dom_classes": [],
            "_model_module": "@jupyter-widgets/controls",
            "_model_module_version": "1.5.0",
            "_model_name": "HTMLModel",
            "_view_count": null,
            "_view_module": "@jupyter-widgets/controls",
            "_view_module_version": "1.5.0",
            "_view_name": "HTMLView",
            "description": "",
            "description_tooltip": null,
            "layout": "IPY_MODEL_c1e9a92d10354054b11f2af54b057c0f",
            "placeholder": "​",
            "style": "IPY_MODEL_d3e95adf2b2f42ec901745eedd330812",
            "value": "Loading checkpoint shards: 100%"
          }
        },
        "10d2b0b659f747f28ba974fa93374eff": {
          "model_module": "@jupyter-widgets/controls",
          "model_name": "FloatProgressModel",
          "model_module_version": "1.5.0",
          "state": {
            "_dom_classes": [],
            "_model_module": "@jupyter-widgets/controls",
            "_model_module_version": "1.5.0",
            "_model_name": "FloatProgressModel",
            "_view_count": null,
            "_view_module": "@jupyter-widgets/controls",
            "_view_module_version": "1.5.0",
            "_view_name": "ProgressView",
            "bar_style": "success",
            "description": "",
            "description_tooltip": null,
            "layout": "IPY_MODEL_eb0dccc306104ddbba3eec34d37bd915",
            "max": 2,
            "min": 0,
            "orientation": "horizontal",
            "style": "IPY_MODEL_181d394d196b46dbb118a514237a664c",
            "value": 2
          }
        },
        "e9ec62e3e0eb4025bcf1971ac89cd1d9": {
          "model_module": "@jupyter-widgets/controls",
          "model_name": "HTMLModel",
          "model_module_version": "1.5.0",
          "state": {
            "_dom_classes": [],
            "_model_module": "@jupyter-widgets/controls",
            "_model_module_version": "1.5.0",
            "_model_name": "HTMLModel",
            "_view_count": null,
            "_view_module": "@jupyter-widgets/controls",
            "_view_module_version": "1.5.0",
            "_view_name": "HTMLView",
            "description": "",
            "description_tooltip": null,
            "layout": "IPY_MODEL_334e5b171f0a45c4855f3c757d8b0c1e",
            "placeholder": "​",
            "style": "IPY_MODEL_1fa711bab15046358b139cad3604c7c8",
            "value": " 2/2 [00:02&lt;00:00,  1.20s/it]"
          }
        },
        "988c1143a62b4a489fb7ddacae722c81": {
          "model_module": "@jupyter-widgets/base",
          "model_name": "LayoutModel",
          "model_module_version": "1.2.0",
          "state": {
            "_model_module": "@jupyter-widgets/base",
            "_model_module_version": "1.2.0",
            "_model_name": "LayoutModel",
            "_view_count": null,
            "_view_module": "@jupyter-widgets/base",
            "_view_module_version": "1.2.0",
            "_view_name": "LayoutView",
            "align_content": null,
            "align_items": null,
            "align_self": null,
            "border": null,
            "bottom": null,
            "display": null,
            "flex": null,
            "flex_flow": null,
            "grid_area": null,
            "grid_auto_columns": null,
            "grid_auto_flow": null,
            "grid_auto_rows": null,
            "grid_column": null,
            "grid_gap": null,
            "grid_row": null,
            "grid_template_areas": null,
            "grid_template_columns": null,
            "grid_template_rows": null,
            "height": null,
            "justify_content": null,
            "justify_items": null,
            "left": null,
            "margin": null,
            "max_height": null,
            "max_width": null,
            "min_height": null,
            "min_width": null,
            "object_fit": null,
            "object_position": null,
            "order": null,
            "overflow": null,
            "overflow_x": null,
            "overflow_y": null,
            "padding": null,
            "right": null,
            "top": null,
            "visibility": null,
            "width": null
          }
        },
        "c1e9a92d10354054b11f2af54b057c0f": {
          "model_module": "@jupyter-widgets/base",
          "model_name": "LayoutModel",
          "model_module_version": "1.2.0",
          "state": {
            "_model_module": "@jupyter-widgets/base",
            "_model_module_version": "1.2.0",
            "_model_name": "LayoutModel",
            "_view_count": null,
            "_view_module": "@jupyter-widgets/base",
            "_view_module_version": "1.2.0",
            "_view_name": "LayoutView",
            "align_content": null,
            "align_items": null,
            "align_self": null,
            "border": null,
            "bottom": null,
            "display": null,
            "flex": null,
            "flex_flow": null,
            "grid_area": null,
            "grid_auto_columns": null,
            "grid_auto_flow": null,
            "grid_auto_rows": null,
            "grid_column": null,
            "grid_gap": null,
            "grid_row": null,
            "grid_template_areas": null,
            "grid_template_columns": null,
            "grid_template_rows": null,
            "height": null,
            "justify_content": null,
            "justify_items": null,
            "left": null,
            "margin": null,
            "max_height": null,
            "max_width": null,
            "min_height": null,
            "min_width": null,
            "object_fit": null,
            "object_position": null,
            "order": null,
            "overflow": null,
            "overflow_x": null,
            "overflow_y": null,
            "padding": null,
            "right": null,
            "top": null,
            "visibility": null,
            "width": null
          }
        },
        "d3e95adf2b2f42ec901745eedd330812": {
          "model_module": "@jupyter-widgets/controls",
          "model_name": "DescriptionStyleModel",
          "model_module_version": "1.5.0",
          "state": {
            "_model_module": "@jupyter-widgets/controls",
            "_model_module_version": "1.5.0",
            "_model_name": "DescriptionStyleModel",
            "_view_count": null,
            "_view_module": "@jupyter-widgets/base",
            "_view_module_version": "1.2.0",
            "_view_name": "StyleView",
            "description_width": ""
          }
        },
        "eb0dccc306104ddbba3eec34d37bd915": {
          "model_module": "@jupyter-widgets/base",
          "model_name": "LayoutModel",
          "model_module_version": "1.2.0",
          "state": {
            "_model_module": "@jupyter-widgets/base",
            "_model_module_version": "1.2.0",
            "_model_name": "LayoutModel",
            "_view_count": null,
            "_view_module": "@jupyter-widgets/base",
            "_view_module_version": "1.2.0",
            "_view_name": "LayoutView",
            "align_content": null,
            "align_items": null,
            "align_self": null,
            "border": null,
            "bottom": null,
            "display": null,
            "flex": null,
            "flex_flow": null,
            "grid_area": null,
            "grid_auto_columns": null,
            "grid_auto_flow": null,
            "grid_auto_rows": null,
            "grid_column": null,
            "grid_gap": null,
            "grid_row": null,
            "grid_template_areas": null,
            "grid_template_columns": null,
            "grid_template_rows": null,
            "height": null,
            "justify_content": null,
            "justify_items": null,
            "left": null,
            "margin": null,
            "max_height": null,
            "max_width": null,
            "min_height": null,
            "min_width": null,
            "object_fit": null,
            "object_position": null,
            "order": null,
            "overflow": null,
            "overflow_x": null,
            "overflow_y": null,
            "padding": null,
            "right": null,
            "top": null,
            "visibility": null,
            "width": null
          }
        },
        "181d394d196b46dbb118a514237a664c": {
          "model_module": "@jupyter-widgets/controls",
          "model_name": "ProgressStyleModel",
          "model_module_version": "1.5.0",
          "state": {
            "_model_module": "@jupyter-widgets/controls",
            "_model_module_version": "1.5.0",
            "_model_name": "ProgressStyleModel",
            "_view_count": null,
            "_view_module": "@jupyter-widgets/base",
            "_view_module_version": "1.2.0",
            "_view_name": "StyleView",
            "bar_color": null,
            "description_width": ""
          }
        },
        "334e5b171f0a45c4855f3c757d8b0c1e": {
          "model_module": "@jupyter-widgets/base",
          "model_name": "LayoutModel",
          "model_module_version": "1.2.0",
          "state": {
            "_model_module": "@jupyter-widgets/base",
            "_model_module_version": "1.2.0",
            "_model_name": "LayoutModel",
            "_view_count": null,
            "_view_module": "@jupyter-widgets/base",
            "_view_module_version": "1.2.0",
            "_view_name": "LayoutView",
            "align_content": null,
            "align_items": null,
            "align_self": null,
            "border": null,
            "bottom": null,
            "display": null,
            "flex": null,
            "flex_flow": null,
            "grid_area": null,
            "grid_auto_columns": null,
            "grid_auto_flow": null,
            "grid_auto_rows": null,
            "grid_column": null,
            "grid_gap": null,
            "grid_row": null,
            "grid_template_areas": null,
            "grid_template_columns": null,
            "grid_template_rows": null,
            "height": null,
            "justify_content": null,
            "justify_items": null,
            "left": null,
            "margin": null,
            "max_height": null,
            "max_width": null,
            "min_height": null,
            "min_width": null,
            "object_fit": null,
            "object_position": null,
            "order": null,
            "overflow": null,
            "overflow_x": null,
            "overflow_y": null,
            "padding": null,
            "right": null,
            "top": null,
            "visibility": null,
            "width": null
          }
        },
        "1fa711bab15046358b139cad3604c7c8": {
          "model_module": "@jupyter-widgets/controls",
          "model_name": "DescriptionStyleModel",
          "model_module_version": "1.5.0",
          "state": {
            "_model_module": "@jupyter-widgets/controls",
            "_model_module_version": "1.5.0",
            "_model_name": "DescriptionStyleModel",
            "_view_count": null,
            "_view_module": "@jupyter-widgets/base",
            "_view_module_version": "1.2.0",
            "_view_name": "StyleView",
            "description_width": ""
          }
        },
        "0b0c8f4a1ecc48539406d1b399e74cdd": {
          "model_module": "@jupyter-widgets/controls",
          "model_name": "HBoxModel",
          "model_module_version": "1.5.0",
          "state": {
            "_dom_classes": [],
            "_model_module": "@jupyter-widgets/controls",
            "_model_module_version": "1.5.0",
            "_model_name": "HBoxModel",
            "_view_count": null,
            "_view_module": "@jupyter-widgets/controls",
            "_view_module_version": "1.5.0",
            "_view_name": "HBoxView",
            "box_style": "",
            "children": [
              "IPY_MODEL_55bbf7856a2948e883e9bf82f543cfaa",
              "IPY_MODEL_6bcafc1939724f3f8e87c0a511f0d7df",
              "IPY_MODEL_1149a507fd914f2592da7f347f49c943"
            ],
            "layout": "IPY_MODEL_81a516433a03441688457ad65277af5a"
          }
        },
        "55bbf7856a2948e883e9bf82f543cfaa": {
          "model_module": "@jupyter-widgets/controls",
          "model_name": "HTMLModel",
          "model_module_version": "1.5.0",
          "state": {
            "_dom_classes": [],
            "_model_module": "@jupyter-widgets/controls",
            "_model_module_version": "1.5.0",
            "_model_name": "HTMLModel",
            "_view_count": null,
            "_view_module": "@jupyter-widgets/controls",
            "_view_module_version": "1.5.0",
            "_view_name": "HTMLView",
            "description": "",
            "description_tooltip": null,
            "layout": "IPY_MODEL_e55c53fb455f46d4bf34340d33b27dde",
            "placeholder": "​",
            "style": "IPY_MODEL_f999766816844ec9b80a5d79d55e7f43",
            "value": "Map: 100%"
          }
        },
        "6bcafc1939724f3f8e87c0a511f0d7df": {
          "model_module": "@jupyter-widgets/controls",
          "model_name": "FloatProgressModel",
          "model_module_version": "1.5.0",
          "state": {
            "_dom_classes": [],
            "_model_module": "@jupyter-widgets/controls",
            "_model_module_version": "1.5.0",
            "_model_name": "FloatProgressModel",
            "_view_count": null,
            "_view_module": "@jupyter-widgets/controls",
            "_view_module_version": "1.5.0",
            "_view_name": "ProgressView",
            "bar_style": "success",
            "description": "",
            "description_tooltip": null,
            "layout": "IPY_MODEL_c2ec872983b24bbb85c143204819ba37",
            "max": 100,
            "min": 0,
            "orientation": "horizontal",
            "style": "IPY_MODEL_6991a0c6ae544f93b2d5f75f7e55bc0d",
            "value": 100
          }
        },
        "1149a507fd914f2592da7f347f49c943": {
          "model_module": "@jupyter-widgets/controls",
          "model_name": "HTMLModel",
          "model_module_version": "1.5.0",
          "state": {
            "_dom_classes": [],
            "_model_module": "@jupyter-widgets/controls",
            "_model_module_version": "1.5.0",
            "_model_name": "HTMLModel",
            "_view_count": null,
            "_view_module": "@jupyter-widgets/controls",
            "_view_module_version": "1.5.0",
            "_view_name": "HTMLView",
            "description": "",
            "description_tooltip": null,
            "layout": "IPY_MODEL_97418143f9104fb19cceb2718dcfbda0",
            "placeholder": "​",
            "style": "IPY_MODEL_852ea27b300f41d1a60c003ad67b2eaa",
            "value": " 100/100 [00:01&lt;00:00, 67.57 examples/s]"
          }
        },
        "81a516433a03441688457ad65277af5a": {
          "model_module": "@jupyter-widgets/base",
          "model_name": "LayoutModel",
          "model_module_version": "1.2.0",
          "state": {
            "_model_module": "@jupyter-widgets/base",
            "_model_module_version": "1.2.0",
            "_model_name": "LayoutModel",
            "_view_count": null,
            "_view_module": "@jupyter-widgets/base",
            "_view_module_version": "1.2.0",
            "_view_name": "LayoutView",
            "align_content": null,
            "align_items": null,
            "align_self": null,
            "border": null,
            "bottom": null,
            "display": null,
            "flex": null,
            "flex_flow": null,
            "grid_area": null,
            "grid_auto_columns": null,
            "grid_auto_flow": null,
            "grid_auto_rows": null,
            "grid_column": null,
            "grid_gap": null,
            "grid_row": null,
            "grid_template_areas": null,
            "grid_template_columns": null,
            "grid_template_rows": null,
            "height": null,
            "justify_content": null,
            "justify_items": null,
            "left": null,
            "margin": null,
            "max_height": null,
            "max_width": null,
            "min_height": null,
            "min_width": null,
            "object_fit": null,
            "object_position": null,
            "order": null,
            "overflow": null,
            "overflow_x": null,
            "overflow_y": null,
            "padding": null,
            "right": null,
            "top": null,
            "visibility": null,
            "width": null
          }
        },
        "e55c53fb455f46d4bf34340d33b27dde": {
          "model_module": "@jupyter-widgets/base",
          "model_name": "LayoutModel",
          "model_module_version": "1.2.0",
          "state": {
            "_model_module": "@jupyter-widgets/base",
            "_model_module_version": "1.2.0",
            "_model_name": "LayoutModel",
            "_view_count": null,
            "_view_module": "@jupyter-widgets/base",
            "_view_module_version": "1.2.0",
            "_view_name": "LayoutView",
            "align_content": null,
            "align_items": null,
            "align_self": null,
            "border": null,
            "bottom": null,
            "display": null,
            "flex": null,
            "flex_flow": null,
            "grid_area": null,
            "grid_auto_columns": null,
            "grid_auto_flow": null,
            "grid_auto_rows": null,
            "grid_column": null,
            "grid_gap": null,
            "grid_row": null,
            "grid_template_areas": null,
            "grid_template_columns": null,
            "grid_template_rows": null,
            "height": null,
            "justify_content": null,
            "justify_items": null,
            "left": null,
            "margin": null,
            "max_height": null,
            "max_width": null,
            "min_height": null,
            "min_width": null,
            "object_fit": null,
            "object_position": null,
            "order": null,
            "overflow": null,
            "overflow_x": null,
            "overflow_y": null,
            "padding": null,
            "right": null,
            "top": null,
            "visibility": null,
            "width": null
          }
        },
        "f999766816844ec9b80a5d79d55e7f43": {
          "model_module": "@jupyter-widgets/controls",
          "model_name": "DescriptionStyleModel",
          "model_module_version": "1.5.0",
          "state": {
            "_model_module": "@jupyter-widgets/controls",
            "_model_module_version": "1.5.0",
            "_model_name": "DescriptionStyleModel",
            "_view_count": null,
            "_view_module": "@jupyter-widgets/base",
            "_view_module_version": "1.2.0",
            "_view_name": "StyleView",
            "description_width": ""
          }
        },
        "c2ec872983b24bbb85c143204819ba37": {
          "model_module": "@jupyter-widgets/base",
          "model_name": "LayoutModel",
          "model_module_version": "1.2.0",
          "state": {
            "_model_module": "@jupyter-widgets/base",
            "_model_module_version": "1.2.0",
            "_model_name": "LayoutModel",
            "_view_count": null,
            "_view_module": "@jupyter-widgets/base",
            "_view_module_version": "1.2.0",
            "_view_name": "LayoutView",
            "align_content": null,
            "align_items": null,
            "align_self": null,
            "border": null,
            "bottom": null,
            "display": null,
            "flex": null,
            "flex_flow": null,
            "grid_area": null,
            "grid_auto_columns": null,
            "grid_auto_flow": null,
            "grid_auto_rows": null,
            "grid_column": null,
            "grid_gap": null,
            "grid_row": null,
            "grid_template_areas": null,
            "grid_template_columns": null,
            "grid_template_rows": null,
            "height": null,
            "justify_content": null,
            "justify_items": null,
            "left": null,
            "margin": null,
            "max_height": null,
            "max_width": null,
            "min_height": null,
            "min_width": null,
            "object_fit": null,
            "object_position": null,
            "order": null,
            "overflow": null,
            "overflow_x": null,
            "overflow_y": null,
            "padding": null,
            "right": null,
            "top": null,
            "visibility": null,
            "width": null
          }
        },
        "6991a0c6ae544f93b2d5f75f7e55bc0d": {
          "model_module": "@jupyter-widgets/controls",
          "model_name": "ProgressStyleModel",
          "model_module_version": "1.5.0",
          "state": {
            "_model_module": "@jupyter-widgets/controls",
            "_model_module_version": "1.5.0",
            "_model_name": "ProgressStyleModel",
            "_view_count": null,
            "_view_module": "@jupyter-widgets/base",
            "_view_module_version": "1.2.0",
            "_view_name": "StyleView",
            "bar_color": null,
            "description_width": ""
          }
        },
        "97418143f9104fb19cceb2718dcfbda0": {
          "model_module": "@jupyter-widgets/base",
          "model_name": "LayoutModel",
          "model_module_version": "1.2.0",
          "state": {
            "_model_module": "@jupyter-widgets/base",
            "_model_module_version": "1.2.0",
            "_model_name": "LayoutModel",
            "_view_count": null,
            "_view_module": "@jupyter-widgets/base",
            "_view_module_version": "1.2.0",
            "_view_name": "LayoutView",
            "align_content": null,
            "align_items": null,
            "align_self": null,
            "border": null,
            "bottom": null,
            "display": null,
            "flex": null,
            "flex_flow": null,
            "grid_area": null,
            "grid_auto_columns": null,
            "grid_auto_flow": null,
            "grid_auto_rows": null,
            "grid_column": null,
            "grid_gap": null,
            "grid_row": null,
            "grid_template_areas": null,
            "grid_template_columns": null,
            "grid_template_rows": null,
            "height": null,
            "justify_content": null,
            "justify_items": null,
            "left": null,
            "margin": null,
            "max_height": null,
            "max_width": null,
            "min_height": null,
            "min_width": null,
            "object_fit": null,
            "object_position": null,
            "order": null,
            "overflow": null,
            "overflow_x": null,
            "overflow_y": null,
            "padding": null,
            "right": null,
            "top": null,
            "visibility": null,
            "width": null
          }
        },
        "852ea27b300f41d1a60c003ad67b2eaa": {
          "model_module": "@jupyter-widgets/controls",
          "model_name": "DescriptionStyleModel",
          "model_module_version": "1.5.0",
          "state": {
            "_model_module": "@jupyter-widgets/controls",
            "_model_module_version": "1.5.0",
            "_model_name": "DescriptionStyleModel",
            "_view_count": null,
            "_view_module": "@jupyter-widgets/base",
            "_view_module_version": "1.2.0",
            "_view_name": "StyleView",
            "description_width": ""
          }
        },
        "5339f8bdaf4541dd96d180fdd7aea617": {
          "model_module": "@jupyter-widgets/controls",
          "model_name": "HBoxModel",
          "model_module_version": "1.5.0",
          "state": {
            "_dom_classes": [],
            "_model_module": "@jupyter-widgets/controls",
            "_model_module_version": "1.5.0",
            "_model_name": "HBoxModel",
            "_view_count": null,
            "_view_module": "@jupyter-widgets/controls",
            "_view_module_version": "1.5.0",
            "_view_name": "HBoxView",
            "box_style": "",
            "children": [
              "IPY_MODEL_a89c5bb2c84a48488b7366bf27a420c7",
              "IPY_MODEL_3ca83801d9e04aac9237b3eff6b31051",
              "IPY_MODEL_33a690945bb84d1fa8139567bc4fb008"
            ],
            "layout": "IPY_MODEL_3b6f7fd1a70e4807992748052894bf14"
          }
        },
        "a89c5bb2c84a48488b7366bf27a420c7": {
          "model_module": "@jupyter-widgets/controls",
          "model_name": "HTMLModel",
          "model_module_version": "1.5.0",
          "state": {
            "_dom_classes": [],
            "_model_module": "@jupyter-widgets/controls",
            "_model_module_version": "1.5.0",
            "_model_name": "HTMLModel",
            "_view_count": null,
            "_view_module": "@jupyter-widgets/controls",
            "_view_module_version": "1.5.0",
            "_view_name": "HTMLView",
            "description": "",
            "description_tooltip": null,
            "layout": "IPY_MODEL_477358899d014be984e90fb1d0564301",
            "placeholder": "​",
            "style": "IPY_MODEL_aa1e7bde902e418592649b7b84f14502",
            "value": "Map: 100%"
          }
        },
        "3ca83801d9e04aac9237b3eff6b31051": {
          "model_module": "@jupyter-widgets/controls",
          "model_name": "FloatProgressModel",
          "model_module_version": "1.5.0",
          "state": {
            "_dom_classes": [],
            "_model_module": "@jupyter-widgets/controls",
            "_model_module_version": "1.5.0",
            "_model_name": "FloatProgressModel",
            "_view_count": null,
            "_view_module": "@jupyter-widgets/controls",
            "_view_module_version": "1.5.0",
            "_view_name": "ProgressView",
            "bar_style": "success",
            "description": "",
            "description_tooltip": null,
            "layout": "IPY_MODEL_acfcc771801e4f6e89ebb7d5273a7507",
            "max": 100,
            "min": 0,
            "orientation": "horizontal",
            "style": "IPY_MODEL_a9bf5347b8de4bec885b87dbe3edb535",
            "value": 100
          }
        },
        "33a690945bb84d1fa8139567bc4fb008": {
          "model_module": "@jupyter-widgets/controls",
          "model_name": "HTMLModel",
          "model_module_version": "1.5.0",
          "state": {
            "_dom_classes": [],
            "_model_module": "@jupyter-widgets/controls",
            "_model_module_version": "1.5.0",
            "_model_name": "HTMLModel",
            "_view_count": null,
            "_view_module": "@jupyter-widgets/controls",
            "_view_module_version": "1.5.0",
            "_view_name": "HTMLView",
            "description": "",
            "description_tooltip": null,
            "layout": "IPY_MODEL_e17ab578579745a187b5cd87de8f9627",
            "placeholder": "​",
            "style": "IPY_MODEL_f8a4028316fd447194b071b3e1e49990",
            "value": " 100/100 [00:01&lt;00:00, 63.20 examples/s]"
          }
        },
        "3b6f7fd1a70e4807992748052894bf14": {
          "model_module": "@jupyter-widgets/base",
          "model_name": "LayoutModel",
          "model_module_version": "1.2.0",
          "state": {
            "_model_module": "@jupyter-widgets/base",
            "_model_module_version": "1.2.0",
            "_model_name": "LayoutModel",
            "_view_count": null,
            "_view_module": "@jupyter-widgets/base",
            "_view_module_version": "1.2.0",
            "_view_name": "LayoutView",
            "align_content": null,
            "align_items": null,
            "align_self": null,
            "border": null,
            "bottom": null,
            "display": null,
            "flex": null,
            "flex_flow": null,
            "grid_area": null,
            "grid_auto_columns": null,
            "grid_auto_flow": null,
            "grid_auto_rows": null,
            "grid_column": null,
            "grid_gap": null,
            "grid_row": null,
            "grid_template_areas": null,
            "grid_template_columns": null,
            "grid_template_rows": null,
            "height": null,
            "justify_content": null,
            "justify_items": null,
            "left": null,
            "margin": null,
            "max_height": null,
            "max_width": null,
            "min_height": null,
            "min_width": null,
            "object_fit": null,
            "object_position": null,
            "order": null,
            "overflow": null,
            "overflow_x": null,
            "overflow_y": null,
            "padding": null,
            "right": null,
            "top": null,
            "visibility": null,
            "width": null
          }
        },
        "477358899d014be984e90fb1d0564301": {
          "model_module": "@jupyter-widgets/base",
          "model_name": "LayoutModel",
          "model_module_version": "1.2.0",
          "state": {
            "_model_module": "@jupyter-widgets/base",
            "_model_module_version": "1.2.0",
            "_model_name": "LayoutModel",
            "_view_count": null,
            "_view_module": "@jupyter-widgets/base",
            "_view_module_version": "1.2.0",
            "_view_name": "LayoutView",
            "align_content": null,
            "align_items": null,
            "align_self": null,
            "border": null,
            "bottom": null,
            "display": null,
            "flex": null,
            "flex_flow": null,
            "grid_area": null,
            "grid_auto_columns": null,
            "grid_auto_flow": null,
            "grid_auto_rows": null,
            "grid_column": null,
            "grid_gap": null,
            "grid_row": null,
            "grid_template_areas": null,
            "grid_template_columns": null,
            "grid_template_rows": null,
            "height": null,
            "justify_content": null,
            "justify_items": null,
            "left": null,
            "margin": null,
            "max_height": null,
            "max_width": null,
            "min_height": null,
            "min_width": null,
            "object_fit": null,
            "object_position": null,
            "order": null,
            "overflow": null,
            "overflow_x": null,
            "overflow_y": null,
            "padding": null,
            "right": null,
            "top": null,
            "visibility": null,
            "width": null
          }
        },
        "aa1e7bde902e418592649b7b84f14502": {
          "model_module": "@jupyter-widgets/controls",
          "model_name": "DescriptionStyleModel",
          "model_module_version": "1.5.0",
          "state": {
            "_model_module": "@jupyter-widgets/controls",
            "_model_module_version": "1.5.0",
            "_model_name": "DescriptionStyleModel",
            "_view_count": null,
            "_view_module": "@jupyter-widgets/base",
            "_view_module_version": "1.2.0",
            "_view_name": "StyleView",
            "description_width": ""
          }
        },
        "acfcc771801e4f6e89ebb7d5273a7507": {
          "model_module": "@jupyter-widgets/base",
          "model_name": "LayoutModel",
          "model_module_version": "1.2.0",
          "state": {
            "_model_module": "@jupyter-widgets/base",
            "_model_module_version": "1.2.0",
            "_model_name": "LayoutModel",
            "_view_count": null,
            "_view_module": "@jupyter-widgets/base",
            "_view_module_version": "1.2.0",
            "_view_name": "LayoutView",
            "align_content": null,
            "align_items": null,
            "align_self": null,
            "border": null,
            "bottom": null,
            "display": null,
            "flex": null,
            "flex_flow": null,
            "grid_area": null,
            "grid_auto_columns": null,
            "grid_auto_flow": null,
            "grid_auto_rows": null,
            "grid_column": null,
            "grid_gap": null,
            "grid_row": null,
            "grid_template_areas": null,
            "grid_template_columns": null,
            "grid_template_rows": null,
            "height": null,
            "justify_content": null,
            "justify_items": null,
            "left": null,
            "margin": null,
            "max_height": null,
            "max_width": null,
            "min_height": null,
            "min_width": null,
            "object_fit": null,
            "object_position": null,
            "order": null,
            "overflow": null,
            "overflow_x": null,
            "overflow_y": null,
            "padding": null,
            "right": null,
            "top": null,
            "visibility": null,
            "width": null
          }
        },
        "a9bf5347b8de4bec885b87dbe3edb535": {
          "model_module": "@jupyter-widgets/controls",
          "model_name": "ProgressStyleModel",
          "model_module_version": "1.5.0",
          "state": {
            "_model_module": "@jupyter-widgets/controls",
            "_model_module_version": "1.5.0",
            "_model_name": "ProgressStyleModel",
            "_view_count": null,
            "_view_module": "@jupyter-widgets/base",
            "_view_module_version": "1.2.0",
            "_view_name": "StyleView",
            "bar_color": null,
            "description_width": ""
          }
        },
        "e17ab578579745a187b5cd87de8f9627": {
          "model_module": "@jupyter-widgets/base",
          "model_name": "LayoutModel",
          "model_module_version": "1.2.0",
          "state": {
            "_model_module": "@jupyter-widgets/base",
            "_model_module_version": "1.2.0",
            "_model_name": "LayoutModel",
            "_view_count": null,
            "_view_module": "@jupyter-widgets/base",
            "_view_module_version": "1.2.0",
            "_view_name": "LayoutView",
            "align_content": null,
            "align_items": null,
            "align_self": null,
            "border": null,
            "bottom": null,
            "display": null,
            "flex": null,
            "flex_flow": null,
            "grid_area": null,
            "grid_auto_columns": null,
            "grid_auto_flow": null,
            "grid_auto_rows": null,
            "grid_column": null,
            "grid_gap": null,
            "grid_row": null,
            "grid_template_areas": null,
            "grid_template_columns": null,
            "grid_template_rows": null,
            "height": null,
            "justify_content": null,
            "justify_items": null,
            "left": null,
            "margin": null,
            "max_height": null,
            "max_width": null,
            "min_height": null,
            "min_width": null,
            "object_fit": null,
            "object_position": null,
            "order": null,
            "overflow": null,
            "overflow_x": null,
            "overflow_y": null,
            "padding": null,
            "right": null,
            "top": null,
            "visibility": null,
            "width": null
          }
        },
        "f8a4028316fd447194b071b3e1e49990": {
          "model_module": "@jupyter-widgets/controls",
          "model_name": "DescriptionStyleModel",
          "model_module_version": "1.5.0",
          "state": {
            "_model_module": "@jupyter-widgets/controls",
            "_model_module_version": "1.5.0",
            "_model_name": "DescriptionStyleModel",
            "_view_count": null,
            "_view_module": "@jupyter-widgets/base",
            "_view_module_version": "1.2.0",
            "_view_name": "StyleView",
            "description_width": ""
          }
        }
      }
    }
  },
  "cells": [
    {
      "cell_type": "code",
      "execution_count": 1,
      "metadata": {
        "colab": {
          "base_uri": "https://localhost:8080/"
        },
        "id": "6F64eIVGH4VX",
        "outputId": "995795f8-bb2a-4ae7-ae3a-846baa6c3bff"
      },
      "outputs": [
        {
          "output_type": "stream",
          "name": "stdout",
          "text": [
            "Requirement already satisfied: datasets in /usr/local/lib/python3.10/dist-packages (3.2.0)\n",
            "Requirement already satisfied: transformers in /usr/local/lib/python3.10/dist-packages (4.47.1)\n",
            "Requirement already satisfied: evaluate in /usr/local/lib/python3.10/dist-packages (0.4.3)\n",
            "Requirement already satisfied: filelock in /usr/local/lib/python3.10/dist-packages (from datasets) (3.16.1)\n",
            "Requirement already satisfied: numpy>=1.17 in /usr/local/lib/python3.10/dist-packages (from datasets) (1.26.4)\n",
            "Requirement already satisfied: pyarrow>=15.0.0 in /usr/local/lib/python3.10/dist-packages (from datasets) (17.0.0)\n",
            "Requirement already satisfied: dill<0.3.9,>=0.3.0 in /usr/local/lib/python3.10/dist-packages (from datasets) (0.3.8)\n",
            "Requirement already satisfied: pandas in /usr/local/lib/python3.10/dist-packages (from datasets) (2.2.2)\n",
            "Requirement already satisfied: requests>=2.32.2 in /usr/local/lib/python3.10/dist-packages (from datasets) (2.32.3)\n",
            "Requirement already satisfied: tqdm>=4.66.3 in /usr/local/lib/python3.10/dist-packages (from datasets) (4.67.1)\n",
            "Requirement already satisfied: xxhash in /usr/local/lib/python3.10/dist-packages (from datasets) (3.5.0)\n",
            "Requirement already satisfied: multiprocess<0.70.17 in /usr/local/lib/python3.10/dist-packages (from datasets) (0.70.16)\n",
            "Requirement already satisfied: fsspec<=2024.9.0,>=2023.1.0 in /usr/local/lib/python3.10/dist-packages (from fsspec[http]<=2024.9.0,>=2023.1.0->datasets) (2024.9.0)\n",
            "Requirement already satisfied: aiohttp in /usr/local/lib/python3.10/dist-packages (from datasets) (3.11.10)\n",
            "Requirement already satisfied: huggingface-hub>=0.23.0 in /usr/local/lib/python3.10/dist-packages (from datasets) (0.27.0)\n",
            "Requirement already satisfied: packaging in /usr/local/lib/python3.10/dist-packages (from datasets) (24.2)\n",
            "Requirement already satisfied: pyyaml>=5.1 in /usr/local/lib/python3.10/dist-packages (from datasets) (6.0.2)\n",
            "Requirement already satisfied: regex!=2019.12.17 in /usr/local/lib/python3.10/dist-packages (from transformers) (2024.11.6)\n",
            "Requirement already satisfied: tokenizers<0.22,>=0.21 in /usr/local/lib/python3.10/dist-packages (from transformers) (0.21.0)\n",
            "Requirement already satisfied: safetensors>=0.4.1 in /usr/local/lib/python3.10/dist-packages (from transformers) (0.4.5)\n",
            "Requirement already satisfied: aiohappyeyeballs>=2.3.0 in /usr/local/lib/python3.10/dist-packages (from aiohttp->datasets) (2.4.4)\n",
            "Requirement already satisfied: aiosignal>=1.1.2 in /usr/local/lib/python3.10/dist-packages (from aiohttp->datasets) (1.3.2)\n",
            "Requirement already satisfied: async-timeout<6.0,>=4.0 in /usr/local/lib/python3.10/dist-packages (from aiohttp->datasets) (4.0.3)\n",
            "Requirement already satisfied: attrs>=17.3.0 in /usr/local/lib/python3.10/dist-packages (from aiohttp->datasets) (24.3.0)\n",
            "Requirement already satisfied: frozenlist>=1.1.1 in /usr/local/lib/python3.10/dist-packages (from aiohttp->datasets) (1.5.0)\n",
            "Requirement already satisfied: multidict<7.0,>=4.5 in /usr/local/lib/python3.10/dist-packages (from aiohttp->datasets) (6.1.0)\n",
            "Requirement already satisfied: propcache>=0.2.0 in /usr/local/lib/python3.10/dist-packages (from aiohttp->datasets) (0.2.1)\n",
            "Requirement already satisfied: yarl<2.0,>=1.17.0 in /usr/local/lib/python3.10/dist-packages (from aiohttp->datasets) (1.18.3)\n",
            "Requirement already satisfied: typing-extensions>=3.7.4.3 in /usr/local/lib/python3.10/dist-packages (from huggingface-hub>=0.23.0->datasets) (4.12.2)\n",
            "Requirement already satisfied: charset-normalizer<4,>=2 in /usr/local/lib/python3.10/dist-packages (from requests>=2.32.2->datasets) (3.4.0)\n",
            "Requirement already satisfied: idna<4,>=2.5 in /usr/local/lib/python3.10/dist-packages (from requests>=2.32.2->datasets) (3.10)\n",
            "Requirement already satisfied: urllib3<3,>=1.21.1 in /usr/local/lib/python3.10/dist-packages (from requests>=2.32.2->datasets) (2.2.3)\n",
            "Requirement already satisfied: certifi>=2017.4.17 in /usr/local/lib/python3.10/dist-packages (from requests>=2.32.2->datasets) (2024.12.14)\n",
            "Requirement already satisfied: python-dateutil>=2.8.2 in /usr/local/lib/python3.10/dist-packages (from pandas->datasets) (2.8.2)\n",
            "Requirement already satisfied: pytz>=2020.1 in /usr/local/lib/python3.10/dist-packages (from pandas->datasets) (2024.2)\n",
            "Requirement already satisfied: tzdata>=2022.7 in /usr/local/lib/python3.10/dist-packages (from pandas->datasets) (2024.2)\n",
            "Requirement already satisfied: six>=1.5 in /usr/local/lib/python3.10/dist-packages (from python-dateutil>=2.8.2->pandas->datasets) (1.17.0)\n"
          ]
        }
      ],
      "source": [
        "!pip install datasets transformers evaluate"
      ]
    },
    {
      "cell_type": "code",
      "source": [
        "import torch.nn as nn\n",
        "from torch.utils.data import DataLoader\n",
        "import math\n",
        "from tqdm import tqdm\n",
        "from datasets import load_dataset, DatasetDict\n",
        "from transformers import T5Tokenizer, T5ForConditionalGeneration, TrainingArguments, Trainer\n",
        "import matplotlib.pyplot as plt\n",
        "from evaluate import load as load_metric\n",
        "import numpy as np\n",
        "from nltk.translate.bleu_score import sentence_bleu"
      ],
      "metadata": {
        "id": "OZCNZnYXKpRi"
      },
      "execution_count": 2,
      "outputs": []
    },
    {
      "cell_type": "code",
      "source": [
        "# ===== 2. Load Dataset =====\n",
        "dataset = load_dataset(\"csebuetnlp/xlsum\", \"indonesian\")\n",
        "train_data = dataset['train'].shuffle(seed=42).select(range(500))\n",
        "val_data = dataset['validation'].shuffle(seed=42).select(range(200))\n",
        "test_data = dataset['test'].shuffle(seed=42).select(range(200))\n",
        "dataset = DatasetDict({\n",
        "    \"train\": train_data,\n",
        "    \"validation\": val_data,\n",
        "    \"test\": test_data\n",
        "})"
      ],
      "metadata": {
        "id": "rqPkrtJQKrNd",
        "colab": {
          "base_uri": "https://localhost:8080/"
        },
        "outputId": "f906e9ae-7ff8-476d-847d-4a7e80402cce"
      },
      "execution_count": 3,
      "outputs": [
        {
          "output_type": "stream",
          "name": "stderr",
          "text": [
            "/usr/local/lib/python3.10/dist-packages/huggingface_hub/utils/_auth.py:94: UserWarning: \n",
            "The secret `HF_TOKEN` does not exist in your Colab secrets.\n",
            "To authenticate with the Hugging Face Hub, create a token in your settings tab (https://huggingface.co/settings/tokens), set it as secret in your Google Colab and restart your session.\n",
            "You will be able to reuse this secret in all of your notebooks.\n",
            "Please note that authentication is recommended but still optional to access public models or datasets.\n",
            "  warnings.warn(\n"
          ]
        }
      ]
    },
    {
      "cell_type": "code",
      "source": [
        "print(train_data[0])"
      ],
      "metadata": {
        "id": "C5WmwgmPKs3M",
        "colab": {
          "base_uri": "https://localhost:8080/"
        },
        "outputId": "eeb8e981-b41c-47db-e3ab-55c2045dffcd"
      },
      "execution_count": 4,
      "outputs": [
        {
          "output_type": "stream",
          "name": "stdout",
          "text": [
            "{'id': '150408_irak_isis_yazidi', 'url': 'https://www.bbc.com/indonesia/dunia/2015/04/150408_irak_isis_yazidi', 'title': 'ISIS membebaskan penganut Yazidi', 'summary': 'Kelompok militan yang menamakan diri Negara Islam atau ISIS dilaporkan membebaskan sekitar 227 orang sekte Yazidi yang selama ini menjadi tawanan mereka.', 'text': \"Bulan Januari lalu, militan ISIS membebaskan anggota sekte Yazidi yang mereka tahan. Diketahui bahwa mereka yang dilepaskan adalah orang-orang yang sudah berusia lanjut atau dalam keadaan sakit. Komandan pasukan Kurdi, Westa Rasul, menyatakan beberapa di antara yang dilepaskan adalah 'wanita dan anak-anak'. Puluhan ribu penganut sekte Yazidi dipaksa untuk mengungsi ketika ISIS menyerbu desa-desa mereka pada bulan Agustus tahun lalu. Ribuan dari mereka mengungsi hingga ke gunung-gunung di Irak utara. Kelompok militan ini mengutuk keimanan sekte Yazidi dan membunuh ratusan anggota komunitas ini. Perserikatan Bangsa-bangsa menyatakan kemungkinan bahwa ISIS melakukan pemusnahan massal atau genosida terhadap sekte Yazidi. Ribuan lain anggota sekte ini ditangkap dan ditahan. Kebanyakan dari mereka adalah perempuan yang dilaporkan dijual untuk dijadikan budak seks. Bulan Januari lalu, militan ISIS juga membebaskan pengikut sekte Yazidi dari tahanan mereka.\"}\n"
          ]
        }
      ]
    },
    {
      "cell_type": "code",
      "source": [
        "model_name = \"Wikidepia/IndoT5-small\"\n",
        "tokenizer = T5Tokenizer.from_pretrained(model_name)\n",
        "\n",
        "def preprocess_function(examples):\n",
        "    inputs = [\"summarize: \" + \" \".join(doc) for doc in examples[\"text\"]]\n",
        "    targets = examples[\"summary\"]\n",
        "    model_inputs = tokenizer(inputs, max_length=512, truncation=True, padding=\"max_length\")\n",
        "\n",
        "    # Tokenisasi target (summary)\n",
        "    labels = tokenizer(targets, max_length=128, truncation=True, padding=\"max_length\")\n",
        "    model_inputs[\"labels\"] = labels[\"input_ids\"]\n",
        "    return model_inputs\n",
        "\n",
        "# Tokenisasi dataset\n",
        "tokenized_datasets = dataset.map(preprocess_function, batched=True)"
      ],
      "metadata": {
        "id": "rYWF59g_K1Cc",
        "colab": {
          "base_uri": "https://localhost:8080/"
        },
        "outputId": "4b84ffbf-ae57-4d1c-b0ca-c500d85bec3f"
      },
      "execution_count": 5,
      "outputs": [
        {
          "output_type": "stream",
          "name": "stderr",
          "text": [
            "You are using the default legacy behaviour of the <class 'transformers.models.t5.tokenization_t5.T5Tokenizer'>. This is expected, and simply means that the `legacy` (previous) behavior will be used so nothing changes for you. If you want to use the new behaviour, set `legacy=False`. This should only be set if you understand what it means, and thoroughly read the reason why this was added as explained in https://github.com/huggingface/transformers/pull/24565\n"
          ]
        }
      ]
    },
    {
      "cell_type": "code",
      "source": [
        "print(tokenized_datasets['train'][0])\n",
        "print(tokenized_datasets['validation'][0])\n",
        "print(tokenized_datasets['test'][0])"
      ],
      "metadata": {
        "id": "d8yusDkRK4_E",
        "colab": {
          "base_uri": "https://localhost:8080/"
        },
        "outputId": "0ef38b5d-2317-4f6b-e0ac-bc4a3fbd9b29"
      },
      "execution_count": 6,
      "outputs": [
        {
          "output_type": "stream",
          "name": "stdout",
          "text": [
            "{'id': '150408_irak_isis_yazidi', 'url': 'https://www.bbc.com/indonesia/dunia/2015/04/150408_irak_isis_yazidi', 'title': 'ISIS membebaskan penganut Yazidi', 'summary': 'Kelompok militan yang menamakan diri Negara Islam atau ISIS dilaporkan membebaskan sekitar 227 orang sekte Yazidi yang selama ini menjadi tawanan mereka.', 'text': \"Bulan Januari lalu, militan ISIS membebaskan anggota sekte Yazidi yang mereka tahan. Diketahui bahwa mereka yang dilepaskan adalah orang-orang yang sudah berusia lanjut atau dalam keadaan sakit. Komandan pasukan Kurdi, Westa Rasul, menyatakan beberapa di antara yang dilepaskan adalah 'wanita dan anak-anak'. Puluhan ribu penganut sekte Yazidi dipaksa untuk mengungsi ketika ISIS menyerbu desa-desa mereka pada bulan Agustus tahun lalu. Ribuan dari mereka mengungsi hingga ke gunung-gunung di Irak utara. Kelompok militan ini mengutuk keimanan sekte Yazidi dan membunuh ratusan anggota komunitas ini. Perserikatan Bangsa-bangsa menyatakan kemungkinan bahwa ISIS melakukan pemusnahan massal atau genosida terhadap sekte Yazidi. Ribuan lain anggota sekte ini ditangkap dan ditahan. Kebanyakan dari mereka adalah perempuan yang dilaporkan dijual untuk dijadikan budak seks. Bulan Januari lalu, militan ISIS juga membebaskan pengikut sekte Yazidi dari tahanan mereka.\", 'input_ids': [11, 3870, 9317, 1933, 39, 178, 910, 1632, 11, 7, 1941, 413, 11, 7, 1941, 910, 11, 7, 2628, 773, 1632, 11, 7, 1632, 910, 11, 8, 485, 773, 1632, 773, 798, 11, 7, 1941, 124, 110, 124, 110, 485, 320, 485, 1759, 320, 1759, 11, 7, 165, 1573, 11, 7, 1941, 11, 7, 1941, 2293, 2293, 1502, 798, 11, 7, 165, 320, 1573, 798, 320, 1373, 11, 7, 7151, 773, 1099, 773, 3444, 11, 7, 1941, 2293, 485, 320, 2628, 320, 1573, 11, 7, 798, 11, 7, 2829, 11, 7, 1941, 11, 3, 222, 773, 1573, 320, 798, 11, 7, 2829, 910, 773, 1759, 11, 7, 2829, 5125, 11, 7, 485, 320, 2628, 320, 1573, 11, 7, 3444, 11, 7, 1941, 2293, 1099, 773, 1632, 320, 1327, 11, 7, 165, 1573, 11, 7, 1941, 11, 7, 1099, 11, 7, 1632, 11, 7, 2829, 1502, 2628, 11, 7, 1941, 2293, 255, 1502, 2628, 11, 7, 1941, 2293, 3444, 11, 7, 1941, 2293, 165, 910, 1099, 11, 7, 2829, 1759, 320, 2628, 910, 165, 773, 11, 7, 1632, 11, 7, 1941, 7738, 910, 798, 11, 7, 798, 11, 7, 910, 1099, 11, 7, 1632, 11, 7, 485, 1573, 320, 11, 7, 1099, 11, 7, 11, 7, 1941, 165, 11, 7, 1573, 773, 798, 11, 3, 273, 1502, 485, 11, 7, 1941, 1099, 11, 7, 1941, 1327, 11, 7, 165, 910, 1573, 11, 7, 1941, 273, 910, 2628, 1099, 773, 11, 8, 533, 320, 165, 798, 11, 7, 281, 11, 7, 165, 910, 1632, 11, 8, 485, 320, 1941, 3444, 11, 7, 798, 11, 7, 1573, 11, 7, 1941, 1759, 320, 1759, 320, 2628, 11, 7, 1327, 11, 7, 1099, 773, 11, 7, 1941, 798, 11, 7, 2628, 11, 7, 3444, 11, 7, 1941, 2293, 1099, 773, 1632, 320, 1327, 11, 7, 165, 1573, 11, 7, 1941, 11, 7, 1099, 11, 7, 1632, 11, 7, 2829, 11, 2, 5125, 11, 7, 1941, 773, 798, 11, 7, 1099, 11, 7, 1941, 11, 7, 1941, 11, 7, 1573, 255, 11, 7, 1941, 11, 7, 1573, 11, 2, 11, 3, 211, 910, 1632, 910, 2829, 11, 7, 1941, 2628, 773, 1759, 910, 1327, 320, 1941, 2293, 11, 7, 1941, 910, 798, 165, 320, 1573, 798, 320, 1373, 11, 7, 7151, 773, 1099, 773, 1099, 773, 1327, 11, 7, 1573, 165, 11, 7, 910, 1941, 798, 910, 1573, 485, 320, 1941, 2293, 910, 1941, 2293, 165, 773, 1573, 320, 798, 773, 1573, 11, 7, 124, 110, 124, 110, 485, 320, 1941, 3444, 320, 2628, 1759, 910, 1099, 320, 165, 11, 7, 255, 1099, 320, 165, 11, 7, 485, 320, 2628, 320, 1573, 11, 7, 1327, 11, 7, 1099, 11, 7, 1759, 910, 1632, 11, 7, 1941, 100, 2293, 910, 165, 798, 910, 165, 798, 11, 7, 2829, 910, 1941, 1632, 11, 7, 1632, 910, 11, 3, 281, 773, 1759, 910, 11, 7, 1941, 1099, 11, 7, 2628, 773, 485, 320, 2628, 320, 1573, 11, 7, 485, 320, 1941, 2293, 910, 1941, 2293, 165, 773, 2829, 773, 1941, 2293, 2293, 11, 7, 1573, 320, 2293, 910, 1941, 910, 1], 'attention_mask': [1, 1, 1, 1, 1, 1, 1, 1, 1, 1, 1, 1, 1, 1, 1, 1, 1, 1, 1, 1, 1, 1, 1, 1, 1, 1, 1, 1, 1, 1, 1, 1, 1, 1, 1, 1, 1, 1, 1, 1, 1, 1, 1, 1, 1, 1, 1, 1, 1, 1, 1, 1, 1, 1, 1, 1, 1, 1, 1, 1, 1, 1, 1, 1, 1, 1, 1, 1, 1, 1, 1, 1, 1, 1, 1, 1, 1, 1, 1, 1, 1, 1, 1, 1, 1, 1, 1, 1, 1, 1, 1, 1, 1, 1, 1, 1, 1, 1, 1, 1, 1, 1, 1, 1, 1, 1, 1, 1, 1, 1, 1, 1, 1, 1, 1, 1, 1, 1, 1, 1, 1, 1, 1, 1, 1, 1, 1, 1, 1, 1, 1, 1, 1, 1, 1, 1, 1, 1, 1, 1, 1, 1, 1, 1, 1, 1, 1, 1, 1, 1, 1, 1, 1, 1, 1, 1, 1, 1, 1, 1, 1, 1, 1, 1, 1, 1, 1, 1, 1, 1, 1, 1, 1, 1, 1, 1, 1, 1, 1, 1, 1, 1, 1, 1, 1, 1, 1, 1, 1, 1, 1, 1, 1, 1, 1, 1, 1, 1, 1, 1, 1, 1, 1, 1, 1, 1, 1, 1, 1, 1, 1, 1, 1, 1, 1, 1, 1, 1, 1, 1, 1, 1, 1, 1, 1, 1, 1, 1, 1, 1, 1, 1, 1, 1, 1, 1, 1, 1, 1, 1, 1, 1, 1, 1, 1, 1, 1, 1, 1, 1, 1, 1, 1, 1, 1, 1, 1, 1, 1, 1, 1, 1, 1, 1, 1, 1, 1, 1, 1, 1, 1, 1, 1, 1, 1, 1, 1, 1, 1, 1, 1, 1, 1, 1, 1, 1, 1, 1, 1, 1, 1, 1, 1, 1, 1, 1, 1, 1, 1, 1, 1, 1, 1, 1, 1, 1, 1, 1, 1, 1, 1, 1, 1, 1, 1, 1, 1, 1, 1, 1, 1, 1, 1, 1, 1, 1, 1, 1, 1, 1, 1, 1, 1, 1, 1, 1, 1, 1, 1, 1, 1, 1, 1, 1, 1, 1, 1, 1, 1, 1, 1, 1, 1, 1, 1, 1, 1, 1, 1, 1, 1, 1, 1, 1, 1, 1, 1, 1, 1, 1, 1, 1, 1, 1, 1, 1, 1, 1, 1, 1, 1, 1, 1, 1, 1, 1, 1, 1, 1, 1, 1, 1, 1, 1, 1, 1, 1, 1, 1, 1, 1, 1, 1, 1, 1, 1, 1, 1, 1, 1, 1, 1, 1, 1, 1, 1, 1, 1, 1, 1, 1, 1, 1, 1, 1, 1, 1, 1, 1, 1, 1, 1, 1, 1, 1, 1, 1, 1, 1, 1, 1, 1, 1, 1, 1, 1, 1, 1, 1, 1, 1, 1, 1, 1, 1, 1, 1, 1, 1, 1, 1, 1, 1, 1, 1, 1, 1, 1, 1, 1, 1, 1, 1, 1, 1, 1, 1, 1, 1, 1, 1, 1, 1, 1, 1, 1, 1, 1, 1, 1, 1, 1, 1, 1, 1, 1, 1, 1, 1, 1, 1, 1, 1, 1, 1, 1, 1, 1, 1, 1, 1, 1], 'labels': [2521, 11885, 10, 10390, 246, 710, 363, 33, 124, 14539, 2884, 4918, 140, 11, 26706, 53, 13540, 15466, 43, 10, 131, 15, 31, 8059, 45, 3, 1, 0, 0, 0, 0, 0, 0, 0, 0, 0, 0, 0, 0, 0, 0, 0, 0, 0, 0, 0, 0, 0, 0, 0, 0, 0, 0, 0, 0, 0, 0, 0, 0, 0, 0, 0, 0, 0, 0, 0, 0, 0, 0, 0, 0, 0, 0, 0, 0, 0, 0, 0, 0, 0, 0, 0, 0, 0, 0, 0, 0, 0, 0, 0, 0, 0, 0, 0, 0, 0, 0, 0, 0, 0, 0, 0, 0, 0, 0, 0, 0, 0, 0, 0, 0, 0, 0, 0, 0, 0, 0, 0, 0, 0, 0, 0, 0, 0, 0, 0, 0, 0]}\n",
            "{'id': '150406_bisnis_pesta_anak', 'url': 'https://www.bbc.com/indonesia/bisnis/2015/04/150406_bisnis_pesta_anak', 'title': 'Biaya pesta ultah anak kian menggila', 'summary': 'Mengundang para tokoh Disney untuk menari di gelanggang es yang Anda bangun di rumah mungkin sedikit berlebihan untuk merayakan pesta ulang tahun bocah balita.', 'text': 'Perusahaan penyelenggara ulang tahun anak-anak mengatakan, biaya yang dikeluarkan untuk pesta sangat mahal Namun, permintaan semacam itu benar-benar diajukan salah seorang klien perusahaan event organizer bernama Quintessentially Events & Weddings. Pada sebuah musim dingin, perusahaan ini menciptakan tema luar ruangan di dalam ruangan untuk pesta ulang tahun anak-anak. Dengan tema itu, perusahaan tersebut menanam rumput dalam ruangan, lengkap dengan pohon-pohon, bunga, ayunan dan peluncur. Menurut manajer Chloe Astin, mereka mematok harga 100.000 pound atau setara dengan Rp1,9 miliar. Harga itu mencakup makanan kecil untuk orang dewasa, tas pesta, dan suvenir berupa kalung Tiffany kecil untuk anak-anak. Inflasi Dengan kondisi ekonomi saat ini yang diwarnai inflasi, kemeriahan pesta ulang tahun tidak menunjukkan tanda-tanda penurunan. Anak saya baru berusia lima tahun, tapi ia sudah menghadiri pesta ultah dalam berbagai tema. Sebut saja sesi pembuatan pizza di dapur restoran, pelatihan mencetak T-shirt, hingga menginap di hotel. Apakah pesta berbiaya besar ini akan berakhir? Salah satu orang tua mencoba untuk menghadirkan tim Disney on Ice untuk perayaan ulang tahun anak mereka yang ke lima Perusahaan Quintessentially mengatakan permintaan acara ultah mewah kian meningkat. \"Apa yang anak-anak tonton dan cerna telah memberi mereka harapan yang lebih tinggi,\" kata Astin. Alice in Wonderland Steven Duggan, pendiri perusahaan event organizer yang merupakan langganan bintang-bintang ternama seperti Sir Elton John, menyatakan pesta besar-besaran kini digelar untuk merayakan ultah batita alias bayi tiga tahun. Baru-baru ini Duggan menyelenggarakan acara yang menelan biaya sebesar 70.000 pound dengan tema Peter Pan dan Alice in Wonderland untuk merayakan ulang tahun pertama sepasang anak kembar. Biaya tersebut meliputi ongkos mendatangkan artis dan menciptakan wahana permainan. Para tamu diundang untuk \"berjalan di papan\" dalam sebuah pesta dengan tema Peter Pan dan Alice in Wonderland Pesta untuk merayakan ulang tahun pertama balita kembar menelan biaya 70,000 pound Harga ini termasuk alat peraga seperti jamur raksasa yang berwarna-warni Ia mengatakan perusahaannya mematok harga antara 15.000 pound dan 20.000 pound untuk mengatur hari istimewa anak. Tapi ia bilang ia bisa mengatur sesuatu \"setingkat dari apa yang akan Anda lakukan sendiri\" dari harga 5.000 pound. Hollywood Meski melebihi skala normal, banyak orang tua menghabiskan biaya lebih untuk hari istimewa anak mereka. The Young Film Academy, yang bisnis utamanya adalah menjalankan program pembuatan film untuk para remaja, telah membuat 150 film pesta anak-anak tahun lalu, naik dari 120 pada 2013. Walau biaya pesta mulai dari harga 540 pound, namun hampir dari setengah peminat memilih memesan paket paling mahal yaitu MoviePartie yang berbiaya mulai dari 1.950 pound, yang dibintangi oleh anak yang sedang berulang tahun dan teman-teman mereka bak film-film Hollywood. Di Young Film Academy anak-anak bisa membintangi film beserta teman-temannya bak bintang Hollywood \"Ada perasaan yang nyata dari para orang tua untuk melakukan sesuatu yang berbeda dari pesta-pesta yang biasa,\" kata sutradara James Walker. Sifat pasar pesta yang terfragmentasi -seperti kue, menyewa aula dan hiburan - membuat biaya sulit untuk dipantau. Tapi survei tahunan terbaru asuransi LV menunjukkan biaya membesarkan anak sejak lahir sampai 21 tahun menyebutkan total biaya sebesar 229.951 pound. Di antara kolom-kolom biaya, terdapat kolom \"lainnya\"--yang meliputi hadiah ulang tahun dan Natal, serta belajar mengemudi--meningkat 60,2% antara 2003 dan 2015 Bebas hadiah Bill Doherty, profesor Ilmu Sosial Keluarga di Universitas Minnesota, AS, mendirikan kelompok, Birthdays Without Pressure atau Ulang tahun tanpa tekanan, karena alasan-alasan ini. Dia mengatakan kelompok itu berisi para orang tua yang merasa tidak puas dengan eskalasi pesta ulang tahun anak-anak dan kemudian memilih untuk menggelar pesta ultah tanpa hadiah. Sebagai gantinya, orang tua-orang tua itu mengimbau peserta pesta menyumbang untuk amal. Tapi dia memperingatkan bahwa ide ini hanya akan berjalan jika semua orang tua setuju untuk meniadakan tas pesta atau hadiah. Tidak semua anak bisa menerima acara ulang tahun tanpa hadiah Salah satu anggota kelompok yang pernah mengadakan pesta, mengaku putrinya menangis ketika berulang tahun karena salah satu undangan mengejeknya setelah tidak menerima tas suvenir. Anggota kelompok lainnya mengalami penghinaan dari para tetangga karena pesta ultah bertujuan untuk menggalang dana sumbangan. \"Jika Anda tidak melakukan pesta besar, Anda bukan orangtua yang buruk,\" kata Prof Doherty.', 'input_ids': [11, 3870, 9317, 1933, 39, 211, 320, 2628, 910, 165, 11, 7, 2829, 11, 7, 11, 7, 1941, 1327, 320, 1941, 3444, 320, 1632, 320, 1941, 2293, 2293, 11, 7, 2628, 11, 7, 910, 1632, 11, 7, 1941, 2293, 798, 11, 7, 2829, 910, 1941, 11, 7, 1941, 11, 7, 1573, 255, 11, 7, 1941, 11, 7, 1573, 485, 320, 1941, 2293, 11, 7, 798, 11, 7, 1573, 11, 7, 1941, 11, 8, 1759, 773, 11, 7, 3444, 11, 7, 3444, 11, 7, 1941, 2293, 1099, 773, 1573, 320, 1632, 910, 11, 7, 2628, 1573, 11, 7, 1941, 910, 1941, 798, 910, 1573, 1327, 320, 165, 798, 11, 7, 165, 11, 7, 1941, 2293, 11, 7, 798, 485, 11, 7, 2829, 11, 7, 1632, 479, 11, 7, 485, 910, 1941, 11, 8, 1327, 320, 2628, 485, 773, 1941, 798, 11, 7, 11, 7, 1941, 165, 320, 485, 11, 7, 1301, 11, 7, 485, 773, 798, 910, 1759, 320, 1941, 11, 7, 2628, 255, 1759, 320, 1941, 11, 7, 2628, 1099, 773, 11, 7, 7738, 910, 1573, 11, 7, 1941, 165, 11, 7, 1632, 11, 7, 2829, 165, 320, 1502, 2628, 11, 7, 1941, 2293, 1573, 1632, 773, 320, 1941, 1327, 320, 2628, 910, 165, 11, 7, 2829, 11, 7, 11, 7, 1941, 320, 2539, 320, 1941, 798, 1502, 2628, 2293, 11, 7, 1941, 773, 7151, 320, 2628, 1759, 320, 2628, 1941, 11, 7, 485, 11, 7, 1964, 910, 773, 1941, 798, 320, 165, 165, 320, 1941, 798, 773, 11, 7, 1632, 1632, 3444, 314, 2539, 320, 1941, 798, 165, 47, 533, 320, 1099, 1099, 773, 1941, 2293, 165, 11, 3, 211, 11, 7, 1099, 11, 7, 165, 320, 1759, 910, 11, 7, 2829, 485, 910, 165, 773, 485, 1099, 773, 1941, 2293, 773, 1941, 11, 8, 1327, 320, 2628, 910, 165, 11, 7, 2829, 11, 7, 11, 7, 1941, 773, 1941, 773, 485, 320, 1941, 1301, 773, 1327, 798, 11, 7, 1573, 11, 7, 1941, 798, 320, 485, 11, 7, 1632, 910, 11, 7, 2628, 2628, 910, 11, 7, 1941, 2293, 11, 7, 1941, 1099, 773, 1099, 11, 7, 1632, 11, 7, 485, 2628, 910, 11, 7, 1941, 2293, 11, 7, 1941, 910, 1941, 798, 910, 1573, 1327, 320, 165, 798, 11, 7, 910, 1632, 11, 7, 1941, 2293, 798, 11, 7, 2829, 910, 1941, 11, 7, 1941, 11, 7, 1573, 255, 11, 7, 1941, 11, 7, 1573, 11, 3, 222, 320, 1941, 2293, 11, 7, 1941, 798, 320, 485, 11, 7, 773, 798, 910, 11, 8, 1327, 320, 2628, 910, 165, 11, 7, 2829, 11, 7, 11, 7, 1941, 798, 320, 2628, 165, 320, 1759, 910, 798, 485, 320, 1941, 11, 7, 1941, 11, 7, 485, 2628, 910, 485, 1327, 910, 798, 1099, 11, 7, 1632, 11, 7, 485, 2628, 910, 11, 7, 1941, 2293, 11, 7, 1941, 11, 8, 1632, 320, 1941, 2293, 1573, 11, 7, 1327, 1099, 320, 1941, 2293, 11, 7, 1941, 1327, 1502, 2829, 1502, 1941, 255, 1327, 1502, 2829, 1502, 1941, 11, 8, 1759, 910, 1941, 2293, 11, 7, 11, 8, 11, 7, 3444, 910, 1], 'attention_mask': [1, 1, 1, 1, 1, 1, 1, 1, 1, 1, 1, 1, 1, 1, 1, 1, 1, 1, 1, 1, 1, 1, 1, 1, 1, 1, 1, 1, 1, 1, 1, 1, 1, 1, 1, 1, 1, 1, 1, 1, 1, 1, 1, 1, 1, 1, 1, 1, 1, 1, 1, 1, 1, 1, 1, 1, 1, 1, 1, 1, 1, 1, 1, 1, 1, 1, 1, 1, 1, 1, 1, 1, 1, 1, 1, 1, 1, 1, 1, 1, 1, 1, 1, 1, 1, 1, 1, 1, 1, 1, 1, 1, 1, 1, 1, 1, 1, 1, 1, 1, 1, 1, 1, 1, 1, 1, 1, 1, 1, 1, 1, 1, 1, 1, 1, 1, 1, 1, 1, 1, 1, 1, 1, 1, 1, 1, 1, 1, 1, 1, 1, 1, 1, 1, 1, 1, 1, 1, 1, 1, 1, 1, 1, 1, 1, 1, 1, 1, 1, 1, 1, 1, 1, 1, 1, 1, 1, 1, 1, 1, 1, 1, 1, 1, 1, 1, 1, 1, 1, 1, 1, 1, 1, 1, 1, 1, 1, 1, 1, 1, 1, 1, 1, 1, 1, 1, 1, 1, 1, 1, 1, 1, 1, 1, 1, 1, 1, 1, 1, 1, 1, 1, 1, 1, 1, 1, 1, 1, 1, 1, 1, 1, 1, 1, 1, 1, 1, 1, 1, 1, 1, 1, 1, 1, 1, 1, 1, 1, 1, 1, 1, 1, 1, 1, 1, 1, 1, 1, 1, 1, 1, 1, 1, 1, 1, 1, 1, 1, 1, 1, 1, 1, 1, 1, 1, 1, 1, 1, 1, 1, 1, 1, 1, 1, 1, 1, 1, 1, 1, 1, 1, 1, 1, 1, 1, 1, 1, 1, 1, 1, 1, 1, 1, 1, 1, 1, 1, 1, 1, 1, 1, 1, 1, 1, 1, 1, 1, 1, 1, 1, 1, 1, 1, 1, 1, 1, 1, 1, 1, 1, 1, 1, 1, 1, 1, 1, 1, 1, 1, 1, 1, 1, 1, 1, 1, 1, 1, 1, 1, 1, 1, 1, 1, 1, 1, 1, 1, 1, 1, 1, 1, 1, 1, 1, 1, 1, 1, 1, 1, 1, 1, 1, 1, 1, 1, 1, 1, 1, 1, 1, 1, 1, 1, 1, 1, 1, 1, 1, 1, 1, 1, 1, 1, 1, 1, 1, 1, 1, 1, 1, 1, 1, 1, 1, 1, 1, 1, 1, 1, 1, 1, 1, 1, 1, 1, 1, 1, 1, 1, 1, 1, 1, 1, 1, 1, 1, 1, 1, 1, 1, 1, 1, 1, 1, 1, 1, 1, 1, 1, 1, 1, 1, 1, 1, 1, 1, 1, 1, 1, 1, 1, 1, 1, 1, 1, 1, 1, 1, 1, 1, 1, 1, 1, 1, 1, 1, 1, 1, 1, 1, 1, 1, 1, 1, 1, 1, 1, 1, 1, 1, 1, 1, 1, 1, 1, 1, 1, 1, 1, 1, 1, 1, 1, 1, 1, 1, 1, 1, 1, 1, 1, 1, 1, 1, 1, 1, 1, 1, 1, 1, 1, 1, 1, 1, 1, 1, 1, 1, 1, 1, 1, 1, 1, 1, 1, 1, 1, 1, 1, 1, 1, 1], 'labels': [2328, 1865, 90, 681, 3131, 21, 6011, 12, 27735, 1852, 10, 2825, 8495, 12, 209, 498, 746, 6114, 21, 4685, 3659, 1043, 24, 15009, 24896, 3, 1, 0, 0, 0, 0, 0, 0, 0, 0, 0, 0, 0, 0, 0, 0, 0, 0, 0, 0, 0, 0, 0, 0, 0, 0, 0, 0, 0, 0, 0, 0, 0, 0, 0, 0, 0, 0, 0, 0, 0, 0, 0, 0, 0, 0, 0, 0, 0, 0, 0, 0, 0, 0, 0, 0, 0, 0, 0, 0, 0, 0, 0, 0, 0, 0, 0, 0, 0, 0, 0, 0, 0, 0, 0, 0, 0, 0, 0, 0, 0, 0, 0, 0, 0, 0, 0, 0, 0, 0, 0, 0, 0, 0, 0, 0, 0, 0, 0, 0, 0, 0, 0]}\n",
            "{'id': 'majalah-54382461', 'url': 'https://www.bbc.com/indonesia/majalah-54382461', 'title': 'Indonesia peringkat tujuh penghasil emas terbesar dunia, berapa banyak sisa emas di bumi?', 'summary': 'Bulan lalu, harga emas terbang ke rekor tertinggi, mencapai hingga Rp30 juta (US$2.000) per ons (troy ounce - sama dengan 31 gram).', 'text': 'Pandemi Covid-19 telah meningkatkan minat berinvestasi emas. Kenaikan harga itu salah satu penyebab utamanya karena permainan para pedagang emas dan permintaan yang tinggi, tapi di balik itu, muncul pertanyaan tentang berapa sisa pasokan logam mulia itu di bumi dan kapan akan habis. Emas menjadi buruan masyarakat karena dapat dijadikan sebagai investasi, simbol status ekonomi, dan komponen utama produk elektronik. Tapi jumlah emas di dunia terbatas, dan pada akhirnya akan datang satu saat ketika tidak ada lagi emas yang tersisa untuk ditambang. Puncak produksi emas Beberapa ahli berbicara tentang apakah dunia telah mencapai puncak produksi emas - diukur dengan jumlah terbanyak emas yang pernah ditambang dalam satu tahun - atau tidak. Hal itu ditunjukan dengan mulai menurunnya tren produksi emas dunia. Contohnya, pada tahun 2019, produksi tambang emas dunia turun 1% menjadi 3.531 ton dibandingkan tahun 2018, menurut Dewan Emas Dunia. Penurunan produksi tahunan ini yang pertama sejak 2008. \"Pertumbuhan pasokan tambang mungkin melambat atau sedikit menurun di tahun mendatang, karena cadangan yang ada habis, dan penemuan besar baru semakin sulit, namun anggapan bahwa produksi telah mencapai puncak mungkin masih sedikit prematur,\" kata Hannah Brandstaetter, juru bicara Dewan Emas Dunia. Bahkan ketika puncak emas terjadi, para ahli mengatakan tahun-tahun setelah itu tidak mungkin terjadi penurunan dramatis dalam produksi. Sebaliknya, penurunan produksi bisa dilihat secara bertahap dalam beberapa dekade. \"Produksi tambang memiliki garis datar, dan kemungkinan besar akan menurun, tetapi tidak secara dramatis,\" tambah Ross Norman dari MetalsDaily.com. Jadi berapa yang tersisa? Perusahaan pertambangan memperkirakan volume emas yang tersisa di bumi dengan dua cara. Satu, cadangan - yaitu emas yang ditambang saat ini, dan dinilai sesuai harga emas terkini. Dua, sumber daya - yaitu emas yang berpotensi menjadi ekonomis untuk ditambang setelah dilakukan penyelidikan lebih lanjut, atau pada tingkat harga yang lebih tinggi. Volume cadangan emas dapat dihitung lebih akurat daripada sumber daya, meskipun tetap bukan tugas yang mudah. Stok cadangan emas di bawah tanah saat ini diperkirakan sekitar 50.000 ton, menurut Survei Geologi Amerika Serikat. Sebagai perbandingan, sekitar 190.000 ton emas telah ditambang secara total, meskipun perkiraannya bervariasi. Berdasarkan angka kasar ini, ada sekitar 20% yang masih bisa ditambang. Tapi ini adalah target yang bergerak. Emas ilegal Papua: Harta di atas derita Suku Korowai Teknologi baru memungkinkan untuk mengekstraksi beberapa cadangan yang diketahui yang saat ini tidak ekonomis untuk diakses. Inovasi terbaru seperti penggunaan \"big data, AI, and smart data mining\" berpotensi dapat mengoptimalkan proses dan menurunkan biaya. Robotika sudah digunakan di beberapa lokasi, dan diharapkan semakin menjadi teknologi standar dalam eksplorasi tambang. Proses menambang emas semakin sulit dan membutuhkan biaya lebih mahal. Sumber-sumber terbesar Sumber emas terbesar dalam sejarah adalah Witwatersrand Basin di Afrika Selatan. Witwatersrand menyumbang sekitar 30% dari semua emas yang pernah ditambang. Sumber utama emas lainnya termasuk tambang Mponeng yang sangat dalam di Afrika Selatan, tambang Super Pit dan Newmont Boddington di Australia, Tambang Grasberg Indonesia, dan tambang di Nevada, AS. Indonesia berada di posisi ke tujuh penghasil emas dunia, tambang terbesar emas Indonesia berada di Papua. China saat ini adalah penambang emas terbesar di dunia, ketika Kanada, Rusia, dan Peru juga merupakan produsen utama. Dalam hal perusahaan, Nevada Gold Mines yang dimiliki mayoritas oleh Barrick Gold adalah kompleks penambangan emas tunggal terbesar di dunia, yang memproduksi hingga 3,5 juta ons setahun. Meskipun tambang-tambang emas baru masih ditemukan, lokasi yang menyimpa emas secara besar menjadi semakin langka, kata para ahli. Akibatnya, sebagian besar produksi emas saat ini berasal dari tambang tua yang telah digunakan selama beberapa dekade. Semakin sulit untuk menambang? Proses penambangan skala besar membutuhkan modal yang mahal, menggunakan banyak mesin-mesin berat dan keahlian untuk menambang area yang luas di dalam maupun di bawah permukaan tanah. Saat ini, sekitar 60% operasi penambangan dunia adalah tambang permukaan, sedangkan sisanya adalah tambang bawah tanah. \"Penambangan semakin sulit karena banyak tambang besar, berbiaya rendah, dan tua seperti di Afrika Selatan, cadangannya hampir habis,\" tambah Norman. \"Tambang emas China, di sisi lain, jauh lebih kecil, dan tapi memiliki biaya yang lebih tinggi.\" Tinggal sedikit wilayah di bumi yang belum dijelajahi dan tersisa bagi penambangan emas, meskipun mungkin yang paling menjanjikan ada di daerah yang tidak stabil - daerah konflik, perang- seperti di Afrika Barat. Rekor tertinggi Meskipun harga emas mencapai rekor tertinggi di bulan Agustus lalu, tidak berarti memunculkan terjadinya peningkatan produksi penambangan emas. Faktanya, perubahan produksi tambang emas seringkali memperlambat perubahan harga emas yang sangat signifikan. \"Mengingat skala operasi yang terlibat, perlu waktu untuk mengubah rencana tambang sebagai respons terhadap perubahan faktor eksternal, seperti harga emas,\" tambah Brandstaetter. Di tambah lagi, pembatasan Covid-19 membuat aktivitas pertambangan menjadi terganggu karena beberapa lokasi ditutup sepenuhnya atau sebagian untuk menekan penyebaran virus corona. Kenaikan harga emas di saat pandemi terjadi karena para investor memandang logam mulia ini sebagai aset yang lebih aman di tengah ketidakpastian ekonomi. Terdapat emas di bulan. Tempat-tempat yang \\'tidak mungkin\\' Ternyata, selain di permukaan dan dalam bumi, sumber daya emas juga tersimpan di bulan. Namun, biaya menambang dan mengangkutnya kembali ke bumi jauh lebih tinggi daripada nilai emas itu sendiri. \"Meskipun ada, tidak akan pernah bermakna secara ekonomi untuk menambangnya,\" kata pakar luar angkasa Sinead O\\'Sullivan. \"Anda akan kehilangan uang dalam jumlah yang jauh lebih besar untuk menambangnya daripada yang akan Anda peroleh dengan menjualnya.\" Demikian pula, ada beberapa endapan emas yang diketahui di Antartika yang mungkin tidak pernah ekonomis untuk ditambang, karena kondisi cuaca benua yang ekstrem. Emas juga tersebar di sepanjang dasar laut, tetapi juga dianggap tidak ekonomis untuk ditambang. Satu faktor yang dimiliki emas adalah, tidak seperti sumber daya tak terbarukan lainnya seperti minyak, emas dapat didaur ulang. Jadi kita tidak akan pernah kehabisan emas, bahkan ketika tidak ada lagi yang bisa ditambang. Emas dalam jumlah besar juga digunakan untuk produk elektronik sekali pakai, seperti ponsel. Jumlah emas di ponsel rata-rata bernilai beberapa puluh hingga ratusan ribu Rupiah. Upaya mendaur ulang emas dari limbah elektronik ini sudah dilakukan dan berjalan dengan baik. Menyusuri \\'jembatan emas\\' dan \\'tangan dewa\\' di Vietnam', 'input_ids': [11, 3870, 9317, 1933, 39, 211, 11, 7, 1941, 1099, 320, 485, 773, 196, 1502, 2539, 773, 1099, 255, 78, 405, 798, 320, 1632, 11, 7, 2829, 485, 320, 1941, 773, 1941, 2293, 1573, 11, 7, 798, 1573, 11, 7, 1941, 485, 773, 1941, 11, 7, 798, 1759, 320, 2628, 773, 1941, 2539, 320, 165, 798, 11, 7, 165, 773, 320, 485, 11, 7, 165, 11, 3, 273, 320, 1941, 11, 7, 773, 1573, 11, 7, 1941, 2829, 11, 7, 2628, 2293, 11, 7, 773, 798, 910, 165, 11, 7, 1632, 11, 7, 2829, 165, 11, 7, 798, 910, 1327, 320, 1941, 3444, 320, 1759, 11, 7, 1759, 910, 798, 11, 7, 485, 11, 7, 1941, 3444, 11, 7, 1573, 11, 7, 2628, 320, 1941, 11, 7, 1327, 320, 2628, 485, 11, 7, 773, 1941, 11, 7, 1941, 1327, 11, 7, 2628, 11, 7, 1327, 320, 1099, 11, 7, 2293, 11, 7, 1941, 2293, 320, 485, 11, 7, 165, 1099, 11, 7, 1941, 1327, 320, 2628, 485, 773, 1941, 798, 11, 7, 11, 7, 1941, 3444, 11, 7, 1941, 2293, 798, 773, 1941, 2293, 2293, 773, 11, 8, 798, 11, 7, 1327, 773, 1099, 773, 1759, 11, 7, 1632, 773, 1573, 773, 798, 910, 11, 8, 485, 910, 1941, 1301, 910, 1632, 1327, 320, 2628, 798, 11, 7, 1941, 3444, 11, 7, 11, 7, 1941, 798, 320, 1941, 798, 11, 7, 1941, 2293, 1759, 320, 2628, 11, 7, 1327, 11, 7, 165, 773, 165, 11, 7, 1327, 11, 7, 165, 1502, 1573, 11, 7, 1941, 1632, 1502, 2293, 11, 7, 485, 485, 910, 1632, 773, 11, 7, 773, 798, 910, 1099, 773, 1759, 910, 485, 773, 1099, 11, 7, 1941, 1573, 11, 7, 1327, 11, 7, 1941, 11, 7, 1573, 11, 7, 1941, 2829, 11, 7, 1759, 773, 165, 11, 3, 314, 485, 11, 7, 165, 485, 320, 1941, 7738, 11, 7, 1099, 773, 1759, 910, 2628, 910, 11, 7, 1941, 485, 11, 7, 165, 3444, 11, 7, 2628, 11, 7, 1573, 11, 7, 798, 1573, 11, 7, 2628, 320, 1941, 11, 7, 1099, 11, 7, 1327, 11, 7, 798, 1099, 773, 7738, 11, 7, 1099, 773, 1573, 11, 7, 1941, 165, 320, 1759, 11, 7, 2293, 11, 7, 773, 773, 1941, 2539, 320, 165, 798, 11, 7, 165, 773, 11, 8, 165, 773, 485, 1759, 1502, 1632, 165, 798, 11, 7, 798, 910, 165, 320, 1573, 1502, 1941, 1502, 485, 773, 11, 8, 1099, 11, 7, 1941, 1573, 1502, 485, 1327, 1502, 1941, 320, 1941, 910, 798, 11, 7, 485, 11, 7, 1327, 2628, 1502, 1099, 910, 1573, 320, 1632, 320, 1573, 798, 2628, 1502, 1941, 773, 1573, 11, 3, 201, 11, 7, 1327, 773, 7738, 910, 485, 1632, 11, 7, 2829, 320, 485, 11, 7, 165, 1099, 773, 1099, 910, 1941, 773, 11, 7, 798, 320, 2628, 1759, 11, 7, 798, 11, 7, 165, 11, 8, 1099, 11, 7, 1941, 1327, 11, 7, 1099, 11, 7, 11, 7, 1573, 2829, 773, 2628, 1941, 3444, 11, 7, 11, 7, 1573, 11, 7, 1941, 1099, 11, 7, 798, 11, 7, 1941, 1], 'attention_mask': [1, 1, 1, 1, 1, 1, 1, 1, 1, 1, 1, 1, 1, 1, 1, 1, 1, 1, 1, 1, 1, 1, 1, 1, 1, 1, 1, 1, 1, 1, 1, 1, 1, 1, 1, 1, 1, 1, 1, 1, 1, 1, 1, 1, 1, 1, 1, 1, 1, 1, 1, 1, 1, 1, 1, 1, 1, 1, 1, 1, 1, 1, 1, 1, 1, 1, 1, 1, 1, 1, 1, 1, 1, 1, 1, 1, 1, 1, 1, 1, 1, 1, 1, 1, 1, 1, 1, 1, 1, 1, 1, 1, 1, 1, 1, 1, 1, 1, 1, 1, 1, 1, 1, 1, 1, 1, 1, 1, 1, 1, 1, 1, 1, 1, 1, 1, 1, 1, 1, 1, 1, 1, 1, 1, 1, 1, 1, 1, 1, 1, 1, 1, 1, 1, 1, 1, 1, 1, 1, 1, 1, 1, 1, 1, 1, 1, 1, 1, 1, 1, 1, 1, 1, 1, 1, 1, 1, 1, 1, 1, 1, 1, 1, 1, 1, 1, 1, 1, 1, 1, 1, 1, 1, 1, 1, 1, 1, 1, 1, 1, 1, 1, 1, 1, 1, 1, 1, 1, 1, 1, 1, 1, 1, 1, 1, 1, 1, 1, 1, 1, 1, 1, 1, 1, 1, 1, 1, 1, 1, 1, 1, 1, 1, 1, 1, 1, 1, 1, 1, 1, 1, 1, 1, 1, 1, 1, 1, 1, 1, 1, 1, 1, 1, 1, 1, 1, 1, 1, 1, 1, 1, 1, 1, 1, 1, 1, 1, 1, 1, 1, 1, 1, 1, 1, 1, 1, 1, 1, 1, 1, 1, 1, 1, 1, 1, 1, 1, 1, 1, 1, 1, 1, 1, 1, 1, 1, 1, 1, 1, 1, 1, 1, 1, 1, 1, 1, 1, 1, 1, 1, 1, 1, 1, 1, 1, 1, 1, 1, 1, 1, 1, 1, 1, 1, 1, 1, 1, 1, 1, 1, 1, 1, 1, 1, 1, 1, 1, 1, 1, 1, 1, 1, 1, 1, 1, 1, 1, 1, 1, 1, 1, 1, 1, 1, 1, 1, 1, 1, 1, 1, 1, 1, 1, 1, 1, 1, 1, 1, 1, 1, 1, 1, 1, 1, 1, 1, 1, 1, 1, 1, 1, 1, 1, 1, 1, 1, 1, 1, 1, 1, 1, 1, 1, 1, 1, 1, 1, 1, 1, 1, 1, 1, 1, 1, 1, 1, 1, 1, 1, 1, 1, 1, 1, 1, 1, 1, 1, 1, 1, 1, 1, 1, 1, 1, 1, 1, 1, 1, 1, 1, 1, 1, 1, 1, 1, 1, 1, 1, 1, 1, 1, 1, 1, 1, 1, 1, 1, 1, 1, 1, 1, 1, 1, 1, 1, 1, 1, 1, 1, 1, 1, 1, 1, 1, 1, 1, 1, 1, 1, 1, 1, 1, 1, 1, 1, 1, 1, 1, 1, 1, 1, 1, 1, 1, 1, 1, 1, 1, 1, 1, 1, 1, 1, 1, 1, 1, 1, 1, 1, 1, 1, 1, 1, 1, 1, 1, 1, 1, 1, 1, 1, 1, 1, 1, 1, 1, 1, 1, 1, 1, 1, 1, 1, 1, 1, 1, 1, 1, 1, 1, 1, 1], 'labels': [2428, 354, 8, 1712, 1291, 1429, 26, 2938, 1000, 8, 388, 108, 2211, 1688, 458, 11, 4, 6598, 16953, 250, 3, 213, 5, 341, 11, 5802, 11, 4, 2203, 145, 1502, 662, 685, 255, 136, 19, 1338, 7132, 5, 3, 1, 0, 0, 0, 0, 0, 0, 0, 0, 0, 0, 0, 0, 0, 0, 0, 0, 0, 0, 0, 0, 0, 0, 0, 0, 0, 0, 0, 0, 0, 0, 0, 0, 0, 0, 0, 0, 0, 0, 0, 0, 0, 0, 0, 0, 0, 0, 0, 0, 0, 0, 0, 0, 0, 0, 0, 0, 0, 0, 0, 0, 0, 0, 0, 0, 0, 0, 0, 0, 0, 0, 0, 0, 0, 0, 0, 0, 0, 0, 0, 0, 0, 0, 0, 0, 0, 0, 0]}\n"
          ]
        }
      ]
    },
    {
      "cell_type": "markdown",
      "source": [
        "Melakukan generate ringkasan dari base model wikidepia/indoT5"
      ],
      "metadata": {
        "id": "uQuoO2CnN_WW"
      }
    },
    {
      "cell_type": "code",
      "source": [
        "# ===== 4. Load Model =====\n",
        "model = T5ForConditionalGeneration.from_pretrained(model_name)"
      ],
      "metadata": {
        "id": "YuTPpK-cNdff"
      },
      "execution_count": 7,
      "outputs": []
    },
    {
      "cell_type": "code",
      "source": [
        "# ===== 5. Prepare DataLoader =====\n",
        "train_dataloader = DataLoader(tokenized_datasets[\"train\"], batch_size=8, shuffle=True)\n",
        "val_dataloader = DataLoader(tokenized_datasets[\"validation\"], batch_size=8)\n",
        "test_dataloader = DataLoader(tokenized_datasets[\"test\"], batch_size=8)"
      ],
      "metadata": {
        "id": "K6VmwDf0NfkX"
      },
      "execution_count": 8,
      "outputs": []
    },
    {
      "cell_type": "code",
      "source": [
        "# ===== 6. Generate Summaries =====\n",
        "def generate_summary(texts):\n",
        "    inputs = tokenizer([\"summarize: \" + text for text in texts], return_tensors=\"pt\", max_length=512, truncation=True, padding=\"max_length\")\n",
        "    input_ids = inputs[\"input_ids\"]\n",
        "    attention_mask = inputs[\"attention_mask\"]\n",
        "\n",
        "    # Generate summaries\n",
        "    outputs = model.generate(input_ids=input_ids, attention_mask=attention_mask, max_length=128, num_beams=4, early_stopping=True)\n",
        "    return [tokenizer.decode(output, skip_special_tokens=True) for output in outputs]\n",
        "\n",
        "# Test generation on validation data\n",
        "# Access the original 'text' from the dataset:\n",
        "sample_texts = [dataset[\"validation\"][i][\"text\"] for i in range(5)]\n",
        "generated_summaries = generate_summary(sample_texts)\n",
        "\n",
        "for i, (text, summary) in enumerate(zip(sample_texts, generated_summaries)):\n",
        "    print(f\"Original Text {i+1}:\\n{text}\\n\")\n",
        "    print(f\"Generated Summary {i+1}:\\n{summary}\\n\")"
      ],
      "metadata": {
        "id": "5GcganMVNhut",
        "colab": {
          "base_uri": "https://localhost:8080/"
        },
        "outputId": "41bc5643-7510-450e-d0ea-e50b4bb9c305"
      },
      "execution_count": 9,
      "outputs": [
        {
          "output_type": "stream",
          "name": "stdout",
          "text": [
            "Original Text 1:\n",
            "Perusahaan penyelenggara ulang tahun anak-anak mengatakan, biaya yang dikeluarkan untuk pesta sangat mahal Namun, permintaan semacam itu benar-benar diajukan salah seorang klien perusahaan event organizer bernama Quintessentially Events & Weddings. Pada sebuah musim dingin, perusahaan ini menciptakan tema luar ruangan di dalam ruangan untuk pesta ulang tahun anak-anak. Dengan tema itu, perusahaan tersebut menanam rumput dalam ruangan, lengkap dengan pohon-pohon, bunga, ayunan dan peluncur. Menurut manajer Chloe Astin, mereka mematok harga 100.000 pound atau setara dengan Rp1,9 miliar. Harga itu mencakup makanan kecil untuk orang dewasa, tas pesta, dan suvenir berupa kalung Tiffany kecil untuk anak-anak. Inflasi Dengan kondisi ekonomi saat ini yang diwarnai inflasi, kemeriahan pesta ulang tahun tidak menunjukkan tanda-tanda penurunan. Anak saya baru berusia lima tahun, tapi ia sudah menghadiri pesta ultah dalam berbagai tema. Sebut saja sesi pembuatan pizza di dapur restoran, pelatihan mencetak T-shirt, hingga menginap di hotel. Apakah pesta berbiaya besar ini akan berakhir? Salah satu orang tua mencoba untuk menghadirkan tim Disney on Ice untuk perayaan ulang tahun anak mereka yang ke lima Perusahaan Quintessentially mengatakan permintaan acara ultah mewah kian meningkat. \"Apa yang anak-anak tonton dan cerna telah memberi mereka harapan yang lebih tinggi,\" kata Astin. Alice in Wonderland Steven Duggan, pendiri perusahaan event organizer yang merupakan langganan bintang-bintang ternama seperti Sir Elton John, menyatakan pesta besar-besaran kini digelar untuk merayakan ultah batita alias bayi tiga tahun. Baru-baru ini Duggan menyelenggarakan acara yang menelan biaya sebesar 70.000 pound dengan tema Peter Pan dan Alice in Wonderland untuk merayakan ulang tahun pertama sepasang anak kembar. Biaya tersebut meliputi ongkos mendatangkan artis dan menciptakan wahana permainan. Para tamu diundang untuk \"berjalan di papan\" dalam sebuah pesta dengan tema Peter Pan dan Alice in Wonderland Pesta untuk merayakan ulang tahun pertama balita kembar menelan biaya 70,000 pound Harga ini termasuk alat peraga seperti jamur raksasa yang berwarna-warni Ia mengatakan perusahaannya mematok harga antara 15.000 pound dan 20.000 pound untuk mengatur hari istimewa anak. Tapi ia bilang ia bisa mengatur sesuatu \"setingkat dari apa yang akan Anda lakukan sendiri\" dari harga 5.000 pound. Hollywood Meski melebihi skala normal, banyak orang tua menghabiskan biaya lebih untuk hari istimewa anak mereka. The Young Film Academy, yang bisnis utamanya adalah menjalankan program pembuatan film untuk para remaja, telah membuat 150 film pesta anak-anak tahun lalu, naik dari 120 pada 2013. Walau biaya pesta mulai dari harga 540 pound, namun hampir dari setengah peminat memilih memesan paket paling mahal yaitu MoviePartie yang berbiaya mulai dari 1.950 pound, yang dibintangi oleh anak yang sedang berulang tahun dan teman-teman mereka bak film-film Hollywood. Di Young Film Academy anak-anak bisa membintangi film beserta teman-temannya bak bintang Hollywood \"Ada perasaan yang nyata dari para orang tua untuk melakukan sesuatu yang berbeda dari pesta-pesta yang biasa,\" kata sutradara James Walker. Sifat pasar pesta yang terfragmentasi -seperti kue, menyewa aula dan hiburan - membuat biaya sulit untuk dipantau. Tapi survei tahunan terbaru asuransi LV menunjukkan biaya membesarkan anak sejak lahir sampai 21 tahun menyebutkan total biaya sebesar 229.951 pound. Di antara kolom-kolom biaya, terdapat kolom \"lainnya\"--yang meliputi hadiah ulang tahun dan Natal, serta belajar mengemudi--meningkat 60,2% antara 2003 dan 2015 Bebas hadiah Bill Doherty, profesor Ilmu Sosial Keluarga di Universitas Minnesota, AS, mendirikan kelompok, Birthdays Without Pressure atau Ulang tahun tanpa tekanan, karena alasan-alasan ini. Dia mengatakan kelompok itu berisi para orang tua yang merasa tidak puas dengan eskalasi pesta ulang tahun anak-anak dan kemudian memilih untuk menggelar pesta ultah tanpa hadiah. Sebagai gantinya, orang tua-orang tua itu mengimbau peserta pesta menyumbang untuk amal. Tapi dia memperingatkan bahwa ide ini hanya akan berjalan jika semua orang tua setuju untuk meniadakan tas pesta atau hadiah. Tidak semua anak bisa menerima acara ulang tahun tanpa hadiah Salah satu anggota kelompok yang pernah mengadakan pesta, mengaku putrinya menangis ketika berulang tahun karena salah satu undangan mengejeknya setelah tidak menerima tas suvenir. Anggota kelompok lainnya mengalami penghinaan dari para tetangga karena pesta ultah bertujuan untuk menggalang dana sumbangan. \"Jika Anda tidak melakukan pesta besar, Anda bukan orangtua yang buruk,\" kata Prof Doherty.\n",
            "\n",
            "Generated Summary 1:\n",
            "summarize summarize summarize summarize summarize summarize summarize summarize summarize summarize summarize summarize summarize summarize summarize summarize summarize summarize summarize  summarize     film .........\n",
            "\n",
            "Original Text 2:\n",
            "Israel Palestina kembali memulai pembicaraan damai dengan AS sebagai penengah. Pembicaraan damai itu dimulai pada Juli lalu setelah terhenti sekitar tiga tahun. Putaran terakhir dilakukan pada pekan lalu setelah faksi utama Palestina mengumumkan sebuah pakta politik. Menteri Luar Negeri AS John Kerry, sebagai penengah, membantah telah menyampaikan sebuah pernyataan yang menyebut Israel sebagai \"sebuah negara apartheid\". Pada Senin (28/04), dalam pernyataan di pertemuan tertutup, dia memperingatkan bahwa Israel berisiko menjadi \"sebuah negara apartheid\" jika solusi dua negara tidak dapat dicapai secepatnya. \"Solusi dua negara jelas merupakan satu-satunya alternatif yang nyata,\" kata Kerry, dalam pernyataan yang dimuat dalam Daily Beast, yang mempublikasikan komentarnya. \"Karena sebuah negara kesatuan akan menjadi sebuah negara apartheid dengan warga negara kelas dua, atau berakhir menjadi sebuah negara yang menghancurkan kapasitas Israel untuk menjadi negara Yahudi.\" Tetapi dalam pernyataan yang disampaikan pada Selasa (29/04), dia mengatakan: \"Saya tidak percaya, atau pernah mengatakannya, di hadapan publik ataupun privat, bahwa Israel merupakan sebuah negara apartheid atau akan menjadi salah satunya.\" Keraguan Editor bidang Timur Tengah BBC, Jeremy Bowen, mengatakan kegagalan pembicaraan tersebut disebabkan adanya keraguan atas pencapaian solusi dua negara. Pembicaraan Israel-Palestina telah mengalami masalah setelah berulang kali terjadi ketidaksepakatan mengenai pembangunan permukiman dan pembebasan tahanan. Israel menangguhkan perundingan setelah dua faksi utama Palestina, Fatah yang sekuler dan Hamas yang Islamis, menandatangani kesepakatan bersama pada Rabu (23/04) lalu. Israel mengatakan akan menolak semua kesepakatan yang melibatkan pihak manapun yang menjadikan Hamas sebagia mitra.\n",
            "\n",
            "Generated Summary 2:\n",
            "summarize: summarize: summarize: summarize: summarize: summarize: summarize: summarize: summarize: summarize: summarize: summarize: summarize: summarize: summarize:  summarize:,.\n",
            "\n",
            "Original Text 3:\n",
            "Ayah Sumarti Ningsih diberitakan menuntut pembunuh putrinya dieksekusi. Dua perempuan Indonesia dibunuh secara sadis di distrik Wan Chai, Hong Kong. Pelakunya diduga adalah seorang bankir asal Inggris Rurik George Caton Jutting. Di gerbong kereta London barat daya khususnya pada jam-jam sibuk di pagi hari atau sore, baisanya jarang terdengar obrolan dalam suara keras. Tergoda juga untuk menimbrung percakapan mereka tatkala salah satu dari mereka terdengar menyudutkan dua perempuan itu, Sumarti Ningsih dan Seneng Mujiasih yang menggunakan nama alias Jesse Lorena Ruri. Namun saya tahan keinginan itu dan justru membenankam kepala di antara halaman-halaman koran. Di dalam berita koran tersebut pembaca digiring untuk mengamini bahwa kedua warga Indonesia itu adalah pekerja seks komersial yang ramah kepada pria-pria asing atau lebih tepatnya bule. Latar belakang Rurik Jutting telah dikenai dakwaan dua kasus pembunuhan oleh pengadilan Hong Kong. Disebutkan pula bahwa sebagian pembantu rumah tangga di Hong Kong, kebanyakan dari Indonesia dan Filipina, suka 'mengompreng' di akhir pekan. Berita seperti ini juga muncul di koran-koran arus perdana. Bahkan salah satu surat kabar ternama membuat kalkulasi berapa jumlah uang yang bisa didapat dari hasil omprengan di akhir pekan. Lebih tinggi dibanding gaji bulanan seorang tenaga kerja domestik. Yang juga menjadi bumbu berita peristiwa pembunuhan di Hong Kong itu adalah latar belakang tersangka. Ia adalah lulusan perguruan tinggi bergengsi, Cambridge, dan tamatan sekolah menengah swasta yang bergengsi pula. Rurik Jutting diberitakan sebagai bankir sukses di Inggris dan selanjutnya di Hong Kong. Gemparlah Inggris karena pembunuhan yang diduga dilakukan di apartemen mewah bankir itu di kawasan Wan Chai, distrik yang terkenal dengan kehidupan malamnya. Akan tetapi belum banyak media yang mengupas mengapa sang bankir, kalau terbukti, tega menghabisi nyawa sesama manusia yang sama-sama mencari rezeki di Hong Kong. Mengapa mereka harus dibunuh? Dan mengapa sesadis itu? Tubuh Sumarti Ningsih dipotong-potong dan dimasukkan ke dalam koper. Ketika ditemukan kondisi jenazah sudah membusuk. Adapun Seneng Mujiasih ditemukan dengan luka leher dan pantat. Ada judul berita yang menyebut Jutting sebagai psychopath, sebagai pembunuh, walaupun belum dibuktikan di meja hijau. Memang penyelidikan masih berjalan, tetapi ini adalah tragedi dengan korban Sumarti Ningsih dan Seneng Mujiasih. Beberapa pembaca menyampaikan simpati kepada korban dan keluarga mereka. \"Dengan berita sevulgar dan segrafis ini, masak koran tega memuat foto perempuan-perempuan malang tersebut,\" protes seorang pembaca di salah satu koran utama.\n",
            "\n",
            "Generated Summary 3:\n",
            "summarize: summarize: summarize: summarize: summarize: summarize: summarize: summarize: summarize: summarize: summarize: summarize: summarize summarize summarize        .. Sumarti....\n",
            "\n",
            "Original Text 4:\n",
            "Tentara Chad yang terlibat dalam operasi militer di Mali. Baku tembak terjadi pada Jumat (22/02) di kawasan pegunungan Ifoghas, yang diyakini sebagai lokasi persembunyian kelompok militan Sejak Januari lalu, Pemerintah Prancis menggelar operasi militer di Mali untuk menghancurkan kelompok militan Islam yang menguasai kawasan utara Mali sejak setahun silam. Ribuan tentara dari berbagai negara Afrika -- termasuk dari negara Chad -- ikut terlibat dalam operasi militer tersebut. Kelompok militan Islam diyakini mundur ke pegunungan Ifoghas, sebuah kawasan gurun yang luas di dekat perbatasan dengan Aljazair. Mereka bergerak mundur dari kawasan utara yang berpenduduk padat menuju kawasan pegunungan terebut setelah terdesak pasukan gabungan, dalam pekan-pekan terakhir. Sengit Pernyataan resmi yang dikeluarkan otoritas Angkatan Darat Chad pada Jumat (22/02), menyatakan \"mereka mampu menghancurkan lima kendaraan lapis baja dan mewaskan 65 anggota kelompok jihad\". Namun demikian mereka mengaku, sedikitnya 13 orang tentara Chad dan lima lainnya terluka dalam pertempuran yang berlangsung sengit itu. Awal bulan ini, sekitar 1,800 tentara Chad menggelar patroli di kota Kidal, Mali. Chad sebelumnya telah berjanji untuk mengirim 2.000 tentara ke Mali sebagai bagian dari pasukan negara-negara Afrika. Sementara itu, pertempuran antara Tentara Mali yang didukung Tentara Prancis dan kelompok militan Islam berlanjut di pusat kota Gao. Pesawat pengintai AS Pada Kamis (21/02), pasukan koalisi berhasil merebut kembali gedung balai kota, yang sebelumnya dikuasai kelompok militan sehari sebelumnya. Dalam perkembangan lainnya, otoritas militer AS mengatakan telah mengerahkan pesawat pengintai di Nigeria untuk mengumpulkan informasi tentang aktivitas kelompok militan Islam. Pengintaian ini dilakukan di sepanjang perbatasan Nigeria dan Mali, dengan bekerja sama dengan Tentara Perancis. Pemerintah Prancis memutuskan untuk mengerahkan pasukan militernya di bekas koloninya pada Januari lalu, menyusul kekhawatiran terhadap kehadiran kelompok al-Qaida yang mengendalikan kawasan utara Mali sejak bulan April 2012 lalu. Dalam perkembangannya, pemerintah Prancis berencana untuk menarik kembali 4.000 tentaranya pada Maret nanti. Mereka mengharapkan agar pasukan gabungan negara-negara Afrika nantinya menggantikan posisi mereka dalam payung pasukan perdamaian PBB.\n",
            "\n",
            "Generated Summary 4:\n",
            "summarize: summarize: summarize: summarize: summarize: summarize: summarize: summarize: summarize summarize: summarize summarize summarize summarize: summarize: summarize:... Pen.\n",
            "\n",
            "Original Text 5:\n",
            "Mahasiswa Universitas Sathyabhama mulai membakari perabotan di kampus mereka pada Rabu (22/11) malam, lapor media setempat. Para pengunjuk rasa itu menuding staf universitas telah menghina mahasiswa yang ketahuan mencontek itu dan membuatnya bunuh diri. Mahasiswi berusia 18 tahun itu dilaporkan menggantung diri di kamarnya setelah dikeluarkan dari ruangan karena ketahuan mencontek. Harian The Times of India melaporkan, jasad mahasiswi itu ditemukan oleh saudara kembarnya dan para sahabatnya. Begitu berita kematiannya beredar, para mahasiswa langsung melancarkan aksi protes. Dalam berbagai video dan gambar yang beredar di media sosial, tampak kasur dan perabotan dibakar. \"Mereka membakar apa saja di luar asrama mahasiswa tahun pertama. Mereka bahkan membakar pohon,\" kata seorang mahasiswa sebagaimana dikutip The News Minute. \"Betapapun,\" katanya, \"bangunan sih tidak terbakar, saya kira. Dan pada pukul 11 malam, banyak sekali orang berunjuk rasa di depan gerbang kampus.\" Unjuk rasa baru berakhir Kamis pagi, setelah polisi membubarkan mereka.\n",
            "\n",
            "Generated Summary 5:\n",
            "summarize summarize summarize summarize summarize summarize summarize summarize summarize summarize summarize summarize summarize summarize summarize summarize summarize summarize summarize  summarize: ...\n",
            "\n"
          ]
        }
      ]
    },
    {
      "cell_type": "code",
      "source": [
        "# ===== 7. Evaluate with BLEU Score =====\n",
        "def calculate_bleu(references, candidates):\n",
        "    bleu_scores = []\n",
        "    for ref, cand in zip(references, candidates):\n",
        "        bleu_scores.append(sentence_bleu([ref.split()], cand.split()))\n",
        "    return np.mean(bleu_scores)\n",
        "\n",
        "# Extract references and candidates from the validation set\n",
        "# Access the 'summary' from the original dataset, not the tokenized one:\n",
        "references = [dataset[\"validation\"][i][\"summary\"] for i in range(20)]\n",
        "candidates = generate_summary([dataset[\"validation\"][i][\"text\"] for i in range(20)])\n",
        "\n",
        "# Calculate BLEU Score\n",
        "bleu_score = calculate_bleu(references, candidates)\n",
        "print(f\"BLEU Score on Validation Set: {bleu_score:.4f}\")"
      ],
      "metadata": {
        "id": "IdKUoGIKNkOP",
        "colab": {
          "base_uri": "https://localhost:8080/"
        },
        "outputId": "1d4d7eec-35c8-422d-e96b-27794d395741"
      },
      "execution_count": 10,
      "outputs": [
        {
          "output_type": "stream",
          "name": "stdout",
          "text": [
            "BLEU Score on Validation Set: 0.0000\n"
          ]
        },
        {
          "output_type": "stream",
          "name": "stderr",
          "text": [
            "/usr/local/lib/python3.10/dist-packages/nltk/translate/bleu_score.py:577: UserWarning: \n",
            "The hypothesis contains 0 counts of 2-gram overlaps.\n",
            "Therefore the BLEU score evaluates to 0, independently of\n",
            "how many N-gram overlaps of lower order it contains.\n",
            "Consider using lower n-gram order or use SmoothingFunction()\n",
            "  warnings.warn(_msg)\n",
            "/usr/local/lib/python3.10/dist-packages/nltk/translate/bleu_score.py:577: UserWarning: \n",
            "The hypothesis contains 0 counts of 3-gram overlaps.\n",
            "Therefore the BLEU score evaluates to 0, independently of\n",
            "how many N-gram overlaps of lower order it contains.\n",
            "Consider using lower n-gram order or use SmoothingFunction()\n",
            "  warnings.warn(_msg)\n",
            "/usr/local/lib/python3.10/dist-packages/nltk/translate/bleu_score.py:577: UserWarning: \n",
            "The hypothesis contains 0 counts of 4-gram overlaps.\n",
            "Therefore the BLEU score evaluates to 0, independently of\n",
            "how many N-gram overlaps of lower order it contains.\n",
            "Consider using lower n-gram order or use SmoothingFunction()\n",
            "  warnings.warn(_msg)\n"
          ]
        }
      ]
    },
    {
      "cell_type": "code",
      "source": [
        "# ===== 8. Plot Results =====\n",
        "plt.figure(figsize=(10, 6))\n",
        "plt.hist([len(text.split()) for text in references], bins=20, alpha=0.5, label=\"References\")\n",
        "plt.hist([len(text.split()) for text in candidates], bins=20, alpha=0.5, label=\"Candidates\")\n",
        "plt.title(\"Length Distribution of References vs Candidates\")\n",
        "plt.xlabel(\"Length (Number of Words)\")\n",
        "plt.ylabel(\"Frequency\")\n",
        "plt.legend()\n",
        "plt.show()"
      ],
      "metadata": {
        "id": "JvBeZADCNnQb",
        "colab": {
          "base_uri": "https://localhost:8080/",
          "height": 564
        },
        "outputId": "b904eb8f-52a9-4595-e87d-fc6eacc5b4b6"
      },
      "execution_count": 11,
      "outputs": [
        {
          "output_type": "display_data",
          "data": {
            "text/plain": [
              "<Figure size 1000x600 with 1 Axes>"
            ],
            "image/png": "[encoded data removed]"
          },
          "metadata": {}
        }
      ]
    },
    {
      "cell_type": "markdown",
      "source": [
        "Finetune dengan model wikidepia/indoT5"
      ],
      "metadata": {
        "id": "5rlTXu4COhG7"
      }
    },
    {
      "cell_type": "code",
      "source": [
        "!pip install sacrebleu"
      ],
      "metadata": {
        "id": "dIhUCLpBRIgP",
        "colab": {
          "base_uri": "https://localhost:8080/"
        },
        "outputId": "0ca93ab3-2617-4816-e120-454dd04266c3"
      },
      "execution_count": 12,
      "outputs": [
        {
          "output_type": "stream",
          "name": "stdout",
          "text": [
            "Requirement already satisfied: sacrebleu in /usr/local/lib/python3.10/dist-packages (2.4.3)\n",
            "Requirement already satisfied: portalocker in /usr/local/lib/python3.10/dist-packages (from sacrebleu) (3.0.0)\n",
            "Requirement already satisfied: regex in /usr/local/lib/python3.10/dist-packages (from sacrebleu) (2024.11.6)\n",
            "Requirement already satisfied: tabulate>=0.8.9 in /usr/local/lib/python3.10/dist-packages (from sacrebleu) (0.9.0)\n",
            "Requirement already satisfied: numpy>=1.17 in /usr/local/lib/python3.10/dist-packages (from sacrebleu) (1.26.4)\n",
            "Requirement already satisfied: colorama in /usr/local/lib/python3.10/dist-packages (from sacrebleu) (0.4.6)\n",
            "Requirement already satisfied: lxml in /usr/local/lib/python3.10/dist-packages (from sacrebleu) (5.3.0)\n"
          ]
        }
      ]
    },
    {
      "cell_type": "code",
      "source": [
        "# ===== 9. Define Model and Training Arguments =====\n",
        "from transformers import EarlyStoppingCallback\n",
        "from evaluate import load as load_metric\n",
        "\n",
        "model = T5ForConditionalGeneration.from_pretrained(model_name)\n",
        "\n",
        "training_args = TrainingArguments(\n",
        "    output_dir=\"./indoT5_summarization_results\",\n",
        "    evaluation_strategy=\"epoch\",\n",
        "    save_strategy=\"epoch\",\n",
        "    learning_rate=3e-5,\n",
        "    per_device_train_batch_size=8,\n",
        "    per_device_eval_batch_size=8,\n",
        "    num_train_epochs=3,\n",
        "    weight_decay=0.01,\n",
        "    save_total_limit=2,\n",
        "    load_best_model_at_end=True,\n",
        "    logging_dir=\"./logs\",\n",
        "    gradient_checkpointing=True,\n",
        "    logging_steps=500,  # Track metrics during training\n",
        ")\n",
        "\n",
        "trainer = Trainer(\n",
        "    model=model,\n",
        "    args=training_args,\n",
        "    train_dataset=tokenized_datasets[\"train\"],\n",
        "    eval_dataset=tokenized_datasets[\"validation\"]\n",
        ")"
      ],
      "metadata": {
        "id": "TEkJopH-MPfX",
        "colab": {
          "base_uri": "https://localhost:8080/"
        },
        "outputId": "8f5c8941-1110-41a9-8182-927d2771f64f"
      },
      "execution_count": 13,
      "outputs": [
        {
          "output_type": "stream",
          "name": "stderr",
          "text": [
            "/usr/local/lib/python3.10/dist-packages/transformers/training_args.py:1575: FutureWarning: `evaluation_strategy` is deprecated and will be removed in version 4.46 of 🤗 Transformers. Use `eval_strategy` instead\n",
            "  warnings.warn(\n"
          ]
        }
      ]
    },
    {
      "cell_type": "code",
      "source": [
        "# ===== 10. Train the Model =====\n",
        "train_results = trainer.train()"
      ],
      "metadata": {
        "id": "k9TKt7qrMSu-",
        "colab": {
          "base_uri": "https://localhost:8080/",
          "height": 380
        },
        "outputId": "511b6baa-e2c1-495e-c7bd-541e15ad4ab5"
      },
      "execution_count": 14,
      "outputs": [
        {
          "output_type": "stream",
          "name": "stderr",
          "text": [
            "\u001b[34m\u001b[1mwandb\u001b[0m: \u001b[33mWARNING\u001b[0m The `run_name` is currently set to the same value as `TrainingArguments.output_dir`. If this was not intended, please specify a different run name by setting the `TrainingArguments.run_name` parameter.\n",
            "\u001b[34m\u001b[1mwandb\u001b[0m: Using wandb-core as the SDK backend.  Please refer to https://wandb.me/wandb-core for more information.\n",
            "\u001b[34m\u001b[1mwandb\u001b[0m: Currently logged in as: \u001b[33malgha_naufal\u001b[0m (\u001b[33malgha_naufal-universitas-pendidikan-indonesia\u001b[0m). Use \u001b[1m`wandb login --relogin`\u001b[0m to force relogin\n"
          ]
        },
        {
          "output_type": "display_data",
          "data": {
            "text/plain": [
              "<IPython.core.display.HTML object>"
            ],
            "text/html": [
              "Tracking run with wandb version 0.19.1"
            ]
          },
          "metadata": {}
        },
        {
          "output_type": "display_data",
          "data": {
            "text/plain": [
              "<IPython.core.display.HTML object>"
            ],
            "text/html": [
              "Run data is saved locally in <code>/content/wandb/run-20241224_034950-tz57hrbq</code>"
            ]
          },
          "metadata": {}
        },
        {
          "output_type": "display_data",
          "data": {
            "text/plain": [
              "<IPython.core.display.HTML object>"
            ],
            "text/html": [
              "Syncing run <strong><a href='https://wandb.ai/algha_naufal-universitas-pendidikan-indonesia/huggingface/runs/tz57hrbq' target=\"_blank\">./indoT5_summarization_results</a></strong> to <a href='https://wandb.ai/algha_naufal-universitas-pendidikan-indonesia/huggingface' target=\"_blank\">Weights & Biases</a> (<a href='https://wandb.me/developer-guide' target=\"_blank\">docs</a>)<br>"
            ]
          },
          "metadata": {}
        },
        {
          "output_type": "display_data",
          "data": {
            "text/plain": [
              "<IPython.core.display.HTML object>"
            ],
            "text/html": [
              " View project at <a href='https://wandb.ai/algha_naufal-universitas-pendidikan-indonesia/huggingface' target=\"_blank\">https://wandb.ai/algha_naufal-universitas-pendidikan-indonesia/huggingface</a>"
            ]
          },
          "metadata": {}
        },
        {
          "output_type": "display_data",
          "data": {
            "text/plain": [
              "<IPython.core.display.HTML object>"
            ],
            "text/html": [
              " View run at <a href='https://wandb.ai/algha_naufal-universitas-pendidikan-indonesia/huggingface/runs/tz57hrbq' target=\"_blank\">https://wandb.ai/algha_naufal-universitas-pendidikan-indonesia/huggingface/runs/tz57hrbq</a>"
            ]
          },
          "metadata": {}
        },
        {
          "output_type": "stream",
          "name": "stderr",
          "text": [
            "`use_cache=True` is incompatible with gradient checkpointing. Setting `use_cache=False`...\n"
          ]
        },
        {
          "output_type": "display_data",
          "data": {
            "text/plain": [
              "<IPython.core.display.HTML object>"
            ],
            "text/html": [
              "\n",
              "    <div>\n",
              "      \n",
              "      <progress value='189' max='189' style='width:300px; height:20px; vertical-align: middle;'></progress>\n",
              "      [189/189 02:22, Epoch 3/3]\n",
              "    </div>\n",
              "    <table border=\"1\" class=\"dataframe\">\n",
              "  <thead>\n",
              " <tr style=\"text-align: left;\">\n",
              "      <th>Epoch</th>\n",
              "      <th>Training Loss</th>\n",
              "      <th>Validation Loss</th>\n",
              "    </tr>\n",
              "  </thead>\n",
              "  <tbody>\n",
              "    <tr>\n",
              "      <td>1</td>\n",
              "      <td>No log</td>\n",
              "      <td>46.599133</td>\n",
              "    </tr>\n",
              "    <tr>\n",
              "      <td>2</td>\n",
              "      <td>No log</td>\n",
              "      <td>44.591942</td>\n",
              "    </tr>\n",
              "    <tr>\n",
              "      <td>3</td>\n",
              "      <td>No log</td>\n",
              "      <td>43.514381</td>\n",
              "    </tr>\n",
              "  </tbody>\n",
              "</table><p>"
            ]
          },
          "metadata": {}
        },
        {
          "output_type": "stream",
          "name": "stderr",
          "text": [
            "Passing a tuple of `past_key_values` is deprecated and will be removed in Transformers v4.48.0. You should pass an instance of `EncoderDecoderCache` instead, e.g. `past_key_values=EncoderDecoderCache.from_legacy_cache(past_key_values)`.\n",
            "There were missing keys in the checkpoint model loaded: ['encoder.embed_tokens.weight', 'decoder.embed_tokens.weight'].\n"
          ]
        }
      ]
    },
    {
      "cell_type": "code",
      "source": [
        "# ===== 11. Evaluation =====\n",
        "from evaluate import load as load_metric  # Import the load function if not already imported\n",
        "\n",
        "# Load the BLEU metric\n",
        "metric = load_metric(\"bleu\")  # Load the metric before using it\n",
        "\n",
        "def compute_metrics(pred):\n",
        "    labels_ids = pred.label_ids\n",
        "    pred_ids = np.array(pred.predictions[0]).argmax(-1)  # Ambil elemen pertama dari tuple, lalu ubah menjadi array numpy dan panggil argmax\n",
        "    pred_str = tokenizer.batch_decode(pred_ids, skip_special_tokens=True)\n",
        "    labels_ids[labels_ids == -100] = tokenizer.pad_token_id\n",
        "    label_str = tokenizer.batch_decode(labels_ids, skip_special_tokens=True)\n",
        "\n",
        "    # BLEU computation\n",
        "    references = [[label] for label in label_str]\n",
        "    predictions = pred_str\n",
        "    bleu = metric.compute(predictions=predictions, references=references)\n",
        "    return {\"bleu\": bleu[\"bleu\"]}\n",
        "\n",
        "# Run Evaluation\n",
        "predictions = trainer.predict(tokenized_datasets[\"test\"])\n",
        "eval_metrics = compute_metrics(predictions)\n",
        "print(\"BLEU Score:\", eval_metrics[\"bleu\"])"
      ],
      "metadata": {
        "id": "hEJAEv3sYzEr",
        "colab": {
          "base_uri": "https://localhost:8080/",
          "height": 34
        },
        "outputId": "221596a1-a9dd-4590-e228-0150f24fd214"
      },
      "execution_count": 15,
      "outputs": [
        {
          "output_type": "display_data",
          "data": {
            "text/plain": [
              "<IPython.core.display.HTML object>"
            ],
            "text/html": []
          },
          "metadata": {}
        },
        {
          "output_type": "stream",
          "name": "stdout",
          "text": [
            "BLEU Score: 0.020580579584793184\n"
          ]
        }
      ]
    },
    {
      "cell_type": "code",
      "source": [
        "# Plotting the training accuracy (BLEU score) over epochs\n",
        "def plot_training_accuracy(log_file):\n",
        "    with open(log_file, 'r') as f:\n",
        "        lines = f.readlines()\n",
        "\n",
        "    # Extract BLEU score values from the log\n",
        "    bleu_scores = []\n",
        "    for line in lines:\n",
        "        if \"bleu\" in line:\n",
        "            score = float(line.split(\"bleu\")[-1].split()[0])\n",
        "            bleu_scores.append(score)\n",
        "\n",
        "    # Plotting BLEU score\n",
        "    plt.plot(bleu_scores, label=\"BLEU Score\")\n",
        "    plt.xlabel(\"Epoch\")\n",
        "    plt.ylabel(\"BLEU Score\")\n",
        "    plt.title(\"BLEU Score per Epoch during Training\")\n",
        "    plt.legend()\n",
        "    plt.show()"
      ],
      "metadata": {
        "id": "-YQE5SeTZMo2"
      },
      "execution_count": 16,
      "outputs": []
    },
    {
      "cell_type": "code",
      "source": [
        "# Additional Evaluation on BLEU Scores\n",
        "def compute_bleu(predicted, reference):\n",
        "    reference = [ref.split() for ref in reference]\n",
        "    predicted = predicted.split()\n",
        "    return sentence_bleu(reference, predicted)\n",
        "\n",
        "test_data = tokenized_datasets[\"test\"]\n",
        "trainer = Trainer(model=model)\n",
        "predictions = trainer.predict(test_data)\n",
        "\n",
        "predictions_array = predictions.predictions[0]\n",
        "predicted_ids = predictions_array.argmax(axis=-1)\n",
        "decoded_preds = tokenizer.batch_decode(predicted_ids, skip_special_tokens=True)\n",
        "\n",
        "labels_array = predictions.label_ids\n",
        "decoded_labels = tokenizer.batch_decode(labels_array, skip_special_tokens=True)\n",
        "\n",
        "# Store BLEU scores\n",
        "bleu_scores = []\n",
        "num_samples = 5\n",
        "\n",
        "for i in range(num_samples):\n",
        "    input_text = test_data[i][\"text\"]\n",
        "    actual_summary = decoded_labels[i]\n",
        "    predicted_summary = decoded_preds[i]\n",
        "\n",
        "    bleu_score = compute_bleu(predicted_summary, [actual_summary])\n",
        "    bleu_scores.append(bleu_score)\n",
        "\n",
        "    print(f\"Data {i+1}:\")\n",
        "    print(f\"Input Asli: {input_text}\")\n",
        "    print(f\"Actual Summary: {actual_summary}\")\n",
        "    print(f\"Predicted Summary: {predicted_summary}\")\n",
        "    print(f\"BLEU Score: {bleu_score}\")\n",
        "    print(\"-\" * 50)\n",
        "\n",
        "# Calculate average BLEU score\n",
        "average_bleu_score = sum(bleu_scores) / len(bleu_scores)\n",
        "print(f\"Average BLEU Score: {average_bleu_score:.4f}\")"
      ],
      "metadata": {
        "id": "aI7FXC8zZQUL",
        "colab": {
          "base_uri": "https://localhost:8080/",
          "height": 888
        },
        "outputId": "f2ea48ca-d3ce-4f23-9177-c6d24be48cf6"
      },
      "execution_count": 17,
      "outputs": [
        {
          "output_type": "display_data",
          "data": {
            "text/plain": [
              "<IPython.core.display.HTML object>"
            ],
            "text/html": []
          },
          "metadata": {}
        },
        {
          "output_type": "stream",
          "name": "stdout",
          "text": [
            "Data 1:\n",
            "Input Asli: Pandemi Covid-19 telah meningkatkan minat berinvestasi emas. Kenaikan harga itu salah satu penyebab utamanya karena permainan para pedagang emas dan permintaan yang tinggi, tapi di balik itu, muncul pertanyaan tentang berapa sisa pasokan logam mulia itu di bumi dan kapan akan habis. Emas menjadi buruan masyarakat karena dapat dijadikan sebagai investasi, simbol status ekonomi, dan komponen utama produk elektronik. Tapi jumlah emas di dunia terbatas, dan pada akhirnya akan datang satu saat ketika tidak ada lagi emas yang tersisa untuk ditambang. Puncak produksi emas Beberapa ahli berbicara tentang apakah dunia telah mencapai puncak produksi emas - diukur dengan jumlah terbanyak emas yang pernah ditambang dalam satu tahun - atau tidak. Hal itu ditunjukan dengan mulai menurunnya tren produksi emas dunia. Contohnya, pada tahun 2019, produksi tambang emas dunia turun 1% menjadi 3.531 ton dibandingkan tahun 2018, menurut Dewan Emas Dunia. Penurunan produksi tahunan ini yang pertama sejak 2008. \"Pertumbuhan pasokan tambang mungkin melambat atau sedikit menurun di tahun mendatang, karena cadangan yang ada habis, dan penemuan besar baru semakin sulit, namun anggapan bahwa produksi telah mencapai puncak mungkin masih sedikit prematur,\" kata Hannah Brandstaetter, juru bicara Dewan Emas Dunia. Bahkan ketika puncak emas terjadi, para ahli mengatakan tahun-tahun setelah itu tidak mungkin terjadi penurunan dramatis dalam produksi. Sebaliknya, penurunan produksi bisa dilihat secara bertahap dalam beberapa dekade. \"Produksi tambang memiliki garis datar, dan kemungkinan besar akan menurun, tetapi tidak secara dramatis,\" tambah Ross Norman dari MetalsDaily.com. Jadi berapa yang tersisa? Perusahaan pertambangan memperkirakan volume emas yang tersisa di bumi dengan dua cara. Satu, cadangan - yaitu emas yang ditambang saat ini, dan dinilai sesuai harga emas terkini. Dua, sumber daya - yaitu emas yang berpotensi menjadi ekonomis untuk ditambang setelah dilakukan penyelidikan lebih lanjut, atau pada tingkat harga yang lebih tinggi. Volume cadangan emas dapat dihitung lebih akurat daripada sumber daya, meskipun tetap bukan tugas yang mudah. Stok cadangan emas di bawah tanah saat ini diperkirakan sekitar 50.000 ton, menurut Survei Geologi Amerika Serikat. Sebagai perbandingan, sekitar 190.000 ton emas telah ditambang secara total, meskipun perkiraannya bervariasi. Berdasarkan angka kasar ini, ada sekitar 20% yang masih bisa ditambang. Tapi ini adalah target yang bergerak. Emas ilegal Papua: Harta di atas derita Suku Korowai Teknologi baru memungkinkan untuk mengekstraksi beberapa cadangan yang diketahui yang saat ini tidak ekonomis untuk diakses. Inovasi terbaru seperti penggunaan \"big data, AI, and smart data mining\" berpotensi dapat mengoptimalkan proses dan menurunkan biaya. Robotika sudah digunakan di beberapa lokasi, dan diharapkan semakin menjadi teknologi standar dalam eksplorasi tambang. Proses menambang emas semakin sulit dan membutuhkan biaya lebih mahal. Sumber-sumber terbesar Sumber emas terbesar dalam sejarah adalah Witwatersrand Basin di Afrika Selatan. Witwatersrand menyumbang sekitar 30% dari semua emas yang pernah ditambang. Sumber utama emas lainnya termasuk tambang Mponeng yang sangat dalam di Afrika Selatan, tambang Super Pit dan Newmont Boddington di Australia, Tambang Grasberg Indonesia, dan tambang di Nevada, AS. Indonesia berada di posisi ke tujuh penghasil emas dunia, tambang terbesar emas Indonesia berada di Papua. China saat ini adalah penambang emas terbesar di dunia, ketika Kanada, Rusia, dan Peru juga merupakan produsen utama. Dalam hal perusahaan, Nevada Gold Mines yang dimiliki mayoritas oleh Barrick Gold adalah kompleks penambangan emas tunggal terbesar di dunia, yang memproduksi hingga 3,5 juta ons setahun. Meskipun tambang-tambang emas baru masih ditemukan, lokasi yang menyimpa emas secara besar menjadi semakin langka, kata para ahli. Akibatnya, sebagian besar produksi emas saat ini berasal dari tambang tua yang telah digunakan selama beberapa dekade. Semakin sulit untuk menambang? Proses penambangan skala besar membutuhkan modal yang mahal, menggunakan banyak mesin-mesin berat dan keahlian untuk menambang area yang luas di dalam maupun di bawah permukaan tanah. Saat ini, sekitar 60% operasi penambangan dunia adalah tambang permukaan, sedangkan sisanya adalah tambang bawah tanah. \"Penambangan semakin sulit karena banyak tambang besar, berbiaya rendah, dan tua seperti di Afrika Selatan, cadangannya hampir habis,\" tambah Norman. \"Tambang emas China, di sisi lain, jauh lebih kecil, dan tapi memiliki biaya yang lebih tinggi.\" Tinggal sedikit wilayah di bumi yang belum dijelajahi dan tersisa bagi penambangan emas, meskipun mungkin yang paling menjanjikan ada di daerah yang tidak stabil - daerah konflik, perang- seperti di Afrika Barat. Rekor tertinggi Meskipun harga emas mencapai rekor tertinggi di bulan Agustus lalu, tidak berarti memunculkan terjadinya peningkatan produksi penambangan emas. Faktanya, perubahan produksi tambang emas seringkali memperlambat perubahan harga emas yang sangat signifikan. \"Mengingat skala operasi yang terlibat, perlu waktu untuk mengubah rencana tambang sebagai respons terhadap perubahan faktor eksternal, seperti harga emas,\" tambah Brandstaetter. Di tambah lagi, pembatasan Covid-19 membuat aktivitas pertambangan menjadi terganggu karena beberapa lokasi ditutup sepenuhnya atau sebagian untuk menekan penyebaran virus corona. Kenaikan harga emas di saat pandemi terjadi karena para investor memandang logam mulia ini sebagai aset yang lebih aman di tengah ketidakpastian ekonomi. Terdapat emas di bulan. Tempat-tempat yang 'tidak mungkin' Ternyata, selain di permukaan dan dalam bumi, sumber daya emas juga tersimpan di bulan. Namun, biaya menambang dan mengangkutnya kembali ke bumi jauh lebih tinggi daripada nilai emas itu sendiri. \"Meskipun ada, tidak akan pernah bermakna secara ekonomi untuk menambangnya,\" kata pakar luar angkasa Sinead O'Sullivan. \"Anda akan kehilangan uang dalam jumlah yang jauh lebih besar untuk menambangnya daripada yang akan Anda peroleh dengan menjualnya.\" Demikian pula, ada beberapa endapan emas yang diketahui di Antartika yang mungkin tidak pernah ekonomis untuk ditambang, karena kondisi cuaca benua yang ekstrem. Emas juga tersebar di sepanjang dasar laut, tetapi juga dianggap tidak ekonomis untuk ditambang. Satu faktor yang dimiliki emas adalah, tidak seperti sumber daya tak terbarukan lainnya seperti minyak, emas dapat didaur ulang. Jadi kita tidak akan pernah kehabisan emas, bahkan ketika tidak ada lagi yang bisa ditambang. Emas dalam jumlah besar juga digunakan untuk produk elektronik sekali pakai, seperti ponsel. Jumlah emas di ponsel rata-rata bernilai beberapa puluh hingga ratusan ribu Rupiah. Upaya mendaur ulang emas dari limbah elektronik ini sudah dilakukan dan berjalan dengan baik. Menyusuri 'jembatan emas' dan 'tangan dewa' di Vietnam\n",
            "Actual Summary: Bulan lalu, harga emas terbang ke rekor tertinggi, mencapai hingga Rp30 juta (US$2.000) per ons (troy ounce - sama dengan 31 gram).\n",
            "Predicted Summary: Madu, para tiket di di Eropa tertinggi di di Rp Rp  miliar.($$))). hari.,)))))) Mei)\n",
            "BLEU Score: 0\n",
            "--------------------------------------------------\n",
            "Data 2:\n",
            "Input Asli: Murray unggul dalam 8 pertandingan dengan Lopez Petenis Inggris itu sudah delapan kali bertemu Lopez dan menang di semua pertandingan. Kini dengan disaksikan mantan pelatihnya Ivan Lendl, ia mencetak kemenangan kesembilan. Murray mengalahkan Lopez, unggulan ke-32, dengan 6-4 6-1 dalam waktu 73 menit. Di babak berikutnya ia akan bertemu dengan unggulan ke-11 Jo-Wilfried Tsonga. Sementara itu Roger Federer mengalahkan petenis Belanda Thiemo de Bakker dengan 6-3 6-3. Murray menunjukkan performa kuat di hadapan Lendl, yang hanya empat hari setelah pengumuman perpisahan mereka, terbang tiga jam dari Florida ke Miami untuk melihat petenis yang telah ia bantu menjuarai Olimpiade, AS Terbuka dan Wimbledon. \"Kami kembali bersama. Kami hanya berpisah selama empat hari,\" kelakar Murray. \"Tidak, sayang sekali ia tidak akan lagi menyaksikan pertandingan saya secara langsung.\"\n",
            "Actual Summary: Juara bertahan Andy Murray mengalahkan petenis Spanyol Feliciano Lopez dua set langsung dan lolos ke babak keempat turnamen Sony Open di Miami.\n",
            "Predicted Summary: Dunia Liga Murray, tim asal,cia,,, kalieru.  ke babak semifinal..,, London,\n",
            "BLEU Score: 1.7346653717737007e-155\n",
            "--------------------------------------------------\n",
            "Data 3:\n",
            "Input Asli: Justin Timberlake juga membawakan beberapa lagu terbaiknya di panggung MTV VMA. Timberlake meraih penghargaan itu untuk video \"Mirrors\" di malam reuninya dengan 'N Sync dan menerima penghargaan Michael Jackson Vanguard Video Award pada hari Minggu (25/08) di Brooklyn, New York. Penghargaan khusus itu diserahkan oleh komedian Jimmy Fallon. \"Saya tidak layak mendapat penghargaan ini, tapi saya tidak akan mengembalikannya,\" kata Timberlake. \"Saya akan membawanya pulang.\" \"Sebagian besar moonmen [penghargaan MTV VMA] yang saya menangi, saya raih bersama empat pria disini,\" kata Timberlake, menunjuk mantan rekan-rekannya di band 'N Sync yang membesarkan namanya saat menerima Vanguard. \"Jadi saya akan berbagi penghargaan ini dengan mereka.\" Ia kemudian membawakan lagu \"Bye Bye Bye\" dengan 'N Sync. Media hiburan AS menyebut Timberlake sebagai \"pusat perhatian yang layak\" dibandingkan Lady Gaga dan Miley Cyrus dengan busana provokatif mereka. Selain Timberlake, artis lain yang bersinar di MTV VMA adalah Macklemore & Ryan Lewis dengan penghargaan video hip-hop terbaik untuk \"Can't Hold Us\" dan video terbaik dengan pesan sosial untuk \"Same Love\", lagu tentang pernikahan sejenis. Juara lainnya malam itu adalah Taylor Swift, One Direction, Brune Mars, Selena Gomez dan Thirty Seconds to Mars.\n",
            "Actual Summary: Video terbaik tahun ini menjadi momen berharga lain bagi Justin Timberlake di ajang penghargaan MTV Video Music Awards.\n",
            "Predicted Summary: untuk ini akan bukti penting bagi bagi para Bieberberlake. Amerika internasional internasional. Awards Awards.\n",
            "BLEU Score: 9.314777610904016e-232\n",
            "--------------------------------------------------\n",
            "Data 4:\n",
            "Input Asli: Ahok dipermasalahkan setelah mengucapkan pidato di Pulau Pramuka, tahun lalu. Kepada hakim, Ahmad Ishomuddin mengaku sebagai pakar fikih dan usul fikih yang menguasai tafsir Al-Quran dan hadis. Ahmad ialah anggota PBNU dan komisi fatwa MUI, namun ia menyatakan bersikap netral dan mewakili dirinya sendiri, lapor wartawan BBC Pijar Anugerah dari persidangan. Ahmad berpendapat bahwa kata auliya' dalam ayat 51 surat Al-Maidah bermakna ganda, namun mayoritas ahli tafsir mengartikannya sebagai \"teman setia\" -seperti dalam terjemahan terkini Kementerian Agama- dan bukan 'pemimpin.' \"Kalau diterjemahkan sebagai pemimpin, silakan. Namun berdasarkan riset terhadap 30 kitab tafsir, tidak satu pun saya mendapati yang bermakna pemimpin. Auliya' berarti teman setia, penolong, aliansi pembantu keperluan orang-orang beriman,\" kata Ahmad. Ahok mengaku, sejak terjun di politik, ia banyak disudutkan oleh para politikus dan kalangan tertentu, dengan menggunakan ayat-ayat suci, khususnya Al Maidah 51. Alasan para ulama menyepakati bahwa orang beriman dilarang mengambil orang Yahudi dan Nasrani sebagai teman setia, Ahmad menjelaskan, ialah permusuhan yang teramat sangat dan pengkhianatan di saat peperangan. \"Sabaabun nuzul (asal-usul turunannya ayat) Al-Maidah 51 ialah peperangan antara umat Islam dengan kaum Yahudi dan Nasrani pada zaman Nabi Muhammad. \"Saat itu, kaum Yahudi saling membantu untuk memusuhi Rasulullah. Demikian ini juga dilakukan Nasrani, mereka jadi teman setia satu sama lain untuk memusuhi rasul,\" jelas Ahmad. Lebih jauh ketika hakim bertanya apakah itu berarti jika menjadikan orang Yahudi dan Nasrani teman setia saja tidak boleh, maka tidak boleh pula menjadikan mereka sebagai pemimpin, Ahmad menjawab penalaran tersebut keliru karena alasan hukumnya, atau ilat, tidak sama. Terkait hal itu, Ahmad mengatakan surat Al-Maidah 51 tidak bersifat mutlak, namun hanya dapat diterapkan dalam konteks peperangan saat terjadi puncak permusuhan. Ayat tersebut bisa ditempatkan secara tidak benar jika digunakan untuk menyerang atau merendahkan lawan politik, misalnya dalam kampanye. Ketika ditanya hakim, kapan seseorang bisa dikatakan membohongi dengan Al-Maidah ayat 51, ia menjawab, \"Jika ayat itu digunakan dalam konteks pemilihan gubernur, karena ia tidak ada kaitannya dengan itu.\" Meskipun merupakan anggota komisi fatwa MUI, Ahmad mengkritik sikap dan pandangan keagamaan lembaga itu yang menyatakan bahwa Ahok telah menodai agama. Ia mengaku tidak pernah dilibatkan dalam penentuan sikap tersebut. Ahmad menganggap langkah itu diambil MUI tanpa melakukan pengecekan silang kejadian sebenarnya di Pulau Pramuka dan klarifikasi kepada Ahok. \"Saya setuju poin tertentu, misalnya bahwa keharmonisan umat harus tetap terjaga, tapi pada keputusan yang merugikan orang lain tapi tidak tabayun (klarifikasi), itu yang saya tidak sependapat,\" katanya kepada Majelis Hakim. Salah satu unjuk rasa menuntut Ahok dipenjarakan terkait pernyataannya yang menyebut AL Maidah. Sebelumnya, di persidangan ke-15 kasus Ahok, saksi ahli bahasa yang dihadirkan pengacara menyebut, kata 'pakai' antara kata 'dibohongi' dan 'Al Maidah' menegaskan bahwa yang membohongi bukan Quran melainkan orang. Rahayu Surtiati selaku ahli bahasa yang didatangkan tim kuasa hukum Ahok mengatakan bahwa ucapan Ahok, \"dibohongi pakai Surat Al-Maidah\", tidak berarti ada kebohongan dalam surat Al-Maidah.\" \"Al Maidah itu tidak berbohong, hanya dijadikan alat untuk membohongi. Jadi, ada orang yang menggunakan Al Maidah 51 untuk membohongi orang lain,\" kata guru besar linguistik di Fakultas Ilmu Budaya Universitas Indonesia itu. Pernyataan itu, tambah Rahayu, diungkapkan Ahok berdasarkan pengalaman pribadinya. Ini terungkap dari permulaan kalimat Ahok, \"Saya mau cerita...\" \"Itu berdasarkan fakta, bahwa surat Al-Maidah digunakan untuk membohongi orang supaya menang (pemilihan),\" katanya dalam sidang yang dipimpin hakim Dwiharso Budi Santiarto. Sebagaimana yang sudah-sudah, persidangan yang berlangsung di Auditorium Kementerian Pertanian, Jakarta Selatan itu ditandai aksi dukungan dan penentangan. Sejumlah pendukung maupun penentang Ahok sudah berdatangan sejak pagi, dengan peralatan dan mimbar unjuk rasa masing-masing.\n",
            "Actual Summary: Menjawab pertanyaan hakim, seorang ahli agama mengatakan seseorang bisa dikatakan membohongi dengan Al-Maidah 51 \"jika digunakan dalam konteks pemilihan gubernur, karena ayat itu tidak ada kaitannya dengan itu.\"\n",
            "Predicted Summary: lu pertanyaan ini soal yang hakim hukum di, akan masuk bersalahodohongi warga cara-Qaedaaidah..,  hukum umum suci..\n",
            "BLEU Score: 4.302862482638241e-232\n",
            "--------------------------------------------------\n",
            "Data 5:\n",
            "Input Asli: Tidak ada yang istimewa dari sayur lodeh, segala tentangnya sederhana malah. Sayur berkuah ini terbuat dari tujuh bahan utama dan siraman santan yang sedikit pedas. Ahli gizi yang mempelajari hidangan ini mengatakan ada manfaat kesehatan dari bahan-bahan tambahannya, seperti lengkuas, yang dianggap mengandung kualitas anti-inflamasi.Baca juga Hidangan yang terbuat dari bahan-bahan musiman yang mudah didapat ini juga sangat cocok untuk masa karantina, kata mereka. Abdi dalem keraton. Namun yang terpenting dari titah sultan untuk memasak sayur lodeh saat itu adalah pesannya tentang solidaritas sosial. Seluruh kota, memasak makanan yang sama di saat bersamaan, menciptakan rasa kebersamaan yang kuat. \"Seperti banyak hal dalam kepercayaan Jawa, tujuannya adalah untuk menolak bala,\" ujar Revianto Budi Santoso, seorang arsitek, dosen, dan sejarawan Jawa. \"Menghindari hal-hal yang tidak menyenangkan lebih utama ketimbang mencapai sesuatu sendirian. Orang Jawa berpikir, jika tidak ada rintangan, hidup akan menjaga dirinya sendiri.\" Secara keseluruhan, hidangan Jawa kaya akan simbolisme. Nasi tumpeng, misalnya, yang terdiri dari campuran daging dan sayuran dengan mahkota nasi kuning berbentuk kerucut, mencerminkan tatanan dunia di bawah Sang Kuasa. Nasi kuning sendiri dianggap membawa berkah bagi rumah dan bisnis baru. Sementara jamu, dalam manuskrip kuno ditulis sebagai 'jampi' atau 'usodho' adalah ramuan untuk kesehatan. Sayur lodeh terbuat dari bahan-bahan sederhana dan berkuah santan pedas. Sayur lodeh, secara linguistik dan numerologis, memperkuat simbolisme ini. Tujuh bahan utama yang ditambahkan ke kuah santan — melinjo, daun melinjo, labu siam, kacang panjang, terong, nangka, dan tempe — memiliki makna simbolis yang diturunkan dari suku katanya. Dalam bahasa Jawa, kata wungu dari terong wungu berarti berwarna ungu, tapi juga bisa berarti 'terbangun'; sementara lanjar dari kacang lanjar (atau kacang panjang) bisa dimaknai sebagai 'berkah'. Memasak sayur lodeh bersama-sama juga bisa menjadi contoh slametan, sebuah ritual komunal yang oleh antropolog Clifford Geertz disebut sebagai ciri utama budaya Jawa. Dan salah satu karakteristik mencolok dari slametan adalah pada kepasrahannya; sayur lodeh dibuat tanpa banyak harapan, apakah ia akan berhasil menolak bala atau tidak. \"Menariknya, sayur lodeh tidak bersifat individual,\" kata Santoso. \"Ini adalah respons terhadap kemalangan yang sepertinya akan menimpa semua orang. Ini adalah upaya untuk mengurangi, juga menghindari, sesuatu yang sepertinya tak terhindarkan.\" Labuhan di Gunung Merapi. Bagi orang luar, salah satu hal menarik dari kisah keajaiban sayur lodeh adalah betapa tidak ajaibnya sayur itu sendiri. Bahan-bahannya dengan mudah dimiliki setiap rumah di desa. Cara mempersiapkan hidangan ini pun mudah: masukkan semua bahan ke panci, lalu jerang di atas api. Dahulu, ritual memasak sayur lodeh dimulai setelah dua pusaka kerajaan — tombak dan bendera suci, yang konon terbuat dari bahan yang diambil dari makam Nabi Muhammad — diarak keliling kota. Tapi sekarang, sayur lodeh sudah seperti makanan biasa. Di samping kompleksitas linguistik dan numerologinya, ada sebuah kepraktisan, kebiasaan yang membumi, yang membuat slametan terasa bertolak belakang. Sejarah kompleks Sayur lodeh memang mudah dibuat, namun asal-usulnya cukup rumit. Beberapa ahli percaya tradisi memasak sayur lodeh berasal dari masa kejayaan peradaban Jawa Tengah pada abad ke-10. Kala itu, konon sayur lodeh membantu melewati masa-masa sulit selama letusan dahsyat Gunung Merapi pada 1006. Sejarawan kuliner seperti Fadly Rahman memperkirakan tradisi memasak lodeh juga sudah dilakukan pada abad ke-16, setelah bangsa Spanyol dan Portugis memperkenalkan kacang panjang ke Jawa. Beberapa sejarawan lain yakin bahwa \"tradisi kuno\" ini mulai muncul kembali pada abad-19; di pergantian ke abad 20, saat Yogyakarta menjadi jantung Kebangkitan Nasional Indonesia, periode di mana banyak mitos daerah ditemukan dan dirayakan. Namun legenda sayur lodeh memang diperkuat pada awal abad ke-20. Contoh paling terkenal adalah pada 1931, pada masa pemerintahan Sultan Hamengkubuwono VIII, ketika Jawa telah dilingkungi wabah pes selama lebih dari dua dekade. Namun catatan sejarah juga menunjukkan bahwa sayur lodeh telah dimasak untuk menanggapi krisis pada 1876, 1892, 1946, 1948, dan 1951. Yang semakin pelik, lambat laun sayur lodeh menjadi kian populer di seluruh Nusantara. Maka semakin sulit pula menemukan alasan mengapa dan bagaimana hidangan ini berevolusi. Baru-baru ini, di awal pandemi Covid-19, instruksi untuk memasak sayur lodeh beredar melalui pesan WhatsApp. Tapi sejarawan Khir Johari mengatakan, pertanyaan-pertanyaan itu tidak relevan. \"Saat kita melihat sejarah sebuah makanan, kita tergoda untuk mencoba mengkait-kaitkan peristiwa sampai Anda menemukan kisah yang monosentris,\" ujarnya. \"Padahal bisa jadi makanan itu berasal dari lebih dari satu tempat.\" \"Komunitas Peranakan Tionghoa di Singapura menyajikan sayur lodeh sebagai semur sayur berkuah kuning yang dimakan dengan lontong,\" ujarnya. \"Sementara orang-orang Jawa di Singapura memasak lodeh tanpa kunyit.\" Bagi Johari, transformasi sayur lodeh menyebar melalui tambal-sulam budaya Nusantara dan saling berkelindan dengan makanan, kebudayaan sosial, dan lingkungan. Lahan pertanian subur di sekeliling Yogyakarta memang memasok sayuran yang memungkinkan penduduknya bertahan menghadapi wabah dan erupsi gunung berapi, tapi kota ini juga dikelilingi pelabuhan-pelabuhan maritim utama. Mengkarantina penduduk berarti juga menerapkan isolasi pada para pendatang baru. Bisa jadi, para pelaut Jawa yang kemudian membuat lodeh populer hingga ke luar Yogyakarta. Makanan sejenis sup, kuah, dan kari — layaknya sayur lodeh — sangat praktis dimasak saat terjebak di kapal. Maka, hidangan ini pun terus berkembang. Di kota-kota hiper-urban di Asia Tenggara saat ini, sayur lodeh diperkenalkan kembali sebagai makanan kesehatan. Lodeh juga menjadi hidangan warisan yang menarik bagi kelas menengah yang berkembang pesat. Untuk generasi Instagram, sayur lodeh yang kaya warna cocok untuk menarik perhatian di linimasa. Kompleks Candi Borobudur yang dibangun pada abad k \"Saat pertama kali membuka toko saya, orang-orang biasanya datang untuk keperluan sosial media: 'Lihat, saya bersentuhan dengan budaya saya', semacam itu,\" kata Nova Dewi Setianbudi, pemilik kedai Suwe Ora Jamu di M Bloc, distrik kuliner kekinian di Jakarta. \"Namun sekarang orang Indonesia mulai menyadari manfaat kesehatan dari makanan tradisional kita; kita tidak selalu menyadari manfaat obat dari bahan-bahan seperti daun salam, serai, dan lengkuas.\" Di luar Yogyakarta, sayur lodeh mungkin telah kehilangan makna aslinya, namun hidangan ini masih dikenali sebagai makanan yang bersahaja. \"Lodeh adalah makanan yang sederhana,\" kata Nova, \"Tapi ada filosofi hebat, kebijaksanaan, di baliknya. Kuncinya terletak pada bahan-bahan yang segar.\" Namun untuk saat ini, perubahan tren kuliner di Jakarta tak ada hubungannya dengan popularitas lodeh di Yogyakarta. Di awal pandemi, sebuah pesan beredar di WhatsApp, berisi instruksi memasak sayur lodeh untuk melawan Covid-19, yang diklaim berasal dari Sultan Yogyakarta saat ini. Sebagian besar warga tergugah, dan mulai memasak sayur lodeh untuk dibagi-bagikan ke tetangga. Yogyakarta telah berubah selama 20 tahun terakhir, dengan pembangunan hotel, mal, dan bandara yang pesat. Namun kebutuhan akan ritual oleh masyarakatnya tak berubah. Tanah pertanian subur di sekitar Yogyakarta memasok sayuran yang memungkinkan penduduk desa menghadapi wabah penyakit dan letusan gunung berapi Meski begitu, tidak ada yang benar-benar yakin apakah pesan tersebut berasal dari Sultan. Kepada koran lokal, Keraton menampik, meski banyak juga yang tidak percaya klarifikasi ini. Yogyakarta adalah anomali; sebuah kesultanan otonom di dalam sebuah republik. Sultan saat ini tentu ingin dilihat sebagai sosok modern dan ingin menjauhkan diri dari takhayul yang melekat pada sayur lodeh. Namun pada akhirnya, antusiasme warga terhadap sayur lodeh tidak akan hilang, juga terhadap khasiat yang terkandung di dalamnya. Anda dapat membaca artikel ini dalam bahasa Inggris dengan judul A Javanese dish to banish the plague pada laman BBC Travel.\n",
            "Actual Summary: Alkisah, saat wabah menyerang Yogyakarta pada 1931, sultan memerintahkan warganya untuk memasak sayur lodeh dan berdiam diri di rumah selama 49 hari. Lalu wabah berakhir.\n",
            "Predicted Summary: -, para ini virus di di Sabtu di di  agar untuk mengungsi..mbokkan. makan diri di rumah. tiga tahun. ini,\n",
            "BLEU Score: 3.3288971473710843e-155\n",
            "--------------------------------------------------\n",
            "Average BLEU Score: 0.0000\n"
          ]
        },
        {
          "output_type": "stream",
          "name": "stderr",
          "text": [
            "/usr/local/lib/python3.10/dist-packages/nltk/translate/bleu_score.py:577: UserWarning: \n",
            "The hypothesis contains 0 counts of 3-gram overlaps.\n",
            "Therefore the BLEU score evaluates to 0, independently of\n",
            "how many N-gram overlaps of lower order it contains.\n",
            "Consider using lower n-gram order or use SmoothingFunction()\n",
            "  warnings.warn(_msg)\n",
            "/usr/local/lib/python3.10/dist-packages/nltk/translate/bleu_score.py:577: UserWarning: \n",
            "The hypothesis contains 0 counts of 4-gram overlaps.\n",
            "Therefore the BLEU score evaluates to 0, independently of\n",
            "how many N-gram overlaps of lower order it contains.\n",
            "Consider using lower n-gram order or use SmoothingFunction()\n",
            "  warnings.warn(_msg)\n",
            "/usr/local/lib/python3.10/dist-packages/nltk/translate/bleu_score.py:577: UserWarning: \n",
            "The hypothesis contains 0 counts of 2-gram overlaps.\n",
            "Therefore the BLEU score evaluates to 0, independently of\n",
            "how many N-gram overlaps of lower order it contains.\n",
            "Consider using lower n-gram order or use SmoothingFunction()\n",
            "  warnings.warn(_msg)\n"
          ]
        }
      ]
    },
    {
      "cell_type": "code",
      "source": [
        "# ===== 11. Evaluate and Generate Summaries =====\n",
        "def generate_summary(texts):\n",
        "    inputs = tokenizer([\"summarize: \" + text for text in texts], return_tensors=\"pt\", max_length=512, truncation=True, padding=\"max_length\")\n",
        "    input_ids = inputs[\"input_ids\"].to(model.device)\n",
        "    attention_mask = inputs[\"attention_mask\"].to(model.device)\n",
        "\n",
        "    # Generate summaries\n",
        "    outputs = model.generate(input_ids=input_ids, attention_mask=attention_mask, max_length=128, num_beams=4, early_stopping=True)\n",
        "    return [tokenizer.decode(output, skip_special_tokens=True) for output in outputs]\n",
        "\n",
        "# Test generation on validation data\n",
        "# Access the 'text' from the original dataset:\n",
        "sample_texts = [dataset[\"validation\"][i][\"text\"] for i in range(5)] # Change to access original dataset\n",
        "generated_summaries = generate_summary(sample_texts)\n",
        "\n",
        "for i, (text, summary) in enumerate(zip(sample_texts, generated_summaries)):\n",
        "    print(f\"Original Text {i+1}:\\n{text}\\n\")\n",
        "    print(f\"Generated Summary {i+1}:\\n{summary}\\n\")"
      ],
      "metadata": {
        "id": "cTGzGHZWPq2A",
        "colab": {
          "base_uri": "https://localhost:8080/"
        },
        "outputId": "c4a7c4cd-12bf-4d0a-bc68-ee4c8fc5ffc7"
      },
      "execution_count": 18,
      "outputs": [
        {
          "output_type": "stream",
          "name": "stdout",
          "text": [
            "Original Text 1:\n",
            "Perusahaan penyelenggara ulang tahun anak-anak mengatakan, biaya yang dikeluarkan untuk pesta sangat mahal Namun, permintaan semacam itu benar-benar diajukan salah seorang klien perusahaan event organizer bernama Quintessentially Events & Weddings. Pada sebuah musim dingin, perusahaan ini menciptakan tema luar ruangan di dalam ruangan untuk pesta ulang tahun anak-anak. Dengan tema itu, perusahaan tersebut menanam rumput dalam ruangan, lengkap dengan pohon-pohon, bunga, ayunan dan peluncur. Menurut manajer Chloe Astin, mereka mematok harga 100.000 pound atau setara dengan Rp1,9 miliar. Harga itu mencakup makanan kecil untuk orang dewasa, tas pesta, dan suvenir berupa kalung Tiffany kecil untuk anak-anak. Inflasi Dengan kondisi ekonomi saat ini yang diwarnai inflasi, kemeriahan pesta ulang tahun tidak menunjukkan tanda-tanda penurunan. Anak saya baru berusia lima tahun, tapi ia sudah menghadiri pesta ultah dalam berbagai tema. Sebut saja sesi pembuatan pizza di dapur restoran, pelatihan mencetak T-shirt, hingga menginap di hotel. Apakah pesta berbiaya besar ini akan berakhir? Salah satu orang tua mencoba untuk menghadirkan tim Disney on Ice untuk perayaan ulang tahun anak mereka yang ke lima Perusahaan Quintessentially mengatakan permintaan acara ultah mewah kian meningkat. \"Apa yang anak-anak tonton dan cerna telah memberi mereka harapan yang lebih tinggi,\" kata Astin. Alice in Wonderland Steven Duggan, pendiri perusahaan event organizer yang merupakan langganan bintang-bintang ternama seperti Sir Elton John, menyatakan pesta besar-besaran kini digelar untuk merayakan ultah batita alias bayi tiga tahun. Baru-baru ini Duggan menyelenggarakan acara yang menelan biaya sebesar 70.000 pound dengan tema Peter Pan dan Alice in Wonderland untuk merayakan ulang tahun pertama sepasang anak kembar. Biaya tersebut meliputi ongkos mendatangkan artis dan menciptakan wahana permainan. Para tamu diundang untuk \"berjalan di papan\" dalam sebuah pesta dengan tema Peter Pan dan Alice in Wonderland Pesta untuk merayakan ulang tahun pertama balita kembar menelan biaya 70,000 pound Harga ini termasuk alat peraga seperti jamur raksasa yang berwarna-warni Ia mengatakan perusahaannya mematok harga antara 15.000 pound dan 20.000 pound untuk mengatur hari istimewa anak. Tapi ia bilang ia bisa mengatur sesuatu \"setingkat dari apa yang akan Anda lakukan sendiri\" dari harga 5.000 pound. Hollywood Meski melebihi skala normal, banyak orang tua menghabiskan biaya lebih untuk hari istimewa anak mereka. The Young Film Academy, yang bisnis utamanya adalah menjalankan program pembuatan film untuk para remaja, telah membuat 150 film pesta anak-anak tahun lalu, naik dari 120 pada 2013. Walau biaya pesta mulai dari harga 540 pound, namun hampir dari setengah peminat memilih memesan paket paling mahal yaitu MoviePartie yang berbiaya mulai dari 1.950 pound, yang dibintangi oleh anak yang sedang berulang tahun dan teman-teman mereka bak film-film Hollywood. Di Young Film Academy anak-anak bisa membintangi film beserta teman-temannya bak bintang Hollywood \"Ada perasaan yang nyata dari para orang tua untuk melakukan sesuatu yang berbeda dari pesta-pesta yang biasa,\" kata sutradara James Walker. Sifat pasar pesta yang terfragmentasi -seperti kue, menyewa aula dan hiburan - membuat biaya sulit untuk dipantau. Tapi survei tahunan terbaru asuransi LV menunjukkan biaya membesarkan anak sejak lahir sampai 21 tahun menyebutkan total biaya sebesar 229.951 pound. Di antara kolom-kolom biaya, terdapat kolom \"lainnya\"--yang meliputi hadiah ulang tahun dan Natal, serta belajar mengemudi--meningkat 60,2% antara 2003 dan 2015 Bebas hadiah Bill Doherty, profesor Ilmu Sosial Keluarga di Universitas Minnesota, AS, mendirikan kelompok, Birthdays Without Pressure atau Ulang tahun tanpa tekanan, karena alasan-alasan ini. Dia mengatakan kelompok itu berisi para orang tua yang merasa tidak puas dengan eskalasi pesta ulang tahun anak-anak dan kemudian memilih untuk menggelar pesta ultah tanpa hadiah. Sebagai gantinya, orang tua-orang tua itu mengimbau peserta pesta menyumbang untuk amal. Tapi dia memperingatkan bahwa ide ini hanya akan berjalan jika semua orang tua setuju untuk meniadakan tas pesta atau hadiah. Tidak semua anak bisa menerima acara ulang tahun tanpa hadiah Salah satu anggota kelompok yang pernah mengadakan pesta, mengaku putrinya menangis ketika berulang tahun karena salah satu undangan mengejeknya setelah tidak menerima tas suvenir. Anggota kelompok lainnya mengalami penghinaan dari para tetangga karena pesta ultah bertujuan untuk menggalang dana sumbangan. \"Jika Anda tidak melakukan pesta besar, Anda bukan orangtua yang buruk,\" kata Prof Doherty.\n",
            "\n",
            "Generated Summary 1:\n",
            "summarize: summarize: summarize: summarize: summarize: summarize: summarize: summarize:: summarize:: summarize: summarize: summarize::...\n",
            "\n",
            "Original Text 2:\n",
            "Israel Palestina kembali memulai pembicaraan damai dengan AS sebagai penengah. Pembicaraan damai itu dimulai pada Juli lalu setelah terhenti sekitar tiga tahun. Putaran terakhir dilakukan pada pekan lalu setelah faksi utama Palestina mengumumkan sebuah pakta politik. Menteri Luar Negeri AS John Kerry, sebagai penengah, membantah telah menyampaikan sebuah pernyataan yang menyebut Israel sebagai \"sebuah negara apartheid\". Pada Senin (28/04), dalam pernyataan di pertemuan tertutup, dia memperingatkan bahwa Israel berisiko menjadi \"sebuah negara apartheid\" jika solusi dua negara tidak dapat dicapai secepatnya. \"Solusi dua negara jelas merupakan satu-satunya alternatif yang nyata,\" kata Kerry, dalam pernyataan yang dimuat dalam Daily Beast, yang mempublikasikan komentarnya. \"Karena sebuah negara kesatuan akan menjadi sebuah negara apartheid dengan warga negara kelas dua, atau berakhir menjadi sebuah negara yang menghancurkan kapasitas Israel untuk menjadi negara Yahudi.\" Tetapi dalam pernyataan yang disampaikan pada Selasa (29/04), dia mengatakan: \"Saya tidak percaya, atau pernah mengatakannya, di hadapan publik ataupun privat, bahwa Israel merupakan sebuah negara apartheid atau akan menjadi salah satunya.\" Keraguan Editor bidang Timur Tengah BBC, Jeremy Bowen, mengatakan kegagalan pembicaraan tersebut disebabkan adanya keraguan atas pencapaian solusi dua negara. Pembicaraan Israel-Palestina telah mengalami masalah setelah berulang kali terjadi ketidaksepakatan mengenai pembangunan permukiman dan pembebasan tahanan. Israel menangguhkan perundingan setelah dua faksi utama Palestina, Fatah yang sekuler dan Hamas yang Islamis, menandatangani kesepakatan bersama pada Rabu (23/04) lalu. Israel mengatakan akan menolak semua kesepakatan yang melibatkan pihak manapun yang menjadikan Hamas sebagia mitra.\n",
            "\n",
            "Generated Summary 2:\n",
            ": summarize: summarize: summarize: summarize: summarize: summarize: summarize: summarize: summarize: summarize: summarize: summarize: summarize: summarize: summarize: summarize: summarize: summarize:::::::::::\n",
            "\n",
            "Original Text 3:\n",
            "Ayah Sumarti Ningsih diberitakan menuntut pembunuh putrinya dieksekusi. Dua perempuan Indonesia dibunuh secara sadis di distrik Wan Chai, Hong Kong. Pelakunya diduga adalah seorang bankir asal Inggris Rurik George Caton Jutting. Di gerbong kereta London barat daya khususnya pada jam-jam sibuk di pagi hari atau sore, baisanya jarang terdengar obrolan dalam suara keras. Tergoda juga untuk menimbrung percakapan mereka tatkala salah satu dari mereka terdengar menyudutkan dua perempuan itu, Sumarti Ningsih dan Seneng Mujiasih yang menggunakan nama alias Jesse Lorena Ruri. Namun saya tahan keinginan itu dan justru membenankam kepala di antara halaman-halaman koran. Di dalam berita koran tersebut pembaca digiring untuk mengamini bahwa kedua warga Indonesia itu adalah pekerja seks komersial yang ramah kepada pria-pria asing atau lebih tepatnya bule. Latar belakang Rurik Jutting telah dikenai dakwaan dua kasus pembunuhan oleh pengadilan Hong Kong. Disebutkan pula bahwa sebagian pembantu rumah tangga di Hong Kong, kebanyakan dari Indonesia dan Filipina, suka 'mengompreng' di akhir pekan. Berita seperti ini juga muncul di koran-koran arus perdana. Bahkan salah satu surat kabar ternama membuat kalkulasi berapa jumlah uang yang bisa didapat dari hasil omprengan di akhir pekan. Lebih tinggi dibanding gaji bulanan seorang tenaga kerja domestik. Yang juga menjadi bumbu berita peristiwa pembunuhan di Hong Kong itu adalah latar belakang tersangka. Ia adalah lulusan perguruan tinggi bergengsi, Cambridge, dan tamatan sekolah menengah swasta yang bergengsi pula. Rurik Jutting diberitakan sebagai bankir sukses di Inggris dan selanjutnya di Hong Kong. Gemparlah Inggris karena pembunuhan yang diduga dilakukan di apartemen mewah bankir itu di kawasan Wan Chai, distrik yang terkenal dengan kehidupan malamnya. Akan tetapi belum banyak media yang mengupas mengapa sang bankir, kalau terbukti, tega menghabisi nyawa sesama manusia yang sama-sama mencari rezeki di Hong Kong. Mengapa mereka harus dibunuh? Dan mengapa sesadis itu? Tubuh Sumarti Ningsih dipotong-potong dan dimasukkan ke dalam koper. Ketika ditemukan kondisi jenazah sudah membusuk. Adapun Seneng Mujiasih ditemukan dengan luka leher dan pantat. Ada judul berita yang menyebut Jutting sebagai psychopath, sebagai pembunuh, walaupun belum dibuktikan di meja hijau. Memang penyelidikan masih berjalan, tetapi ini adalah tragedi dengan korban Sumarti Ningsih dan Seneng Mujiasih. Beberapa pembaca menyampaikan simpati kepada korban dan keluarga mereka. \"Dengan berita sevulgar dan segrafis ini, masak koran tega memuat foto perempuan-perempuan malang tersebut,\" protes seorang pembaca di salah satu koran utama.\n",
            "\n",
            "Generated Summary 3:\n",
            "summarize: summarize: summarize: summarize: summarize: summarize:: summarize:: summarize: summarize: summarize: summarize:::::.\n",
            "\n",
            "Original Text 4:\n",
            "Tentara Chad yang terlibat dalam operasi militer di Mali. Baku tembak terjadi pada Jumat (22/02) di kawasan pegunungan Ifoghas, yang diyakini sebagai lokasi persembunyian kelompok militan Sejak Januari lalu, Pemerintah Prancis menggelar operasi militer di Mali untuk menghancurkan kelompok militan Islam yang menguasai kawasan utara Mali sejak setahun silam. Ribuan tentara dari berbagai negara Afrika -- termasuk dari negara Chad -- ikut terlibat dalam operasi militer tersebut. Kelompok militan Islam diyakini mundur ke pegunungan Ifoghas, sebuah kawasan gurun yang luas di dekat perbatasan dengan Aljazair. Mereka bergerak mundur dari kawasan utara yang berpenduduk padat menuju kawasan pegunungan terebut setelah terdesak pasukan gabungan, dalam pekan-pekan terakhir. Sengit Pernyataan resmi yang dikeluarkan otoritas Angkatan Darat Chad pada Jumat (22/02), menyatakan \"mereka mampu menghancurkan lima kendaraan lapis baja dan mewaskan 65 anggota kelompok jihad\". Namun demikian mereka mengaku, sedikitnya 13 orang tentara Chad dan lima lainnya terluka dalam pertempuran yang berlangsung sengit itu. Awal bulan ini, sekitar 1,800 tentara Chad menggelar patroli di kota Kidal, Mali. Chad sebelumnya telah berjanji untuk mengirim 2.000 tentara ke Mali sebagai bagian dari pasukan negara-negara Afrika. Sementara itu, pertempuran antara Tentara Mali yang didukung Tentara Prancis dan kelompok militan Islam berlanjut di pusat kota Gao. Pesawat pengintai AS Pada Kamis (21/02), pasukan koalisi berhasil merebut kembali gedung balai kota, yang sebelumnya dikuasai kelompok militan sehari sebelumnya. Dalam perkembangan lainnya, otoritas militer AS mengatakan telah mengerahkan pesawat pengintai di Nigeria untuk mengumpulkan informasi tentang aktivitas kelompok militan Islam. Pengintaian ini dilakukan di sepanjang perbatasan Nigeria dan Mali, dengan bekerja sama dengan Tentara Perancis. Pemerintah Prancis memutuskan untuk mengerahkan pasukan militernya di bekas koloninya pada Januari lalu, menyusul kekhawatiran terhadap kehadiran kelompok al-Qaida yang mengendalikan kawasan utara Mali sejak bulan April 2012 lalu. Dalam perkembangannya, pemerintah Prancis berencana untuk menarik kembali 4.000 tentaranya pada Maret nanti. Mereka mengharapkan agar pasukan gabungan negara-negara Afrika nantinya menggantikan posisi mereka dalam payung pasukan perdamaian PBB.\n",
            "\n",
            "Generated Summary 4:\n",
            "summarize: summarize: summarize: summarize: summarize:: summarize:: summarize: summarize:: summarize:summarize:::: summarize:: summarize:.\n",
            "\n",
            "Original Text 5:\n",
            "Mahasiswa Universitas Sathyabhama mulai membakari perabotan di kampus mereka pada Rabu (22/11) malam, lapor media setempat. Para pengunjuk rasa itu menuding staf universitas telah menghina mahasiswa yang ketahuan mencontek itu dan membuatnya bunuh diri. Mahasiswi berusia 18 tahun itu dilaporkan menggantung diri di kamarnya setelah dikeluarkan dari ruangan karena ketahuan mencontek. Harian The Times of India melaporkan, jasad mahasiswi itu ditemukan oleh saudara kembarnya dan para sahabatnya. Begitu berita kematiannya beredar, para mahasiswa langsung melancarkan aksi protes. Dalam berbagai video dan gambar yang beredar di media sosial, tampak kasur dan perabotan dibakar. \"Mereka membakar apa saja di luar asrama mahasiswa tahun pertama. Mereka bahkan membakar pohon,\" kata seorang mahasiswa sebagaimana dikutip The News Minute. \"Betapapun,\" katanya, \"bangunan sih tidak terbakar, saya kira. Dan pada pukul 11 malam, banyak sekali orang berunjuk rasa di depan gerbang kampus.\" Unjuk rasa baru berakhir Kamis pagi, setelah polisi membubarkan mereka.\n",
            "\n",
            "Generated Summary 5:\n",
            ": summarize: summarize: summarize: summarize: summarize: summarize: summarize: summarize: summarize: summarize: summarize: summarize: summarize: summarize: summarize: summarize: summarize: summarize:::::::::::\n",
            "\n"
          ]
        }
      ]
    },
    {
      "cell_type": "code",
      "source": [
        "# ===== 12. Evaluate with BLEU Score =====\n",
        "def calculate_bleu(references, candidates):\n",
        "    bleu_scores = []\n",
        "    for ref, cand in zip(references, candidates):\n",
        "        bleu_scores.append(sentence_bleu([ref.split()], cand.split()))\n",
        "    return np.mean(bleu_scores)\n",
        "\n",
        "# Extract references and candidates from the validation set\n",
        "# Access 'summary' from the original dataset, not the tokenized one:\n",
        "references = [dataset[\"validation\"][i][\"summary\"] for i in range(len(tokenized_datasets[\"validation\"][:100]))]  # Get summaries from the original dataset\n",
        "candidates = generate_summary([dataset[\"validation\"][i][\"text\"] for i in range(len(tokenized_datasets[\"validation\"][:100]))])  # Get texts from the original dataset\n",
        "\n",
        "# Calculate BLEU Score\n",
        "bleu_score = calculate_bleu(references, candidates)\n",
        "print(f\"BLEU Score on Validation Set: {bleu_score:.4f}\")\n",
        "\n",
        "# Calculate ROUGE Scores\n",
        "# Assuming rouge_metric is defined somewhere else in your code\n",
        "try:\n",
        "    rouge_scores = rouge_metric.compute(predictions=candidates, references=references)\n",
        "    print(\"ROUGE Scores on Validation Set:\")\n",
        "    for key, value in rouge_scores.items():\n",
        "        print(f\"{key}: {value:.4f}\")\n",
        "except NameError:\n",
        "    print(\"rouge_metric is not defined. Please define it before calculating ROUGE scores.\")"
      ],
      "metadata": {
        "id": "HQyggwMIPt6D",
        "colab": {
          "base_uri": "https://localhost:8080/"
        },
        "outputId": "6a5fab00-df30-4a40-e39c-e57460b4536e"
      },
      "execution_count": 19,
      "outputs": [
        {
          "output_type": "stream",
          "name": "stdout",
          "text": [
            "BLEU Score on Validation Set: 0.0000\n",
            "rouge_metric is not defined. Please define it before calculating ROUGE scores.\n"
          ]
        }
      ]
    },
    {
      "cell_type": "code",
      "source": [
        "# ===== 13. Plot Results =====\n",
        "plt.figure(figsize=(10, 6))\n",
        "plt.hist([len(text.split()) for text in references], bins=20, alpha=0.5, label=\"References\")\n",
        "plt.hist([len(text.split()) for text in candidates], bins=20, alpha=0.5, label=\"Candidates\")\n",
        "plt.title(\"Length Distribution of References vs Candidates\")\n",
        "plt.xlabel(\"Length (Number of Words)\")\n",
        "plt.ylabel(\"Frequency\")\n",
        "plt.legend()\n",
        "plt.show()"
      ],
      "metadata": {
        "id": "X80VnrRjPwme",
        "colab": {
          "base_uri": "https://localhost:8080/",
          "height": 564
        },
        "outputId": "628d4559-0b5b-422b-c272-68c6341d707a"
      },
      "execution_count": 20,
      "outputs": [
        {
          "output_type": "display_data",
          "data": {
            "text/plain": [
              "<Figure size 1000x600 with 1 Axes>"
            ],
            "image/png": "[encoded data removed]"
          },
          "metadata": {}
        }
      ]
    },
    {
      "cell_type": "markdown",
      "source": [
        "melakukan dengan LLM lain"
      ],
      "metadata": {
        "id": "6t7OelV4SCne"
      }
    },
    {
      "cell_type": "code",
      "source": [
        "from transformers import AutoTokenizer, Phi3ForCausalLM\n",
        "import torch\n",
        "\n",
        "checkpoint = \"microsoft/Phi-3.5-mini-instruct\"\n",
        "tokenizer = AutoTokenizer.from_pretrained(checkpoint, trust_remote_code=True)\n",
        "model = Phi3ForCausalLM.from_pretrained(\n",
        "    checkpoint,\n",
        "    torch_dtype=torch.bfloat16,\n",
        "    trust_remote_code=True,\n",
        "    device_map=\"auto\"\n",
        ")"
      ],
      "metadata": {
        "id": "kG3GMloJSB94",
        "colab": {
          "base_uri": "https://localhost:8080/",
          "height": 84,
          "referenced_widgets": [
            "4907a7ae86f14b988eeb6ade2fcbdd39",
            "fe6ff7e0473743b3912d49bb72522f85",
            "bbf707c6d3d54c79896eca91b0138242",
            "6b311915fb0142bcaa40410ca403d94f",
            "c0dbc443cdca4ea1aa4758fcb3cb109b",
            "027ee22b886243cb896ff2a2fb27aa0f",
            "51105a021e254db89293227b1bde53d9",
            "5fcd2b034d5f4646b5d14aa90c9de16a",
            "cee8aef5e79c46fbbf7ef69944ce16f7",
            "ac6b920354a843dd8823210399449ff0",
            "13ebd25a8b3f4630be7f00963e7bbbf9"
          ]
        },
        "outputId": "f995d1a5-14ce-45a2-a5d4-e2f14df92d4e"
      },
      "execution_count": 21,
      "outputs": [
        {
          "output_type": "stream",
          "name": "stderr",
          "text": [
            "The argument `trust_remote_code` is to be used with Auto classes. It has no effect here and is ignored.\n"
          ]
        },
        {
          "output_type": "display_data",
          "data": {
            "text/plain": [
              "Loading checkpoint shards:   0%|          | 0/2 [00:00<?, ?it/s]"
            ],
            "application/vnd.jupyter.widget-view+json": {
              "version_major": 2,
              "version_minor": 0,
              "model_id": "4907a7ae86f14b988eeb6ade2fcbdd39"
            }
          },
          "metadata": {}
        },
        {
          "output_type": "stream",
          "name": "stderr",
          "text": [
            "WARNING:accelerate.big_modeling:Some parameters are on the meta device because they were offloaded to the cpu.\n"
          ]
        }
      ]
    },
    {
      "cell_type": "code",
      "source": [
        "sample_article = dataset[\"train\"][0][\"text\"]\n",
        "sample_summary = dataset[\"train\"][0][\"summary\"]\n",
        "sample_article1 = dataset[\"train\"][1][\"text\"]\n",
        "sample_summary1 = dataset[\"train\"][1][\"summary\"]"
      ],
      "metadata": {
        "id": "oJIw-0FtULlI"
      },
      "execution_count": 22,
      "outputs": []
    },
    {
      "cell_type": "markdown",
      "source": [
        "one shot"
      ],
      "metadata": {
        "id": "yaNr_QOKvBvD"
      }
    },
    {
      "cell_type": "code",
      "source": [
        "sample_article = dataset[\"train\"][0][\"text\"]\n",
        "sample_summary = dataset[\"train\"][0][\"summary\"]\n",
        "new_article = dataset[\"test\"][1][\"text\"]\n",
        "\n",
        "prompt = f\"\"\"\n",
        "Below is an example of summarization:\n",
        "Article: {sample_article}\n",
        "Summary: {sample_summary}\n",
        "\n",
        "Now, summarize the following article:\n",
        "Article: {new_article}\n",
        "Summary:\"\"\"\n",
        "\n",
        "inputs = tokenizer(prompt, return_tensors=\"pt\")\n",
        "generate_ids = model.generate(inputs.input_ids, max_new_tokens=50, num_beams=5, early_stopping=True)\n",
        "generated_summary = tokenizer.batch_decode(generate_ids, skip_special_tokens=True, clean_up_tokenization_spaces=False)[0]\n",
        "\n",
        "print(\"New Article:\\n\", new_article)\n",
        "print(\"\\nGenerated Summary:\\n\", generated_summary)"
      ],
      "metadata": {
        "id": "XV9y1rLIUTGm",
        "colab": {
          "base_uri": "https://localhost:8080/"
        },
        "outputId": "17814fbb-e0cf-45c4-b61d-536a8725bd88"
      },
      "execution_count": 23,
      "outputs": [
        {
          "output_type": "stream",
          "name": "stderr",
          "text": [
            "The attention mask is not set and cannot be inferred from input because pad token is same as eos token. As a consequence, you may observe unexpected behavior. Please pass your input's `attention_mask` to obtain reliable results.\n",
            "/usr/local/lib/python3.10/dist-packages/transformers/generation/utils.py:2134: UserWarning: You are calling .generate() with the `input_ids` being on a device type different than your model's device. `input_ids` is on cpu, whereas the model is on cuda. You may experience unexpected behaviors or slower generation. Please make sure that you have put `input_ids` to the correct device by calling for example input_ids = input_ids.to('cuda') before running `.generate()`.\n",
            "  warnings.warn(\n"
          ]
        },
        {
          "output_type": "stream",
          "name": "stdout",
          "text": [
            "New Article:\n",
            " Murray unggul dalam 8 pertandingan dengan Lopez Petenis Inggris itu sudah delapan kali bertemu Lopez dan menang di semua pertandingan. Kini dengan disaksikan mantan pelatihnya Ivan Lendl, ia mencetak kemenangan kesembilan. Murray mengalahkan Lopez, unggulan ke-32, dengan 6-4 6-1 dalam waktu 73 menit. Di babak berikutnya ia akan bertemu dengan unggulan ke-11 Jo-Wilfried Tsonga. Sementara itu Roger Federer mengalahkan petenis Belanda Thiemo de Bakker dengan 6-3 6-3. Murray menunjukkan performa kuat di hadapan Lendl, yang hanya empat hari setelah pengumuman perpisahan mereka, terbang tiga jam dari Florida ke Miami untuk melihat petenis yang telah ia bantu menjuarai Olimpiade, AS Terbuka dan Wimbledon. \"Kami kembali bersama. Kami hanya berpisah selama empat hari,\" kelakar Murray. \"Tidak, sayang sekali ia tidak akan lagi menyaksikan pertandingan saya secara langsung.\"\n",
            "\n",
            "Generated Summary:\n",
            " \n",
            "Below is an example of summarization:\n",
            "Article: Bulan Januari lalu, militan ISIS membebaskan anggota sekte Yazidi yang mereka tahan. Diketahui bahwa mereka yang dilepaskan adalah orang-orang yang sudah berusia lanjut atau dalam keadaan sakit. Komandan pasukan Kurdi, Westa Rasul, menyatakan beberapa di antara yang dilepaskan adalah 'wanita dan anak-anak'. Puluhan ribu penganut sekte Yazidi dipaksa untuk mengungsi ketika ISIS menyerbu desa-desa mereka pada bulan Agustus tahun lalu. Ribuan dari mereka mengungsi hingga ke gunung-gunung di Irak utara. Kelompok militan ini mengutuk keimanan sekte Yazidi dan membunuh ratusan anggota komunitas ini. Perserikatan Bangsa-bangsa menyatakan kemungkinan bahwa ISIS melakukan pemusnahan massal atau genosida terhadap sekte Yazidi. Ribuan lain anggota sekte ini ditangkap dan ditahan. Kebanyakan dari mereka adalah perempuan yang dilaporkan dijual untuk dijadikan budak seks. Bulan Januari lalu, militan ISIS juga membebaskan pengikut sekte Yazidi dari tahanan mereka.\n",
            "Summary: Kelompok militan yang menamakan diri Negara Islam atau ISIS dilaporkan membebaskan sekitar 227 orang sekte Yazidi yang selama ini menjadi tawanan mereka.\n",
            "\n",
            "Now, summarize the following article:\n",
            "Article: Murray unggul dalam 8 pertandingan dengan Lopez Petenis Inggris itu sudah delapan kali bertemu Lopez dan menang di semua pertandingan. Kini dengan disaksikan mantan pelatihnya Ivan Lendl, ia mencetak kemenangan kesembilan. Murray mengalahkan Lopez, unggulan ke-32, dengan 6-4 6-1 dalam waktu 73 menit. Di babak berikutnya ia akan bertemu dengan unggulan ke-11 Jo-Wilfried Tsonga. Sementara itu Roger Federer mengalahkan petenis Belanda Thiemo de Bakker dengan 6-3 6-3. Murray menunjukkan performa kuat di hadapan Lendl, yang hanya empat hari setelah pengumuman perpisahan mereka, terbang tiga jam dari Florida ke Miami untuk melihat petenis yang telah ia bantu menjuarai Olimpiade, AS Terbuka dan Wimbledon. \"Kami kembali bersama. Kami hanya berpisah selama empat hari,\" kelakar Murray. \"Tidak, sayang sekali ia tidak akan lagi menyaksikan pertandingan saya secara langsung.\"\n",
            "Summary: Murray mengalahkan Lopez Petenis Inggris dengan 6-4 6-1 dalam waktu 73 menit, bertemu dengan Jo-Wilfried Tsonga di bab\n"
          ]
        }
      ]
    },
    {
      "cell_type": "markdown",
      "source": [
        "few shot"
      ],
      "metadata": {
        "id": "Wo4vyHrwvEbe"
      }
    },
    {
      "cell_type": "code",
      "source": [
        "sample_article1 = dataset[\"train\"][1][\"text\"]\n",
        "sample_summary1 = dataset[\"train\"][1][\"summary\"]\n",
        "\n",
        "prompt = f\"\"\"\n",
        "Below is an example of summarization:\n",
        "Article: {sample_article}\n",
        "Summary: {sample_summary}\n",
        "Article: {sample_article1}\n",
        "Summary: {sample_summary1}\n",
        "\n",
        "Now, summarize the following article:\n",
        "Article: {new_article}\n",
        "Summary:\"\"\"\n",
        "\n",
        "inputs = tokenizer(prompt, return_tensors=\"pt\")\n",
        "generate_ids = model.generate(inputs.input_ids, max_new_tokens=50, num_beams=5, early_stopping=True)\n",
        "generated_summary = tokenizer.batch_decode(generate_ids, skip_special_tokens=True, clean_up_tokenization_spaces=False)[0]\n",
        "\n",
        "print(\"New Article:\\n\", new_article)\n",
        "print(\"\\nGenerated Summary:\\n\", generated_summary)"
      ],
      "metadata": {
        "id": "9exNKbTNUcDU",
        "colab": {
          "base_uri": "https://localhost:8080/"
        },
        "outputId": "9c68e03c-a440-4cfc-94ad-66a8d296255d"
      },
      "execution_count": 24,
      "outputs": [
        {
          "output_type": "stream",
          "name": "stdout",
          "text": [
            "New Article:\n",
            " Murray unggul dalam 8 pertandingan dengan Lopez Petenis Inggris itu sudah delapan kali bertemu Lopez dan menang di semua pertandingan. Kini dengan disaksikan mantan pelatihnya Ivan Lendl, ia mencetak kemenangan kesembilan. Murray mengalahkan Lopez, unggulan ke-32, dengan 6-4 6-1 dalam waktu 73 menit. Di babak berikutnya ia akan bertemu dengan unggulan ke-11 Jo-Wilfried Tsonga. Sementara itu Roger Federer mengalahkan petenis Belanda Thiemo de Bakker dengan 6-3 6-3. Murray menunjukkan performa kuat di hadapan Lendl, yang hanya empat hari setelah pengumuman perpisahan mereka, terbang tiga jam dari Florida ke Miami untuk melihat petenis yang telah ia bantu menjuarai Olimpiade, AS Terbuka dan Wimbledon. \"Kami kembali bersama. Kami hanya berpisah selama empat hari,\" kelakar Murray. \"Tidak, sayang sekali ia tidak akan lagi menyaksikan pertandingan saya secara langsung.\"\n",
            "\n",
            "Generated Summary:\n",
            " \n",
            "Below is an example of summarization:\n",
            "Article: Bulan Januari lalu, militan ISIS membebaskan anggota sekte Yazidi yang mereka tahan. Diketahui bahwa mereka yang dilepaskan adalah orang-orang yang sudah berusia lanjut atau dalam keadaan sakit. Komandan pasukan Kurdi, Westa Rasul, menyatakan beberapa di antara yang dilepaskan adalah 'wanita dan anak-anak'. Puluhan ribu penganut sekte Yazidi dipaksa untuk mengungsi ketika ISIS menyerbu desa-desa mereka pada bulan Agustus tahun lalu. Ribuan dari mereka mengungsi hingga ke gunung-gunung di Irak utara. Kelompok militan ini mengutuk keimanan sekte Yazidi dan membunuh ratusan anggota komunitas ini. Perserikatan Bangsa-bangsa menyatakan kemungkinan bahwa ISIS melakukan pemusnahan massal atau genosida terhadap sekte Yazidi. Ribuan lain anggota sekte ini ditangkap dan ditahan. Kebanyakan dari mereka adalah perempuan yang dilaporkan dijual untuk dijadikan budak seks. Bulan Januari lalu, militan ISIS juga membebaskan pengikut sekte Yazidi dari tahanan mereka.\n",
            "Summary: Kelompok militan yang menamakan diri Negara Islam atau ISIS dilaporkan membebaskan sekitar 227 orang sekte Yazidi yang selama ini menjadi tawanan mereka.\n",
            "Article: Stefano Trabucchi menunjukkan suara biola buatannya Wartawan BBC Peter Day mengatakan di Cremona, pengunjung bisa melihat keahlian para perajin di tempat kerja dan tekad kuat sekelompok orang mempertahankan usaha kerajinan yang sudah berjalan lama. Semuanya diawali ketika Cremona yang pada Abad Pertengahan menjadi salah satu kota kaya di Italia dimana keluarga penguasa memperkerjakan banyak musisi profesional. Sebuah tradisi besar muncul ketika permintaan untuk musik dan keterampilan para pengrajin mendapat penghargaan. Toko biola tersebar di berbagai sudut kota Di Cremona pada pertengahan abad ke-16, perajin instrumen Andrea Amati dikenal dengan model biola barunya, suara yang dihasilkan jauh lebih menyentuh dari perajin sebelumnya. Kemudian, pada paruh kedua abad ke-17, datanglah sang maestro Antonio Stradivari. Dia menjadi legenda karena biola buatannya memiliki suara yang jernih. Selama hidupnya, Stradivari membuat lebih dari 1.000 biola, viola dan cello yang ekspresi musik dan suaranya tak tertandingi oleh para pemain biola lainnya hingga saat ini.\n",
            "Summary: Kota Cremona, Italia, sudah menjadi pusat kerajinan biola di dunia dalam kurun waktu 500 tahun terakhir, dan merupakan rumah bagi sekelompok luthiers atau perajin instrumen bersenar.\n",
            "\n",
            "Now, summarize the following article:\n",
            "Article: Murray unggul dalam 8 pertandingan dengan Lopez Petenis Inggris itu sudah delapan kali bertemu Lopez dan menang di semua pertandingan. Kini dengan disaksikan mantan pelatihnya Ivan Lendl, ia mencetak kemenangan kesembilan. Murray mengalahkan Lopez, unggulan ke-32, dengan 6-4 6-1 dalam waktu 73 menit. Di babak berikutnya ia akan bertemu dengan unggulan ke-11 Jo-Wilfried Tsonga. Sementara itu Roger Federer mengalahkan petenis Belanda Thiemo de Bakker dengan 6-3 6-3. Murray menunjukkan performa kuat di hadapan Lendl, yang hanya empat hari setelah pengumuman perpisahan mereka, terbang tiga jam dari Florida ke Miami untuk melihat petenis yang telah ia bantu menjuarai Olimpiade, AS Terbuka dan Wimbledon. \"Kami kembali bersama. Kami hanya berpisah selama empat hari,\" kelakar Murray. \"Tidak, sayang sekali ia tidak akan lagi menyaksikan pertandingan saya secara langsung.\"\n",
            "Summary: Murray mengalahkan Lopez Petenis Inggris dengan 6-4 6-1 dalam waktu 73 menit dalam pertandingan pertama dengan Ivan Lendl, setel\n"
          ]
        }
      ]
    },
    {
      "cell_type": "code",
      "source": [
        "from nltk.translate.bleu_score import sentence_bleu, SmoothingFunction\n",
        "import nltk  # Import the nltk library\n",
        "\n",
        "# Download the 'punkt_tab' resource\n",
        "nltk.download('punkt_tab')\n",
        "\n",
        "reference_summary = dataset[\"test\"][1][\"summary\"]\n",
        "\n",
        "def calculate_bleu_score(reference, candidate):\n",
        "    reference_tokens = nltk.word_tokenize(reference.lower())\n",
        "    candidate_tokens = nltk.word_tokenize(candidate.lower())\n",
        "    smoothing = SmoothingFunction().method4\n",
        "    return sentence_bleu([reference_tokens], candidate_tokens, smoothing_function=smoothing)\n",
        "\n",
        "bleu_score = calculate_bleu_score(reference_summary, generated_summary)\n",
        "print(f\"\\nBLEU Score: {bleu_score:.4f}\")"
      ],
      "metadata": {
        "id": "ui2HdeyUUuER",
        "colab": {
          "base_uri": "https://localhost:8080/"
        },
        "outputId": "de117cff-75d9-4fa6-f368-bcd426ed041f"
      },
      "execution_count": 25,
      "outputs": [
        {
          "output_type": "stream",
          "name": "stdout",
          "text": [
            "\n",
            "BLEU Score one shot: 0.0026\n"
          ]
        },
        {
          "output_type": "stream",
          "name": "stderr",
          "text": [
            "[nltk_data] Downloading package punkt_tab to /root/nltk_data...\n",
            "[nltk_data]   Package punkt_tab is already up-to-date!\n"
          ]
        }
      ]
    },
    {
      "cell_type": "markdown",
      "source": [
        "LLM lain with fine tune"
      ],
      "metadata": {
        "id": "KwX1Wdyg-0Ng"
      }
    },
    {
      "cell_type": "code",
      "source": [
        "import torch\n",
        "from transformers import AutoTokenizer, TrainingArguments, Trainer, pipeline\n",
        "from peft import get_peft_model, LoraConfig, TaskType\n",
        "from datasets import load_dataset, DatasetDict\n",
        "from nltk.translate.bleu_score import sentence_bleu\n",
        "import gc"
      ],
      "metadata": {
        "id": "5NB4QbQ0Yq1H"
      },
      "execution_count": 1,
      "outputs": []
    },
    {
      "cell_type": "code",
      "source": [
        "# ===== 2. Load Dataset =====\n",
        "dataset = load_dataset(\"csebuetnlp/xlsum\", \"indonesian\")\n",
        "train_data = dataset['train'].shuffle(seed=42).select(range(100))\n",
        "val_data = dataset['validation'].shuffle(seed=42).select(range(100))\n",
        "test_data = dataset['test'].shuffle(seed=42).select(range(100))\n",
        "dataset = DatasetDict({\n",
        "    \"train\": train_data,\n",
        "    \"validation\": val_data,\n",
        "    \"test\": test_data\n",
        "})\n",
        "print(dataset)"
      ],
      "metadata": {
        "colab": {
          "base_uri": "https://localhost:8080/"
        },
        "id": "D4Huf8PStgVR",
        "outputId": "a6abfcba-a6cf-4e3c-fc28-e7ab42636cdd"
      },
      "execution_count": 2,
      "outputs": [
        {
          "output_type": "stream",
          "name": "stderr",
          "text": [
            "/usr/local/lib/python3.10/dist-packages/huggingface_hub/utils/_auth.py:94: UserWarning: \n",
            "The secret `HF_TOKEN` does not exist in your Colab secrets.\n",
            "To authenticate with the Hugging Face Hub, create a token in your settings tab (https://huggingface.co/settings/tokens), set it as secret in your Google Colab and restart your session.\n",
            "You will be able to reuse this secret in all of your notebooks.\n",
            "Please note that authentication is recommended but still optional to access public models or datasets.\n",
            "  warnings.warn(\n"
          ]
        },
        {
          "output_type": "stream",
          "name": "stdout",
          "text": [
            "DatasetDict({\n",
            "    train: Dataset({\n",
            "        features: ['id', 'url', 'title', 'summary', 'text'],\n",
            "        num_rows: 100\n",
            "    })\n",
            "    validation: Dataset({\n",
            "        features: ['id', 'url', 'title', 'summary', 'text'],\n",
            "        num_rows: 100\n",
            "    })\n",
            "    test: Dataset({\n",
            "        features: ['id', 'url', 'title', 'summary', 'text'],\n",
            "        num_rows: 100\n",
            "    })\n",
            "})\n"
          ]
        }
      ]
    },
    {
      "cell_type": "code",
      "source": [
        "sample_article = dataset[\"train\"][0][\"text\"]\n",
        "sample_summary = dataset[\"train\"][0][\"summary\"]\n",
        "sample_article1 = dataset[\"train\"][1][\"text\"]\n",
        "sample_summary1 = dataset[\"train\"][1][\"summary\"]\n",
        "new_article = dataset[\"test\"][1][\"text\"]"
      ],
      "metadata": {
        "id": "e0ZyDWSNTaLX"
      },
      "execution_count": 3,
      "outputs": []
    },
    {
      "cell_type": "code",
      "source": [
        "# ===== 2. Load Model and Tokenizer =====\n",
        "model_name = \"microsoft/Phi-3.5-mini-instruct\"\n",
        "tokenizer = AutoTokenizer.from_pretrained(model_name, trust_remote_code=True)\n",
        "\n",
        "# Load Model\n",
        "from transformers import Phi3ForCausalLM\n",
        "\n",
        "model = Phi3ForCausalLM.from_pretrained(\n",
        "    model_name,\n",
        "    torch_dtype=torch.bfloat16,\n",
        "    trust_remote_code=True,\n",
        ")\n",
        "\n",
        "# Cek model architecture untuk mengetahui nama layer\n",
        "print(model)"
      ],
      "metadata": {
        "id": "B4ENTblz-5hR",
        "colab": {
          "base_uri": "https://localhost:8080/",
          "height": 518,
          "referenced_widgets": [
            "3264cd6a975246e1bb8963a3b76f0b5a",
            "46f10d219b024400bb47d84a74151170",
            "10d2b0b659f747f28ba974fa93374eff",
            "e9ec62e3e0eb4025bcf1971ac89cd1d9",
            "988c1143a62b4a489fb7ddacae722c81",
            "c1e9a92d10354054b11f2af54b057c0f",
            "d3e95adf2b2f42ec901745eedd330812",
            "eb0dccc306104ddbba3eec34d37bd915",
            "181d394d196b46dbb118a514237a664c",
            "334e5b171f0a45c4855f3c757d8b0c1e",
            "1fa711bab15046358b139cad3604c7c8"
          ]
        },
        "outputId": "abdbbe42-d0be-4d59-916f-9057b6ada72e"
      },
      "execution_count": 4,
      "outputs": [
        {
          "output_type": "stream",
          "name": "stderr",
          "text": [
            "The argument `trust_remote_code` is to be used with Auto classes. It has no effect here and is ignored.\n"
          ]
        },
        {
          "output_type": "display_data",
          "data": {
            "text/plain": [
              "Loading checkpoint shards:   0%|          | 0/2 [00:00<?, ?it/s]"
            ],
            "application/vnd.jupyter.widget-view+json": {
              "version_major": 2,
              "version_minor": 0,
              "model_id": "3264cd6a975246e1bb8963a3b76f0b5a"
            }
          },
          "metadata": {}
        },
        {
          "output_type": "stream",
          "name": "stdout",
          "text": [
            "Phi3ForCausalLM(\n",
            "  (model): Phi3Model(\n",
            "    (embed_tokens): Embedding(32064, 3072, padding_idx=32000)\n",
            "    (embed_dropout): Dropout(p=0.0, inplace=False)\n",
            "    (layers): ModuleList(\n",
            "      (0-31): 32 x Phi3DecoderLayer(\n",
            "        (self_attn): Phi3SdpaAttention(\n",
            "          (o_proj): Linear(in_features=3072, out_features=3072, bias=False)\n",
            "          (qkv_proj): Linear(in_features=3072, out_features=9216, bias=False)\n",
            "          (rotary_emb): Phi3LongRoPEScaledRotaryEmbedding()\n",
            "        )\n",
            "        (mlp): Phi3MLP(\n",
            "          (gate_up_proj): Linear(in_features=3072, out_features=16384, bias=False)\n",
            "          (down_proj): Linear(in_features=8192, out_features=3072, bias=False)\n",
            "          (activation_fn): SiLU()\n",
            "        )\n",
            "        (input_layernorm): Phi3RMSNorm((3072,), eps=1e-05)\n",
            "        (resid_attn_dropout): Dropout(p=0.0, inplace=False)\n",
            "        (resid_mlp_dropout): Dropout(p=0.0, inplace=False)\n",
            "        (post_attention_layernorm): Phi3RMSNorm((3072,), eps=1e-05)\n",
            "      )\n",
            "    )\n",
            "    (norm): Phi3RMSNorm((3072,), eps=1e-05)\n",
            "  )\n",
            "  (lm_head): Linear(in_features=3072, out_features=32064, bias=False)\n",
            ")\n"
          ]
        }
      ]
    },
    {
      "cell_type": "code",
      "source": [
        "# ===== 3. Apply LoRA Configuration =====\n",
        "lora_config = LoraConfig(\n",
        "    task_type=TaskType.CAUSAL_LM,\n",
        "    inference_mode=False,\n",
        "    r=16,\n",
        "    lora_alpha=32,\n",
        "    lora_dropout=0.1,\n",
        "    target_modules=['q_proj', 'v_proj', 'k_proj', 'o_proj'],  # Adjusted based on architecture\n",
        ")\n",
        "model = get_peft_model(model, lora_config)\n",
        "model.train()"
      ],
      "metadata": {
        "colab": {
          "base_uri": "https://localhost:8080/"
        },
        "id": "TSki2rpDwvs0",
        "outputId": "ab993836-ecd1-4086-b529-13e0100ddb11"
      },
      "execution_count": 16,
      "outputs": [
        {
          "output_type": "execute_result",
          "data": {
            "text/plain": [
              "PeftModelForCausalLM(\n",
              "  (base_model): LoraModel(\n",
              "    (model): PeftModelForCausalLM(\n",
              "      (base_model): LoraModel(\n",
              "        (model): Phi3ForCausalLM(\n",
              "          (model): Phi3Model(\n",
              "            (embed_tokens): Embedding(32064, 3072, padding_idx=32000)\n",
              "            (embed_dropout): Dropout(p=0.0, inplace=False)\n",
              "            (layers): ModuleList(\n",
              "              (0-31): 32 x Phi3DecoderLayer(\n",
              "                (self_attn): Phi3SdpaAttention(\n",
              "                  (o_proj): lora.Linear(\n",
              "                    (base_layer): Linear(in_features=3072, out_features=3072, bias=False)\n",
              "                    (lora_dropout): ModuleDict(\n",
              "                      (default): Dropout(p=0.1, inplace=False)\n",
              "                    )\n",
              "                    (lora_A): ModuleDict(\n",
              "                      (default): Linear(in_features=3072, out_features=16, bias=False)\n",
              "                    )\n",
              "                    (lora_B): ModuleDict(\n",
              "                      (default): Linear(in_features=16, out_features=3072, bias=False)\n",
              "                    )\n",
              "                    (lora_embedding_A): ParameterDict()\n",
              "                    (lora_embedding_B): ParameterDict()\n",
              "                    (lora_magnitude_vector): ModuleDict()\n",
              "                  )\n",
              "                  (qkv_proj): lora.Linear(\n",
              "                    (base_layer): Linear(in_features=3072, out_features=9216, bias=False)\n",
              "                    (lora_dropout): ModuleDict(\n",
              "                      (default): Dropout(p=0.1, inplace=False)\n",
              "                    )\n",
              "                    (lora_A): ModuleDict(\n",
              "                      (default): Linear(in_features=3072, out_features=16, bias=False)\n",
              "                    )\n",
              "                    (lora_B): ModuleDict(\n",
              "                      (default): Linear(in_features=16, out_features=9216, bias=False)\n",
              "                    )\n",
              "                    (lora_embedding_A): ParameterDict()\n",
              "                    (lora_embedding_B): ParameterDict()\n",
              "                    (lora_magnitude_vector): ModuleDict()\n",
              "                  )\n",
              "                  (rotary_emb): Phi3LongRoPEScaledRotaryEmbedding()\n",
              "                )\n",
              "                (mlp): Phi3MLP(\n",
              "                  (gate_up_proj): Linear(in_features=3072, out_features=16384, bias=False)\n",
              "                  (down_proj): Linear(in_features=8192, out_features=3072, bias=False)\n",
              "                  (activation_fn): SiLU()\n",
              "                )\n",
              "                (input_layernorm): Phi3RMSNorm((3072,), eps=1e-05)\n",
              "                (resid_attn_dropout): Dropout(p=0.0, inplace=False)\n",
              "                (resid_mlp_dropout): Dropout(p=0.0, inplace=False)\n",
              "                (post_attention_layernorm): Phi3RMSNorm((3072,), eps=1e-05)\n",
              "              )\n",
              "            )\n",
              "            (norm): Phi3RMSNorm((3072,), eps=1e-05)\n",
              "          )\n",
              "          (lm_head): Linear(in_features=3072, out_features=32064, bias=False)\n",
              "        )\n",
              "      )\n",
              "    )\n",
              "  )\n",
              ")"
            ]
          },
          "metadata": {},
          "execution_count": 16
        }
      ]
    },
    {
      "cell_type": "code",
      "source": [
        "!pip install trl"
      ],
      "metadata": {
        "colab": {
          "base_uri": "https://localhost:8080/"
        },
        "id": "wMD8JAviCSiW",
        "outputId": "201cca1a-5f4c-4282-df35-0bb06ea06cdb"
      },
      "execution_count": 6,
      "outputs": [
        {
          "output_type": "stream",
          "name": "stdout",
          "text": [
            "Requirement already satisfied: trl in /usr/local/lib/python3.10/dist-packages (0.13.0)\n",
            "Requirement already satisfied: accelerate>=0.34.0 in /usr/local/lib/python3.10/dist-packages (from trl) (1.2.1)\n",
            "Requirement already satisfied: datasets>=2.21.0 in /usr/local/lib/python3.10/dist-packages (from trl) (3.2.0)\n",
            "Requirement already satisfied: rich in /usr/local/lib/python3.10/dist-packages (from trl) (13.9.4)\n",
            "Requirement already satisfied: transformers>=4.46.0 in /usr/local/lib/python3.10/dist-packages (from trl) (4.47.1)\n",
            "Requirement already satisfied: numpy<3.0.0,>=1.17 in /usr/local/lib/python3.10/dist-packages (from accelerate>=0.34.0->trl) (1.26.4)\n",
            "Requirement already satisfied: packaging>=20.0 in /usr/local/lib/python3.10/dist-packages (from accelerate>=0.34.0->trl) (24.2)\n",
            "Requirement already satisfied: psutil in /usr/local/lib/python3.10/dist-packages (from accelerate>=0.34.0->trl) (5.9.5)\n",
            "Requirement already satisfied: pyyaml in /usr/local/lib/python3.10/dist-packages (from accelerate>=0.34.0->trl) (6.0.2)\n",
            "Requirement already satisfied: torch>=1.10.0 in /usr/local/lib/python3.10/dist-packages (from accelerate>=0.34.0->trl) (2.5.1+cu121)\n",
            "Requirement already satisfied: huggingface-hub>=0.21.0 in /usr/local/lib/python3.10/dist-packages (from accelerate>=0.34.0->trl) (0.27.0)\n",
            "Requirement already satisfied: safetensors>=0.4.3 in /usr/local/lib/python3.10/dist-packages (from accelerate>=0.34.0->trl) (0.4.5)\n",
            "Requirement already satisfied: filelock in /usr/local/lib/python3.10/dist-packages (from datasets>=2.21.0->trl) (3.16.1)\n",
            "Requirement already satisfied: pyarrow>=15.0.0 in /usr/local/lib/python3.10/dist-packages (from datasets>=2.21.0->trl) (17.0.0)\n",
            "Requirement already satisfied: dill<0.3.9,>=0.3.0 in /usr/local/lib/python3.10/dist-packages (from datasets>=2.21.0->trl) (0.3.8)\n",
            "Requirement already satisfied: pandas in /usr/local/lib/python3.10/dist-packages (from datasets>=2.21.0->trl) (2.2.2)\n",
            "Requirement already satisfied: requests>=2.32.2 in /usr/local/lib/python3.10/dist-packages (from datasets>=2.21.0->trl) (2.32.3)\n",
            "Requirement already satisfied: tqdm>=4.66.3 in /usr/local/lib/python3.10/dist-packages (from datasets>=2.21.0->trl) (4.67.1)\n",
            "Requirement already satisfied: xxhash in /usr/local/lib/python3.10/dist-packages (from datasets>=2.21.0->trl) (3.5.0)\n",
            "Requirement already satisfied: multiprocess<0.70.17 in /usr/local/lib/python3.10/dist-packages (from datasets>=2.21.0->trl) (0.70.16)\n",
            "Requirement already satisfied: fsspec<=2024.9.0,>=2023.1.0 in /usr/local/lib/python3.10/dist-packages (from fsspec[http]<=2024.9.0,>=2023.1.0->datasets>=2.21.0->trl) (2024.9.0)\n",
            "Requirement already satisfied: aiohttp in /usr/local/lib/python3.10/dist-packages (from datasets>=2.21.0->trl) (3.11.10)\n",
            "Requirement already satisfied: regex!=2019.12.17 in /usr/local/lib/python3.10/dist-packages (from transformers>=4.46.0->trl) (2024.11.6)\n",
            "Requirement already satisfied: tokenizers<0.22,>=0.21 in /usr/local/lib/python3.10/dist-packages (from transformers>=4.46.0->trl) (0.21.0)\n",
            "Requirement already satisfied: markdown-it-py>=2.2.0 in /usr/local/lib/python3.10/dist-packages (from rich->trl) (3.0.0)\n",
            "Requirement already satisfied: pygments<3.0.0,>=2.13.0 in /usr/local/lib/python3.10/dist-packages (from rich->trl) (2.18.0)\n",
            "Requirement already satisfied: typing-extensions<5.0,>=4.0.0 in /usr/local/lib/python3.10/dist-packages (from rich->trl) (4.12.2)\n",
            "Requirement already satisfied: aiohappyeyeballs>=2.3.0 in /usr/local/lib/python3.10/dist-packages (from aiohttp->datasets>=2.21.0->trl) (2.4.4)\n",
            "Requirement already satisfied: aiosignal>=1.1.2 in /usr/local/lib/python3.10/dist-packages (from aiohttp->datasets>=2.21.0->trl) (1.3.2)\n",
            "Requirement already satisfied: async-timeout<6.0,>=4.0 in /usr/local/lib/python3.10/dist-packages (from aiohttp->datasets>=2.21.0->trl) (4.0.3)\n",
            "Requirement already satisfied: attrs>=17.3.0 in /usr/local/lib/python3.10/dist-packages (from aiohttp->datasets>=2.21.0->trl) (24.3.0)\n",
            "Requirement already satisfied: frozenlist>=1.1.1 in /usr/local/lib/python3.10/dist-packages (from aiohttp->datasets>=2.21.0->trl) (1.5.0)\n",
            "Requirement already satisfied: multidict<7.0,>=4.5 in /usr/local/lib/python3.10/dist-packages (from aiohttp->datasets>=2.21.0->trl) (6.1.0)\n",
            "Requirement already satisfied: propcache>=0.2.0 in /usr/local/lib/python3.10/dist-packages (from aiohttp->datasets>=2.21.0->trl) (0.2.1)\n",
            "Requirement already satisfied: yarl<2.0,>=1.17.0 in /usr/local/lib/python3.10/dist-packages (from aiohttp->datasets>=2.21.0->trl) (1.18.3)\n",
            "Requirement already satisfied: mdurl~=0.1 in /usr/local/lib/python3.10/dist-packages (from markdown-it-py>=2.2.0->rich->trl) (0.1.2)\n",
            "Requirement already satisfied: charset-normalizer<4,>=2 in /usr/local/lib/python3.10/dist-packages (from requests>=2.32.2->datasets>=2.21.0->trl) (3.4.0)\n",
            "Requirement already satisfied: idna<4,>=2.5 in /usr/local/lib/python3.10/dist-packages (from requests>=2.32.2->datasets>=2.21.0->trl) (3.10)\n",
            "Requirement already satisfied: urllib3<3,>=1.21.1 in /usr/local/lib/python3.10/dist-packages (from requests>=2.32.2->datasets>=2.21.0->trl) (2.2.3)\n",
            "Requirement already satisfied: certifi>=2017.4.17 in /usr/local/lib/python3.10/dist-packages (from requests>=2.32.2->datasets>=2.21.0->trl) (2024.12.14)\n",
            "Requirement already satisfied: networkx in /usr/local/lib/python3.10/dist-packages (from torch>=1.10.0->accelerate>=0.34.0->trl) (3.4.2)\n",
            "Requirement already satisfied: jinja2 in /usr/local/lib/python3.10/dist-packages (from torch>=1.10.0->accelerate>=0.34.0->trl) (3.1.4)\n",
            "Requirement already satisfied: sympy==1.13.1 in /usr/local/lib/python3.10/dist-packages (from torch>=1.10.0->accelerate>=0.34.0->trl) (1.13.1)\n",
            "Requirement already satisfied: mpmath<1.4,>=1.1.0 in /usr/local/lib/python3.10/dist-packages (from sympy==1.13.1->torch>=1.10.0->accelerate>=0.34.0->trl) (1.3.0)\n",
            "Requirement already satisfied: python-dateutil>=2.8.2 in /usr/local/lib/python3.10/dist-packages (from pandas->datasets>=2.21.0->trl) (2.8.2)\n",
            "Requirement already satisfied: pytz>=2020.1 in /usr/local/lib/python3.10/dist-packages (from pandas->datasets>=2.21.0->trl) (2024.2)\n",
            "Requirement already satisfied: tzdata>=2022.7 in /usr/local/lib/python3.10/dist-packages (from pandas->datasets>=2.21.0->trl) (2024.2)\n",
            "Requirement already satisfied: six>=1.5 in /usr/local/lib/python3.10/dist-packages (from python-dateutil>=2.8.2->pandas->datasets>=2.21.0->trl) (1.17.0)\n",
            "Requirement already satisfied: MarkupSafe>=2.0 in /usr/local/lib/python3.10/dist-packages (from jinja2->torch>=1.10.0->accelerate>=0.34.0->trl) (3.0.2)\n"
          ]
        }
      ]
    },
    {
      "cell_type": "code",
      "source": [
        "def preprocess_function(examples):\n",
        "    inputs = examples[\"text\"]\n",
        "    targets = examples[\"summary\"]\n",
        "    # Tokenize the inputs\n",
        "    model_inputs = tokenizer(\n",
        "        inputs,\n",
        "        max_length=512,  # Ensure consistent max_length with training\n",
        "        truncation=True,\n",
        "        padding=\"max_length\",\n",
        "    )\n",
        "    # Tokenize the labels\n",
        "    with tokenizer.as_target_tokenizer():\n",
        "        labels = tokenizer(\n",
        "            targets,\n",
        "            max_length=512,  # Match input max_length\n",
        "            truncation=True,\n",
        "            padding=\"max_length\",\n",
        "        )\n",
        "    # Replace pad token with -100 for labels\n",
        "    labels[\"input_ids\"] = [\n",
        "        [(l if l != tokenizer.pad_token_id else -100) for l in label]\n",
        "        for label in labels[\"input_ids\"]\n",
        "    ]\n",
        "    # Ensure labels have the same length as inputs\n",
        "    model_inputs[\"labels\"] = labels[\"input_ids\"]\n",
        "\n",
        "    return model_inputs"
      ],
      "metadata": {
        "id": "jwG4cg9IwrwM"
      },
      "execution_count": 25,
      "outputs": []
    },
    {
      "cell_type": "code",
      "source": [
        "!pip install accelerate"
      ],
      "metadata": {
        "colab": {
          "base_uri": "https://localhost:8080/"
        },
        "id": "6Uid-AorVxhk",
        "outputId": "7b2a912b-bbf3-4b47-b683-00f8a33569b5"
      },
      "execution_count": 26,
      "outputs": [
        {
          "output_type": "stream",
          "name": "stdout",
          "text": [
            "Requirement already satisfied: accelerate in /usr/local/lib/python3.10/dist-packages (1.2.1)\n",
            "Requirement already satisfied: numpy<3.0.0,>=1.17 in /usr/local/lib/python3.10/dist-packages (from accelerate) (1.26.4)\n",
            "Requirement already satisfied: packaging>=20.0 in /usr/local/lib/python3.10/dist-packages (from accelerate) (24.2)\n",
            "Requirement already satisfied: psutil in /usr/local/lib/python3.10/dist-packages (from accelerate) (5.9.5)\n",
            "Requirement already satisfied: pyyaml in /usr/local/lib/python3.10/dist-packages (from accelerate) (6.0.2)\n",
            "Requirement already satisfied: torch>=1.10.0 in /usr/local/lib/python3.10/dist-packages (from accelerate) (2.5.1+cu121)\n",
            "Requirement already satisfied: huggingface-hub>=0.21.0 in /usr/local/lib/python3.10/dist-packages (from accelerate) (0.27.0)\n",
            "Requirement already satisfied: safetensors>=0.4.3 in /usr/local/lib/python3.10/dist-packages (from accelerate) (0.4.5)\n",
            "Requirement already satisfied: filelock in /usr/local/lib/python3.10/dist-packages (from huggingface-hub>=0.21.0->accelerate) (3.16.1)\n",
            "Requirement already satisfied: fsspec>=2023.5.0 in /usr/local/lib/python3.10/dist-packages (from huggingface-hub>=0.21.0->accelerate) (2024.9.0)\n",
            "Requirement already satisfied: requests in /usr/local/lib/python3.10/dist-packages (from huggingface-hub>=0.21.0->accelerate) (2.32.3)\n",
            "Requirement already satisfied: tqdm>=4.42.1 in /usr/local/lib/python3.10/dist-packages (from huggingface-hub>=0.21.0->accelerate) (4.67.1)\n",
            "Requirement already satisfied: typing-extensions>=3.7.4.3 in /usr/local/lib/python3.10/dist-packages (from huggingface-hub>=0.21.0->accelerate) (4.12.2)\n",
            "Requirement already satisfied: networkx in /usr/local/lib/python3.10/dist-packages (from torch>=1.10.0->accelerate) (3.4.2)\n",
            "Requirement already satisfied: jinja2 in /usr/local/lib/python3.10/dist-packages (from torch>=1.10.0->accelerate) (3.1.4)\n",
            "Requirement already satisfied: sympy==1.13.1 in /usr/local/lib/python3.10/dist-packages (from torch>=1.10.0->accelerate) (1.13.1)\n",
            "Requirement already satisfied: mpmath<1.4,>=1.1.0 in /usr/local/lib/python3.10/dist-packages (from sympy==1.13.1->torch>=1.10.0->accelerate) (1.3.0)\n",
            "Requirement already satisfied: MarkupSafe>=2.0 in /usr/local/lib/python3.10/dist-packages (from jinja2->torch>=1.10.0->accelerate) (3.0.2)\n",
            "Requirement already satisfied: charset-normalizer<4,>=2 in /usr/local/lib/python3.10/dist-packages (from requests->huggingface-hub>=0.21.0->accelerate) (3.4.0)\n",
            "Requirement already satisfied: idna<4,>=2.5 in /usr/local/lib/python3.10/dist-packages (from requests->huggingface-hub>=0.21.0->accelerate) (3.10)\n",
            "Requirement already satisfied: urllib3<3,>=1.21.1 in /usr/local/lib/python3.10/dist-packages (from requests->huggingface-hub>=0.21.0->accelerate) (2.2.3)\n",
            "Requirement already satisfied: certifi>=2017.4.17 in /usr/local/lib/python3.10/dist-packages (from requests->huggingface-hub>=0.21.0->accelerate) (2024.12.14)\n"
          ]
        }
      ]
    },
    {
      "cell_type": "code",
      "source": [
        "# ===== 5. Training Arguments =====\n",
        "training_args = TrainingArguments(\n",
        "    output_dir=\"./phi3-liputan6-summarizer-lora\",\n",
        "    evaluation_strategy=\"epoch\",\n",
        "    save_strategy=\"epoch\",\n",
        "    learning_rate=3e-5,\n",
        "    per_device_train_batch_size=2,\n",
        "    per_device_eval_batch_size=2,\n",
        "    num_train_epochs=3,\n",
        "    weight_decay=0.01,\n",
        "    save_total_limit=2,\n",
        "    load_best_model_at_end=True,\n",
        "    logging_dir=\"./logs\",\n",
        "    logging_steps=500,\n",
        "    fp16=True,\n",
        "    gradient_checkpointing=False\n",
        ")"
      ],
      "metadata": {
        "id": "K8mzL8VgB7ax",
        "colab": {
          "base_uri": "https://localhost:8080/"
        },
        "outputId": "849bcf2c-1b38-4d39-9b6f-66fc64dd598e"
      },
      "execution_count": 27,
      "outputs": [
        {
          "output_type": "stream",
          "name": "stderr",
          "text": [
            "/usr/local/lib/python3.10/dist-packages/transformers/training_args.py:1575: FutureWarning: `evaluation_strategy` is deprecated and will be removed in version 4.46 of 🤗 Transformers. Use `eval_strategy` instead\n",
            "  warnings.warn(\n"
          ]
        }
      ]
    },
    {
      "cell_type": "code",
      "source": [
        "train_tokenized_datasets = train_data.map(\n",
        "    preprocess_function,\n",
        "    batched=True,\n",
        "    remove_columns=train_data.column_names\n",
        ")\n",
        "val_tokenized_datasets = val_data.map(\n",
        "    preprocess_function,\n",
        "    batched=True,\n",
        "    remove_columns=val_data.column_names\n",
        ")\n",
        "\n",
        "# Ensure batch size is a divisor of dataset length\n",
        "train_batch_size = training_args.per_device_train_batch_size * max(1, torch.cuda.device_count())\n",
        "eval_batch_size = training_args.per_device_eval_batch_size * max(1, torch.cuda.device_count())\n",
        "\n",
        "train_length = len(train_tokenized_datasets)\n",
        "eval_length = len(val_tokenized_datasets)\n",
        "\n",
        "train_tokenized_datasets = train_tokenized_datasets.select(range(train_length - (train_length % train_batch_size)))\n",
        "val_tokenized_datasets = val_tokenized_datasets.select(range(eval_length - (eval_length % eval_batch_size)))\n",
        "\n",
        "# Double-check your LoraConfig\n",
        "lora_config = LoraConfig(\n",
        "    task_type=TaskType.CAUSAL_LM,\n",
        "    inference_mode=False,\n",
        "    r=16,\n",
        "    lora_alpha=32,\n",
        "    lora_dropout=0.1,\n",
        "    target_modules=['qkv_proj', 'o_proj'],  # Verify these are the correct modules\n",
        ")"
      ],
      "metadata": {
        "colab": {
          "base_uri": "https://localhost:8080/",
          "height": 136,
          "referenced_widgets": [
            "0b0c8f4a1ecc48539406d1b399e74cdd",
            "55bbf7856a2948e883e9bf82f543cfaa",
            "6bcafc1939724f3f8e87c0a511f0d7df",
            "1149a507fd914f2592da7f347f49c943",
            "81a516433a03441688457ad65277af5a",
            "e55c53fb455f46d4bf34340d33b27dde",
            "f999766816844ec9b80a5d79d55e7f43",
            "c2ec872983b24bbb85c143204819ba37",
            "6991a0c6ae544f93b2d5f75f7e55bc0d",
            "97418143f9104fb19cceb2718dcfbda0",
            "852ea27b300f41d1a60c003ad67b2eaa",
            "5339f8bdaf4541dd96d180fdd7aea617",
            "a89c5bb2c84a48488b7366bf27a420c7",
            "3ca83801d9e04aac9237b3eff6b31051",
            "33a690945bb84d1fa8139567bc4fb008",
            "3b6f7fd1a70e4807992748052894bf14",
            "477358899d014be984e90fb1d0564301",
            "aa1e7bde902e418592649b7b84f14502",
            "acfcc771801e4f6e89ebb7d5273a7507",
            "a9bf5347b8de4bec885b87dbe3edb535",
            "e17ab578579745a187b5cd87de8f9627",
            "f8a4028316fd447194b071b3e1e49990"
          ]
        },
        "id": "ICET2TIPGkAw",
        "outputId": "d5c25f43-3612-47ae-a106-c76c2f6d6280"
      },
      "execution_count": 28,
      "outputs": [
        {
          "output_type": "display_data",
          "data": {
            "text/plain": [
              "Map:   0%|          | 0/100 [00:00<?, ? examples/s]"
            ],
            "application/vnd.jupyter.widget-view+json": {
              "version_major": 2,
              "version_minor": 0,
              "model_id": "0b0c8f4a1ecc48539406d1b399e74cdd"
            }
          },
          "metadata": {}
        },
        {
          "output_type": "stream",
          "name": "stderr",
          "text": [
            "/usr/local/lib/python3.10/dist-packages/transformers/tokenization_utils_base.py:3953: UserWarning: `as_target_tokenizer` is deprecated and will be removed in v5 of Transformers. You can tokenize your labels by using the argument `text_target` of the regular `__call__` method (either in the same call as your input texts if you use the same keyword arguments, or in a separate call.\n",
            "  warnings.warn(\n"
          ]
        },
        {
          "output_type": "display_data",
          "data": {
            "text/plain": [
              "Map:   0%|          | 0/100 [00:00<?, ? examples/s]"
            ],
            "application/vnd.jupyter.widget-view+json": {
              "version_major": 2,
              "version_minor": 0,
              "model_id": "5339f8bdaf4541dd96d180fdd7aea617"
            }
          },
          "metadata": {}
        }
      ]
    },
    {
      "cell_type": "code",
      "source": [
        "# Debugging tensor shapes\n",
        "for batch in train_tokenized_datasets:\n",
        "    print(\"Input IDs shape:\", len(batch[\"input_ids\"]))\n",
        "    print(\"Labels shape:\", len(batch[\"labels\"]))"
      ],
      "metadata": {
        "colab": {
          "base_uri": "https://localhost:8080/"
        },
        "id": "RbEZOHe5Ivuu",
        "outputId": "4b92193c-c32d-47fe-e177-f99fe3c5da77"
      },
      "execution_count": 29,
      "outputs": [
        {
          "output_type": "stream",
          "name": "stdout",
          "text": [
            "Input IDs shape: 512\n",
            "Labels shape: 512\n",
            "Input IDs shape: 512\n",
            "Labels shape: 512\n",
            "Input IDs shape: 512\n",
            "Labels shape: 512\n",
            "Input IDs shape: 512\n",
            "Labels shape: 512\n",
            "Input IDs shape: 512\n",
            "Labels shape: 512\n",
            "Input IDs shape: 512\n",
            "Labels shape: 512\n",
            "Input IDs shape: 512\n",
            "Labels shape: 512\n",
            "Input IDs shape: 512\n",
            "Labels shape: 512\n",
            "Input IDs shape: 512\n",
            "Labels shape: 512\n",
            "Input IDs shape: 512\n",
            "Labels shape: 512\n",
            "Input IDs shape: 512\n",
            "Labels shape: 512\n",
            "Input IDs shape: 512\n",
            "Labels shape: 512\n",
            "Input IDs shape: 512\n",
            "Labels shape: 512\n",
            "Input IDs shape: 512\n",
            "Labels shape: 512\n",
            "Input IDs shape: 512\n",
            "Labels shape: 512\n",
            "Input IDs shape: 512\n",
            "Labels shape: 512\n",
            "Input IDs shape: 512\n",
            "Labels shape: 512\n",
            "Input IDs shape: 512\n",
            "Labels shape: 512\n",
            "Input IDs shape: 512\n",
            "Labels shape: 512\n",
            "Input IDs shape: 512\n",
            "Labels shape: 512\n",
            "Input IDs shape: 512\n",
            "Labels shape: 512\n",
            "Input IDs shape: 512\n",
            "Labels shape: 512\n",
            "Input IDs shape: 512\n",
            "Labels shape: 512\n",
            "Input IDs shape: 512\n",
            "Labels shape: 512\n",
            "Input IDs shape: 512\n",
            "Labels shape: 512\n",
            "Input IDs shape: 512\n",
            "Labels shape: 512\n",
            "Input IDs shape: 512\n",
            "Labels shape: 512\n",
            "Input IDs shape: 512\n",
            "Labels shape: 512\n",
            "Input IDs shape: 512\n",
            "Labels shape: 512\n",
            "Input IDs shape: 512\n",
            "Labels shape: 512\n",
            "Input IDs shape: 512\n",
            "Labels shape: 512\n",
            "Input IDs shape: 512\n",
            "Labels shape: 512\n",
            "Input IDs shape: 512\n",
            "Labels shape: 512\n",
            "Input IDs shape: 512\n",
            "Labels shape: 512\n",
            "Input IDs shape: 512\n",
            "Labels shape: 512\n",
            "Input IDs shape: 512\n",
            "Labels shape: 512\n",
            "Input IDs shape: 512\n",
            "Labels shape: 512\n",
            "Input IDs shape: 512\n",
            "Labels shape: 512\n",
            "Input IDs shape: 512\n",
            "Labels shape: 512\n",
            "Input IDs shape: 512\n",
            "Labels shape: 512\n",
            "Input IDs shape: 512\n",
            "Labels shape: 512\n",
            "Input IDs shape: 512\n",
            "Labels shape: 512\n",
            "Input IDs shape: 512\n",
            "Labels shape: 512\n",
            "Input IDs shape: 512\n",
            "Labels shape: 512\n",
            "Input IDs shape: 512\n",
            "Labels shape: 512\n",
            "Input IDs shape: 512\n",
            "Labels shape: 512\n",
            "Input IDs shape: 512\n",
            "Labels shape: 512\n",
            "Input IDs shape: 512\n",
            "Labels shape: 512\n",
            "Input IDs shape: 512\n",
            "Labels shape: 512\n",
            "Input IDs shape: 512\n",
            "Labels shape: 512\n",
            "Input IDs shape: 512\n",
            "Labels shape: 512\n",
            "Input IDs shape: 512\n",
            "Labels shape: 512\n",
            "Input IDs shape: 512\n",
            "Labels shape: 512\n",
            "Input IDs shape: 512\n",
            "Labels shape: 512\n",
            "Input IDs shape: 512\n",
            "Labels shape: 512\n",
            "Input IDs shape: 512\n",
            "Labels shape: 512\n",
            "Input IDs shape: 512\n",
            "Labels shape: 512\n",
            "Input IDs shape: 512\n",
            "Labels shape: 512\n",
            "Input IDs shape: 512\n",
            "Labels shape: 512\n",
            "Input IDs shape: 512\n",
            "Labels shape: 512\n",
            "Input IDs shape: 512\n",
            "Labels shape: 512\n",
            "Input IDs shape: 512\n",
            "Labels shape: 512\n",
            "Input IDs shape: 512\n",
            "Labels shape: 512\n",
            "Input IDs shape: 512\n",
            "Labels shape: 512\n",
            "Input IDs shape: 512\n",
            "Labels shape: 512\n",
            "Input IDs shape: 512\n",
            "Labels shape: 512\n",
            "Input IDs shape: 512\n",
            "Labels shape: 512\n",
            "Input IDs shape: 512\n",
            "Labels shape: 512\n",
            "Input IDs shape: 512\n",
            "Labels shape: 512\n",
            "Input IDs shape: 512\n",
            "Labels shape: 512\n",
            "Input IDs shape: 512\n",
            "Labels shape: 512\n",
            "Input IDs shape: 512\n",
            "Labels shape: 512\n",
            "Input IDs shape: 512\n",
            "Labels shape: 512\n",
            "Input IDs shape: 512\n",
            "Labels shape: 512\n",
            "Input IDs shape: 512\n",
            "Labels shape: 512\n",
            "Input IDs shape: 512\n",
            "Labels shape: 512\n",
            "Input IDs shape: 512\n",
            "Labels shape: 512\n",
            "Input IDs shape: 512\n",
            "Labels shape: 512\n",
            "Input IDs shape: 512\n",
            "Labels shape: 512\n",
            "Input IDs shape: 512\n",
            "Labels shape: 512\n",
            "Input IDs shape: 512\n",
            "Labels shape: 512\n",
            "Input IDs shape: 512\n",
            "Labels shape: 512\n",
            "Input IDs shape: 512\n",
            "Labels shape: 512\n",
            "Input IDs shape: 512\n",
            "Labels shape: 512\n",
            "Input IDs shape: 512\n",
            "Labels shape: 512\n",
            "Input IDs shape: 512\n",
            "Labels shape: 512\n",
            "Input IDs shape: 512\n",
            "Labels shape: 512\n",
            "Input IDs shape: 512\n",
            "Labels shape: 512\n",
            "Input IDs shape: 512\n",
            "Labels shape: 512\n",
            "Input IDs shape: 512\n",
            "Labels shape: 512\n",
            "Input IDs shape: 512\n",
            "Labels shape: 512\n",
            "Input IDs shape: 512\n",
            "Labels shape: 512\n",
            "Input IDs shape: 512\n",
            "Labels shape: 512\n",
            "Input IDs shape: 512\n",
            "Labels shape: 512\n",
            "Input IDs shape: 512\n",
            "Labels shape: 512\n",
            "Input IDs shape: 512\n",
            "Labels shape: 512\n",
            "Input IDs shape: 512\n",
            "Labels shape: 512\n",
            "Input IDs shape: 512\n",
            "Labels shape: 512\n",
            "Input IDs shape: 512\n",
            "Labels shape: 512\n",
            "Input IDs shape: 512\n",
            "Labels shape: 512\n"
          ]
        }
      ]
    },
    {
      "cell_type": "code",
      "source": [
        "trainer = Trainer(\n",
        "    model=model,\n",
        "    train_dataset=train_tokenized_datasets,\n",
        "    eval_dataset=val_tokenized_datasets,\n",
        "    # peft_config=lora_config,\n",
        "    tokenizer=tokenizer,\n",
        "    args=training_args\n",
        ")"
      ],
      "metadata": {
        "colab": {
          "base_uri": "https://localhost:8080/"
        },
        "id": "nhHjJt1ZG1tZ",
        "outputId": "c31c0918-af78-4df3-d7d8-0492ff8a85c1"
      },
      "execution_count": 30,
      "outputs": [
        {
          "output_type": "stream",
          "name": "stderr",
          "text": [
            "<ipython-input-30-d18d4ff0eba0>:1: FutureWarning: `tokenizer` is deprecated and will be removed in version 5.0.0 for `Trainer.__init__`. Use `processing_class` instead.\n",
            "  trainer = Trainer(\n"
          ]
        }
      ]
    },
    {
      "cell_type": "code",
      "source": [
        "trainer.train()"
      ],
      "metadata": {
        "id": "rZUpoMDxCBPX",
        "colab": {
          "base_uri": "https://localhost:8080/",
          "height": 204
        },
        "outputId": "fb5146df-1d26-4200-ef07-ae1944b6e056"
      },
      "execution_count": 31,
      "outputs": [
        {
          "output_type": "display_data",
          "data": {
            "text/plain": [
              "<IPython.core.display.HTML object>"
            ],
            "text/html": [
              "\n",
              "    <div>\n",
              "      \n",
              "      <progress value='150' max='150' style='width:300px; height:20px; vertical-align: middle;'></progress>\n",
              "      [150/150 05:37, Epoch 3/3]\n",
              "    </div>\n",
              "    <table border=\"1\" class=\"dataframe\">\n",
              "  <thead>\n",
              " <tr style=\"text-align: left;\">\n",
              "      <th>Epoch</th>\n",
              "      <th>Training Loss</th>\n",
              "      <th>Validation Loss</th>\n",
              "    </tr>\n",
              "  </thead>\n",
              "  <tbody>\n",
              "    <tr>\n",
              "      <td>1</td>\n",
              "      <td>No log</td>\n",
              "      <td>8.007912</td>\n",
              "    </tr>\n",
              "    <tr>\n",
              "      <td>2</td>\n",
              "      <td>No log</td>\n",
              "      <td>6.686430</td>\n",
              "    </tr>\n",
              "    <tr>\n",
              "      <td>3</td>\n",
              "      <td>No log</td>\n",
              "      <td>6.578727</td>\n",
              "    </tr>\n",
              "  </tbody>\n",
              "</table><p>"
            ]
          },
          "metadata": {}
        },
        {
          "output_type": "execute_result",
          "data": {
            "text/plain": [
              "TrainOutput(global_step=150, training_loss=8.544259440104167, metrics={'train_runtime': 340.165, 'train_samples_per_second': 0.882, 'train_steps_per_second': 0.441, 'total_flos': 3439426063564800.0, 'train_loss': 8.544259440104167, 'epoch': 3.0})"
            ]
          },
          "metadata": {},
          "execution_count": 31
        }
      ]
    },
    {
      "cell_type": "code",
      "source": [
        "# ===== 6. Inference (One-Shot and Few-Shot) =====\n",
        "summarization_pipeline = pipeline(\"text-generation\", model=model, tokenizer=tokenizer)\n",
        "\n",
        "# Contoh teks untuk dirangkum\n",
        "test_text = (\n",
        "    \"Presiden Jokowi mengumumkan kebijakan baru terkait subsidi bahan bakar minyak. Kebijakan ini diambil untuk \"\n",
        "    \"mengurangi beban fiskal negara yang semakin meningkat akibat lonjakan harga minyak dunia. Pemerintah \"\n",
        "    \"berjanji akan mengalokasikan dana subsidi untuk sektor yang lebih produktif seperti pendidikan dan kesehatan.\"\n",
        ")\n",
        "\n",
        "# Summary yang diharapkan (untuk evaluasi)\n",
        "expected_summary = (\n",
        "    \"Presiden Jokowi mengumumkan subsidi bahan bakar akan dialihkan untuk pendidikan dan kesehatan demi \"\n",
        "    \"mengurangi beban fiskal negara.\"\n",
        ")\n",
        "\n",
        "# ===== One-Shot Learning =====\n",
        "# Membuat prompt untuk one-shot\n",
        "one_shot_prompt = f\"\"\"Below is an example of summarization:\n",
        "Article: {sample_article}\n",
        "Summary: {sample_summary}\n",
        "\n",
        "Now, summarize the following article:\n",
        "Article: {test_text}\n",
        "Summary:\"\"\"\n",
        "\n",
        "# Melakukan inference untuk one-shot\n",
        "one_shot_summary = summarization_pipeline(one_shot_prompt, max_new_tokens=50, min_length=20, do_sample=False)\n",
        "\n",
        "# Menampilkan hasil\n",
        "print(\"\\n===== One-Shot Learning =====\")\n",
        "print(\"\\nOriginal Article:\\n\")\n",
        "print(test_text)\n",
        "print(\"\\nExpected Summary:\\n\")\n",
        "print(expected_summary)\n",
        "print(\"\\nGenerated Summary:\\n\")\n",
        "print(one_shot_summary[0]['generated_text'].replace(one_shot_prompt, \"\"))"
      ],
      "metadata": {
        "id": "MBSr9F3aDYw5",
        "colab": {
          "base_uri": "https://localhost:8080/"
        },
        "outputId": "4097f157-c7be-4997-cd3d-e7d7c9c610a7"
      },
      "execution_count": 37,
      "outputs": [
        {
          "output_type": "stream",
          "name": "stderr",
          "text": [
            "Device set to use cuda:0\n",
            "The model 'PeftModelForCausalLM' is not supported for text-generation. Supported models are ['BartForCausalLM', 'BertLMHeadModel', 'BertGenerationDecoder', 'BigBirdForCausalLM', 'BigBirdPegasusForCausalLM', 'BioGptForCausalLM', 'BlenderbotForCausalLM', 'BlenderbotSmallForCausalLM', 'BloomForCausalLM', 'CamembertForCausalLM', 'LlamaForCausalLM', 'CodeGenForCausalLM', 'CohereForCausalLM', 'CpmAntForCausalLM', 'CTRLLMHeadModel', 'Data2VecTextForCausalLM', 'DbrxForCausalLM', 'ElectraForCausalLM', 'ErnieForCausalLM', 'FalconForCausalLM', 'FalconMambaForCausalLM', 'FuyuForCausalLM', 'GemmaForCausalLM', 'Gemma2ForCausalLM', 'GitForCausalLM', 'GlmForCausalLM', 'GPT2LMHeadModel', 'GPT2LMHeadModel', 'GPTBigCodeForCausalLM', 'GPTNeoForCausalLM', 'GPTNeoXForCausalLM', 'GPTNeoXJapaneseForCausalLM', 'GPTJForCausalLM', 'GraniteForCausalLM', 'GraniteMoeForCausalLM', 'JambaForCausalLM', 'JetMoeForCausalLM', 'LlamaForCausalLM', 'MambaForCausalLM', 'Mamba2ForCausalLM', 'MarianForCausalLM', 'MBartForCausalLM', 'MegaForCausalLM', 'MegatronBertForCausalLM', 'MistralForCausalLM', 'MixtralForCausalLM', 'MllamaForCausalLM', 'MoshiForCausalLM', 'MptForCausalLM', 'MusicgenForCausalLM', 'MusicgenMelodyForCausalLM', 'MvpForCausalLM', 'NemotronForCausalLM', 'OlmoForCausalLM', 'Olmo2ForCausalLM', 'OlmoeForCausalLM', 'OpenLlamaForCausalLM', 'OpenAIGPTLMHeadModel', 'OPTForCausalLM', 'PegasusForCausalLM', 'PersimmonForCausalLM', 'PhiForCausalLM', 'Phi3ForCausalLM', 'PhimoeForCausalLM', 'PLBartForCausalLM', 'ProphetNetForCausalLM', 'QDQBertLMHeadModel', 'Qwen2ForCausalLM', 'Qwen2MoeForCausalLM', 'RecurrentGemmaForCausalLM', 'ReformerModelWithLMHead', 'RemBertForCausalLM', 'RobertaForCausalLM', 'RobertaPreLayerNormForCausalLM', 'RoCBertForCausalLM', 'RoFormerForCausalLM', 'RwkvForCausalLM', 'Speech2Text2ForCausalLM', 'StableLmForCausalLM', 'Starcoder2ForCausalLM', 'TransfoXLLMHeadModel', 'TrOCRForCausalLM', 'WhisperForCausalLM', 'XGLMForCausalLM', 'XLMWithLMHeadModel', 'XLMProphetNetForCausalLM', 'XLMRobertaForCausalLM', 'XLMRobertaXLForCausalLM', 'XLNetLMHeadModel', 'XmodForCausalLM', 'ZambaForCausalLM'].\n"
          ]
        },
        {
          "output_type": "stream",
          "name": "stdout",
          "text": [
            "\n",
            "===== One-Shot Learning =====\n",
            "\n",
            "Original Article:\n",
            "\n",
            "Presiden Jokowi mengumumkan kebijakan baru terkait subsidi bahan bakar minyak. Kebijakan ini diambil untuk mengurangi beban fiskal negara yang semakin meningkat akibat lonjakan harga minyak dunia. Pemerintah berjanji akan mengalokasikan dana subsidi untuk sektor yang lebih produktif seperti pendidikan dan kesehatan.\n",
            "\n",
            "Expected Summary:\n",
            "\n",
            "Presiden Jokowi mengumumkan subsidi bahan bakar akan dialihkan untuk pendidikan dan kesehatan demi mengurangi beban fiskal negara.\n",
            "\n",
            "Generated Summary:\n",
            "\n",
            " Jok diumkanananananananananananananananananananananananananananananananananananananananananananananan\n"
          ]
        }
      ]
    },
    {
      "cell_type": "code",
      "source": [
        "# ===== Few-Shot Learning =====\n",
        "# Membuat prompt untuk few-shot\n",
        "few_shot_prompt = f\"\"\"Below is an example of summarization:\n",
        "Article: {sample_article}\n",
        "Summary: {sample_summary}\n",
        "Article: {sample_article1}\n",
        "Summary: {sample_summary1}\n",
        "\n",
        "Now, summarize the following article:\n",
        "Article: {test_text}\n",
        "Summary:\"\"\"\n",
        "\n",
        "# Melakukan inference untuk few-shot\n",
        "few_shot_summary = summarization_pipeline(few_shot_prompt, max_new_tokens=50, min_length=20, do_sample=False)\n",
        "\n",
        "# Menampilkan hasil\n",
        "print(\"\\n===== Few-Shot Learning =====\")\n",
        "print(\"\\nOriginal Article:\\n\")\n",
        "print(test_text)\n",
        "print(\"\\nExpected Summary:\\n\")\n",
        "print(expected_summary)\n",
        "print(\"\\nGenerated Summary:\\n\")\n",
        "print(few_shot_summary[0]['generated_text'].replace(few_shot_prompt, \"\"))"
      ],
      "metadata": {
        "colab": {
          "base_uri": "https://localhost:8080/"
        },
        "id": "1UBJlmvjwctr",
        "outputId": "c324cedc-e67c-468a-9d2e-7c2683d59d22"
      },
      "execution_count": 38,
      "outputs": [
        {
          "output_type": "stream",
          "name": "stdout",
          "text": [
            "\n",
            "===== Few-Shot Learning =====\n",
            "\n",
            "Original Article:\n",
            "\n",
            "Presiden Jokowi mengumumkan kebijakan baru terkait subsidi bahan bakar minyak. Kebijakan ini diambil untuk mengurangi beban fiskal negara yang semakin meningkat akibat lonjakan harga minyak dunia. Pemerintah berjanji akan mengalokasikan dana subsidi untuk sektor yang lebih produktif seperti pendidikan dan kesehatan.\n",
            "\n",
            "Expected Summary:\n",
            "\n",
            "Presiden Jokowi mengumumkan subsidi bahan bakar akan dialihkan untuk pendidikan dan kesehatan demi mengurangi beban fiskal negara.\n",
            "\n",
            "Generated Summary:\n",
            "\n",
            " Jok diumkanananananananananananananananananananananananananananananananananananananananananananananan\n"
          ]
        }
      ]
    },
    {
      "cell_type": "code",
      "source": [
        "# ===== 7. Evaluasi dengan BLEU =====\n",
        "def evaluate_summary(reference_text, generated_summary):\n",
        "    reference = [reference_text.split()]\n",
        "    candidate = generated_summary.split()\n",
        "    bleu_score = sentence_bleu(reference, candidate)\n",
        "    return bleu_score\n",
        "\n",
        "# Contoh evaluasi dengan teks referensi\n",
        "reference_text = (\n",
        "    \"Presiden Jokowi mengumumkan subsidi bahan bakar akan dialihkan untuk pendidikan dan kesehatan demi \"\n",
        "    \"mengurangi beban fiskal negara.\"\n",
        ")\n",
        "\n",
        "# Evaluasi BLEU untuk One-Shot\n",
        "bleu_score_one_shot = evaluate_summary(reference_text, one_shot_summary[0]['generated_text'].replace(one_shot_prompt, \"\"))\n",
        "print(\"\\nBLEU Score for One-Shot:\\n\")\n",
        "print(f\"BLEU Score: {bleu_score_one_shot:.4f}\")\n",
        "\n",
        "# Evaluasi BLEU untuk Few-Shot\n",
        "bleu_score_few_shot = evaluate_summary(reference_text, few_shot_summary[0]['generated_text'].replace(few_shot_prompt, \"\"))\n",
        "print(\"\\nBLEU Score for Few-Shot:\\n\")\n",
        "print(f\"BLEU Score: {bleu_score_few_shot:.4f}\")"
      ],
      "metadata": {
        "id": "9oh6neu0D2-r",
        "colab": {
          "base_uri": "https://localhost:8080/"
        },
        "outputId": "2aac089f-82a1-4a48-aecb-14049572ad20"
      },
      "execution_count": 39,
      "outputs": [
        {
          "output_type": "stream",
          "name": "stdout",
          "text": [
            "\n",
            "BLEU Score for One-Shot:\n",
            "\n",
            "BLEU Score: 0.0000\n",
            "\n",
            "BLEU Score for Few-Shot:\n",
            "\n",
            "BLEU Score: 0.0000\n"
          ]
        }
      ]
    }
  ]
}